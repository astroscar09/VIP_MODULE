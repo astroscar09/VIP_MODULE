{
 "cells": [
  {
   "cell_type": "markdown",
   "metadata": {},
   "source": [
    "# Introduction to Data Types\n",
    "\n",
    "This notebook will teach you the different data types that are in Python and many of the same data types you will see here will also show up in other programming languages. Data types are important to know because each data type has special properties unique to that particular data type which can affect how your program runs."
   ]
  },
  {
   "cell_type": "markdown",
   "metadata": {},
   "source": [
    "In this notebook we will focus on the main ones you are most likely to use and are the basic building blocks for more advanced concepts. These data types are:\n",
    "\n",
    "1. $\\textbf{Numerical}$\n",
    "\n",
    "    a. Integer\n",
    "    \n",
    "    b. Float\n",
    "\n",
    "\n",
    "2. $\\textbf{Boolean (True/False)}$\n",
    "\n",
    "3. $\\textbf{String (Words/Characters)}$"
   ]
  },
  {
   "cell_type": "markdown",
   "metadata": {},
   "source": [
    "## Data-Type Number 1: Numerical\n",
    "\n",
    "The cool thing about python as opposed to a languange like C++ is that you do not need to specify the data type. Python is smart enough that it can figure it out for you and will auto assign the data type to your value."
   ]
  },
  {
   "cell_type": "code",
   "execution_count": null,
   "metadata": {},
   "outputs": [],
   "source": [
    "#This value will be interpreted by python as an integer\n",
    "5"
   ]
  },
  {
   "cell_type": "code",
   "execution_count": null,
   "metadata": {},
   "outputs": [],
   "source": [
    "#This value will be interpreted by python as a float\n",
    "3.14159"
   ]
  },
  {
   "cell_type": "code",
   "execution_count": null,
   "metadata": {},
   "outputs": [],
   "source": [
    "#This value will be interpreted by python as an integer\n",
    "12"
   ]
  },
  {
   "cell_type": "code",
   "execution_count": null,
   "metadata": {},
   "outputs": [],
   "source": [
    "#This value will be interpreted by python as a float\n",
    "12.34"
   ]
  },
  {
   "cell_type": "code",
   "execution_count": null,
   "metadata": {},
   "outputs": [],
   "source": [
    "#This value will be interpreted by python as an integer\n",
    "15"
   ]
  },
  {
   "cell_type": "code",
   "execution_count": null,
   "metadata": {},
   "outputs": [],
   "source": [
    "#This value will be interpreted by python as a float\n",
    "23.432"
   ]
  },
  {
   "cell_type": "code",
   "execution_count": null,
   "metadata": {},
   "outputs": [],
   "source": [
    "#This value will be interpreted by python as a float\n",
    ".5"
   ]
  },
  {
   "cell_type": "markdown",
   "metadata": {},
   "source": [
    "---\n",
    "To check if these are correct, there is a Python command called $\\textit{type}$ that tells you the data type of whatever you provide it.\n",
    "\n",
    "Lets try this function on all the numbers above and see what we get."
   ]
  },
  {
   "cell_type": "code",
   "execution_count": null,
   "metadata": {},
   "outputs": [],
   "source": [
    "print('5 is type:', type(5))\n",
    "print()\n",
    "print('3.14159 is type:', type(3.14159))\n",
    "print()\n",
    "print('12 is type:', type(12))\n",
    "print()\n",
    "print('12.34 is type:', type(12.34))\n",
    "print()\n",
    "print('15 is type:', type(15))\n",
    "print()\n",
    "print('23.432 is type:', type(24.432))\n",
    "print()\n",
    "print('0.5 is type:', type(.5))"
   ]
  },
  {
   "cell_type": "markdown",
   "metadata": {},
   "source": [
    "While the cell above shows different numerical values, what they all have in common is that they are all numbers. One thing to note is that while they are all numbers the way python interprets each of these numbers is different.\n",
    "\n",
    "## Quick Question\n",
    "\n",
    "Can you tell from the cell above $\\textbf{why}$ some values are classified as Integers and others as float?"
   ]
  },
  {
   "cell_type": "markdown",
   "metadata": {},
   "source": [
    "Let's look at the following example for a subtle check:"
   ]
  },
  {
   "cell_type": "code",
   "execution_count": null,
   "metadata": {},
   "outputs": [],
   "source": [
    "print('12 is type:', type(12))\n",
    "print()\n",
    "print('12.34 is type:', type(12.34))"
   ]
  },
  {
   "cell_type": "code",
   "execution_count": null,
   "metadata": {},
   "outputs": [],
   "source": [
    "print('12 is type:', type(12))\n",
    "print()\n",
    "print('12.34 is type:', type(12.34))\n",
    "\n",
    "print('12. is type:', type(12.))\n",
    "print()\n",
    "print('12.34 is type:', type(12.34))"
   ]
  },
  {
   "cell_type": "markdown",
   "metadata": {},
   "source": [
    "Hopefully you see that the main thing that decides if a value will be an integer or float is the inclusion of a decimal point. "
   ]
  },
  {
   "cell_type": "markdown",
   "metadata": {},
   "source": [
    "## What can we do with Numerical Data?\n",
    "\n",
    "The answer to this is that we can perform mathematical operations, the same mathematical operations you may have seen in your math class such as, addition, subtraction, multiplication, division and raising to a power. These same operations can be done with python and we will go over the syntax for it down below with some examples."
   ]
  },
  {
   "cell_type": "code",
   "execution_count": null,
   "metadata": {},
   "outputs": [],
   "source": [
    "#add\n",
    "\n",
    "print(4+6)\n",
    "print(4+6.)\n",
    "print(4+12.7)\n",
    "\n",
    "#subtract\n",
    "\n",
    "print(4-6)\n",
    "print(4-6.)\n",
    "print(4-12.7)\n",
    "\n",
    "#multiply\n",
    "\n",
    "print(4*6)\n",
    "print(4*6.)\n",
    "print(4*12.7)\n",
    "\n",
    "#divide\n",
    "\n",
    "print(4/6)\n",
    "print(4/6.)\n",
    "print(4/12.7)\n",
    "\n",
    "#raise to a power, note that this is different from lots of \n",
    "#other languanges which use ^ as the raising power operator\n",
    "\n",
    "print(4**6)\n",
    "print(4**6.)\n",
    "print(4**12.7)"
   ]
  },
  {
   "cell_type": "code",
   "execution_count": null,
   "metadata": {},
   "outputs": [],
   "source": [
    "#Python follows PEMDAS: \n",
    "\n",
    "print( (4+2) * 5)\n",
    "print( (4**2 + 2) * 5)\n",
    "print( (4**2 / 2) * 5)\n",
    "print( (4/2)**2 * 5/.5)"
   ]
  },
  {
   "cell_type": "code",
   "execution_count": null,
   "metadata": {},
   "outputs": [],
   "source": [
    "#Introducing Shorthand notation\n",
    "\n",
    "#defining a variable x which is 10\n",
    "x = 10\n",
    "\n",
    "print(x)\n",
    "\n",
    "#shorthand 1\n",
    "#similar to x = x + 5\n",
    "x += 5\n",
    "print()\n",
    "print(x)\n",
    "\n",
    "#shorthand 2\n",
    "#similar to x = x - 5\n",
    "x -= 5\n",
    "print()\n",
    "print(x)\n",
    "\n",
    "#shorthand 3\n",
    "#similar to x = x * 5\n",
    "x *= 5\n",
    "print()\n",
    "print(x)\n",
    "\n",
    "#shorthand 4\n",
    "#similar to x = x / 5\n",
    "x /= 5\n",
    "print()\n",
    "print(x)"
   ]
  },
  {
   "cell_type": "markdown",
   "metadata": {},
   "source": [
    "## Mathematical Notation Summary:\n",
    "\n",
    "Addition Operator: +\n",
    "\n",
    "Subtraction Operator: -\n",
    "\n",
    "Multiplication Operator: *\n",
    "\n",
    "Division Operator: /\n",
    "\n",
    "Raise to a Power Operator: **\n",
    "\n",
    "Shorthand:\n",
    "    1. y += x is the same y = y+x\n",
    "    2. y -= x is the same y = y-x\n",
    "    3. y *= x is the same y = y*x\n",
    "    4. y /= x is the same y = y/x"
   ]
  },
  {
   "cell_type": "markdown",
   "metadata": {},
   "source": [
    "# Some More Division Operations\n",
    "\n",
    "Above we covered the basic division which is the one we are all very familiar with, python and other programming languages have other division operations that may be useful in certain contexts and it is worthwhile covering them here. The two are: \n",
    "\n",
    "1. Remainder division\n",
    "2. Floor Division\n",
    "\n",
    "$\\textbf{Remainder division:}$ is a type of division that takes two number divides them as normal but instead of returning the mathematical division of the two numbers this type of division returns the remainder. The operator for this division is the percent sign %. An example of it in use is the following: 11%2 will return 1 because 2 goes into 11, 5 times and the remainder is 1.\n",
    "\n",
    "$\\textbf{Floor division:}$ is the otherside of remainder division where it will give you the whole number that the numbers divide into. The python syntax for this division is the double backslash //. An example of it in use is the following: 11//2 will return 5 because 2 goes into 11, 5 times.\n",
    "\n",
    "$\\textbf{NOTE:}$ Floor division does not round"
   ]
  },
  {
   "cell_type": "code",
   "execution_count": null,
   "metadata": {},
   "outputs": [],
   "source": [
    "#remainder Division\n",
    "print(5%2)\n",
    "\n",
    "#floor division\n",
    "print(5//2)\n",
    "\n",
    "#regular division\n",
    "print(5/2)"
   ]
  },
  {
   "cell_type": "code",
   "execution_count": null,
   "metadata": {},
   "outputs": [],
   "source": [
    "#NOTE: Floor Division do not round up the value, it just gives you the total number of times a number can go into \n",
    "#another number\n",
    "print(109//10)\n",
    "print()\n",
    "#while this evaluates to 10.9 it will NOT round to 11"
   ]
  },
  {
   "cell_type": "markdown",
   "metadata": {},
   "source": [
    "# Data-Type Number 2: Boolean\n",
    "\n",
    "The next data type we will encounter is called Boolean, which is a fancy word for saying truth values and truth values can be either $\\textbf{True}$ or $\\textbf{False}$. Let us see what happens when we run the following cell and see what True and False evaluate to."
   ]
  },
  {
   "cell_type": "code",
   "execution_count": null,
   "metadata": {},
   "outputs": [],
   "source": [
    "print('True is type:', type(True))\n",
    "print()\n",
    "print('False is type:', type(False))"
   ]
  },
  {
   "cell_type": "markdown",
   "metadata": {},
   "source": [
    "As we can see from the cell output above these $\\textbf{True}$ and $\\textbf{False}$ values are a datatype called bools. These kind of datatypes become very important once you want your code to execute if certain criteria are met."
   ]
  },
  {
   "cell_type": "markdown",
   "metadata": {},
   "source": [
    "This is very useful later on when we talk about conditional statements as Booleans play a crucial role in running some parts of your program instead of others. \n",
    "\n",
    "## So how do we use them in python?\n",
    "\n",
    "There are many ways of using bools and we will cover some of the ways in the next section. \n",
    "\n",
    "1.  Directly assigning the values of $\\textbf{True}$ or $\\textbf{False}$ to a variable. \n",
    "2.  Evaluating expression as these expression will lead to $\\textbf{True}$ or $\\textbf{False}$ statements. \n",
    "    We will also cover how you can directly store the output of an expression into a variable for you to use later"
   ]
  },
  {
   "cell_type": "code",
   "execution_count": null,
   "metadata": {},
   "outputs": [],
   "source": [
    "#1. Direct assignment\n",
    "MyVariable = True\n",
    "Statement = False\n",
    "News = True"
   ]
  },
  {
   "cell_type": "code",
   "execution_count": null,
   "metadata": {},
   "outputs": [],
   "source": [
    "#2. Evaluating Expressions\n",
    "print(4 > 0)\n",
    "print(4 < 0)\n",
    "print(4 == 0)\n",
    "print(4 != 0)"
   ]
  },
  {
   "cell_type": "code",
   "execution_count": null,
   "metadata": {},
   "outputs": [],
   "source": [
    "#We can assign expression evaluations to variables\n",
    "expression1 = 4 > 0\n",
    "expression2 = 4 < 0\n",
    "expression3 = 4 == 0\n",
    "expression4 = 4 != 0"
   ]
  },
  {
   "cell_type": "code",
   "execution_count": null,
   "metadata": {},
   "outputs": [],
   "source": [
    "print(expression1)\n",
    "print(expression2)\n",
    "print(expression3)\n",
    "print(expression4)"
   ]
  },
  {
   "cell_type": "markdown",
   "metadata": {},
   "source": [
    "# Expression Syntax\n",
    "\n",
    "For us to use booleans to our advantage we need to know the syntax for evaluating expression. These expression are the same expressions that you have seen in your math class but with a slightly different notation. \n",
    "\n",
    "The expressions people typically will use are to \n",
    "\n",
    "1. check if one value is greater than another value, or greater than or equal to a value. \n",
    "2. check if a value is less than another or less than or equal to another value. \n",
    "3. check to see if two values are the same. \n",
    "4. check if they are not the same.\n",
    "\n",
    "In the following code cell we show the syntax for each of the expressions above."
   ]
  },
  {
   "cell_type": "code",
   "execution_count": null,
   "metadata": {},
   "outputs": [],
   "source": [
    "#Python Syntax for: \n",
    "\n",
    "#greater than (>)\n",
    "\n",
    "print(5 > 0)\n",
    "\n",
    "#greater than or equal to (>=)\n",
    "\n",
    "print(5 >= 0)\n",
    "\n",
    "#less than (<)\n",
    "\n",
    "print(5 < 0)\n",
    "\n",
    "#less than or equal to (<=)\n",
    "\n",
    "print(5 <= 0)\n",
    "\n",
    "#equal to (==)\n",
    "\n",
    "print(5 == 0) \n",
    "\n",
    "print(5 == 5)\n",
    "#NOTE: in python we need to use two equal sign to set up a boolean expression \n",
    "#a single equal sign will just assign the variable 5 to be equal to 0\n",
    "\n",
    "#not equal to (!=)\n",
    "print(5 != 0)"
   ]
  },
  {
   "cell_type": "code",
   "execution_count": null,
   "metadata": {},
   "outputs": [],
   "source": [
    "#The order matters and also the spaces matter, what happens when you run the following 2 cells?\n",
    "\n",
    "print(5 > = 0)"
   ]
  },
  {
   "cell_type": "code",
   "execution_count": null,
   "metadata": {},
   "outputs": [],
   "source": [
    "print(5 < = 0)"
   ]
  },
  {
   "cell_type": "markdown",
   "metadata": {},
   "source": [
    "You should have gotten two error messages in the above two cells. The only way to fix this error is to remove the spacing."
   ]
  },
  {
   "cell_type": "code",
   "execution_count": null,
   "metadata": {},
   "outputs": [],
   "source": [
    "#Careful when using equal (==) between an int and float sometimes you will get weird results\n",
    "#print this out and see what you get\n",
    "print(12 == 12.0000000000000001)"
   ]
  },
  {
   "cell_type": "markdown",
   "metadata": {},
   "source": [
    "# Explanation:\n",
    "\n",
    "You are probably wondering why 12 == 12.0000000000000001 evalluated to True when we can clearly see that they are two different values and should evaluate to False. The reason for this is that computers are prone to doing floating point errors as in the case here. If you ever are faced with a situation where you need to compare an integer value to a float it is recommended to apply a threshold and use that threshold to then see if the two values are the same. Below is an example code of this:\n",
    "\n"
   ]
  },
  {
   "cell_type": "code",
   "execution_count": null,
   "metadata": {},
   "outputs": [],
   "source": [
    "tolerance = 1e-3 # this is how close we want the two values to be\n",
    "\n",
    "int12 = 12\n",
    "float12 = 12.0000000000000001\n",
    "\n",
    "difference = float12-int12 \n",
    "\n",
    "print(difference < tolerance)"
   ]
  },
  {
   "cell_type": "markdown",
   "metadata": {},
   "source": [
    "# Combining Expressions\n",
    "\n",
    "With boolean expressions you have the ability to build them in complexity and combine expression to get a final result. This combination of expressions is possible through the introduction of two operators we will cover in this section and these are the $\\textbf{and}$ and $\\textbf{or}$ operators. \n",
    "\n",
    "The $\\textbf{and}$ operator takes two expression and only evaluates to $\\textbf{True}$ if both expressions are $\\textbf{True}$, otherwise it returns $\\textbf{False}$. The $\\textbf{and}$ operator can be performed by writing out the word $\\textbf{and}$ in Python and in a jupyter notebook it should turn green indicating that python recognizes you want to apply the $\\textbf{and}$ operator. You can also use the ampersand symbol & to let python know you want to perform an $\\textbf{and}$ operation.\n",
    "\n",
    "the $\\textbf{or}$ operator takes two expressions and evaluates to $\\textbf{True}$ if either expression is True, it will only return $\\textbf{False}$ if both expressions are $\\textbf{False}$. The $\\textbf{or}$ operator can be performed by writing out the word $\\textbf{or}$ in Python and in a jupyter notebook it should turn green indicating that python recognizes you want to apply the $\\textbf{or}$ operator. You can also use the vertical line symbol | (located below the delete/backspace button) to let Python know you want to perform an $\\textbf{or}$ operation.\n",
    "\n",
    "Let us see some examples of how we can combine expressions using the $\\textbf{and}$ and $\\textbf{or}$ operators. "
   ]
  },
  {
   "cell_type": "code",
   "execution_count": null,
   "metadata": {},
   "outputs": [],
   "source": [
    "#Defining a variable x to be 50\n",
    "x = 50\n",
    "\n",
    "#and (&): needs both expressions to be true to evaluate to True\n",
    "print((x > 10) and (x < 40))\n",
    "\n",
    "print((x > 10) and (x < 90))\n",
    "\n",
    "print('----------------')\n",
    "\n",
    "\n",
    "print((x > 10) & (x < 40))\n",
    "\n",
    "print((x > 10) & (x < 90))\n",
    "\n",
    "print('----------------')\n",
    "\n",
    "#or (|): just needs one of the expressions to be true to evaluate to True even if the other one is False\n",
    "print((x > 10) or (x < 40))\n",
    "\n",
    "print((x < 10) or (x < 40))\n",
    "\n",
    "print('----------------')\n",
    "\n",
    "print((x > 10) | (x < 40))\n",
    "\n",
    "print((x < 10) | (x < 40))"
   ]
  },
  {
   "cell_type": "code",
   "execution_count": null,
   "metadata": {},
   "outputs": [],
   "source": [
    "#As in the previous section you can store these expressions into variables\n",
    "\n",
    "#and (&): needs both expressions to be true to evaluate to True\n",
    "expression5 = (x > 10) and (x < 40)\n",
    "\n",
    "expression6 = (x > 10) and (x < 90)\n",
    "\n",
    "print(expression5)\n",
    "print(expression6)\n",
    "\n",
    "print('----------------')\n",
    "\n",
    "\n",
    "expression7 = (x > 10) & (x < 40)\n",
    "\n",
    "expression8 = (x > 10) & (x < 90)\n",
    "\n",
    "print(expression7)\n",
    "print(expression8)\n",
    "\n",
    "print('----------------')\n",
    "\n",
    "#or (|): just needs one of the expressions to be true to evaluate to True even if the other one is False\n",
    "expression9 = (x > 10) or (x < 40)\n",
    "\n",
    "expression10 = (x < 10) or (x < 40)\n",
    "\n",
    "print(expression9)\n",
    "print(expression10)\n",
    "                     \n",
    "print('----------------')\n",
    "\n",
    "expression11 = (x > 10) | (x < 40)\n",
    "\n",
    "expression12 = (x < 10) | (x < 40)\n",
    "\n",
    "print(expression11)\n",
    "print(expression12)"
   ]
  },
  {
   "cell_type": "markdown",
   "metadata": {},
   "source": [
    "# Note on combining expressions\n",
    "\n",
    "In the previous section we covered on combining two expressions there may be times where you are asked to do 3 or more expressions and if you are combining $\\textbf{and}$ and $\\textbf{or}$ statements make sure to use parenthesis around the expressions you want to evaluate correctly.\n",
    "\n",
    "Let us take the following example: let us say that you are given a data set of stars and you are asked to get stars within a range of coordinates, say RA has to be greater than 20 but less than 50 and DEC is between 45 to 50 and you could get either Spectral type G stars or O stars.\n",
    "\n",
    "Let us assume that they store the RA in a variable RA and DEC in variable DEC and the spectral type in a variable spectraltype"
   ]
  },
  {
   "cell_type": "code",
   "execution_count": null,
   "metadata": {},
   "outputs": [],
   "source": [
    "#Note the use of parenthesis to isolate all the conditions and how they will get evaluated as PEMDAS still \n",
    "#Applies here with everything with parenthesis getting evaluated first\n",
    "\n",
    "#First method\n",
    "((20 < RA) & (RA < 50)) & ((45 < DEC) & (DEC < 50)) & (spectraltype == 'G' | spectraltype == 'O') \n"
   ]
  },
  {
   "cell_type": "code",
   "execution_count": null,
   "metadata": {},
   "outputs": [],
   "source": [
    "#second method\n",
    "\n",
    "RA_Condition = ((20 < RA) & (RA < 50))\n",
    "DEC_Condition = ((45 < DEC) & (DEC < 50))\n",
    "spectype_Condition = (spectraltype == 'G' | spectraltype == 'O') \n",
    "\n",
    "RA_Condition & DEC_Condition & spectype_Condition"
   ]
  },
  {
   "cell_type": "markdown",
   "metadata": {},
   "source": [
    "# Data-Type Number 3: String\n",
    "\n",
    "The next data type is a string and it is fancy way of saying letters and words. You can store letters and words into python as a string and the way to do that is to use single or double quotation marks. Strings show up all over the place in astronomy research as you will need to read in files with unique names, you may need to use them to look up a source in a table. Let us go over defining strings in the next couple of cells."
   ]
  },
  {
   "cell_type": "code",
   "execution_count": null,
   "metadata": {},
   "outputs": [],
   "source": [
    "#storing the string Oscar to the variable name, Note the use of single quotations marks to let Python know \n",
    "#that this is a string, if you type it without it you will get an error\n",
    "Name = 'Oscar'\n",
    "type(Name)"
   ]
  },
  {
   "cell_type": "code",
   "execution_count": null,
   "metadata": {},
   "outputs": [],
   "source": [
    "#storing the string Gene to the variable name, Note the use of the double quotations marks to let Python know \n",
    "#that this is a string. Both single quotation and double quotations can be used to denote strings in Python\n",
    "Name1 = \"Gene\"\n",
    "type(Name1)"
   ]
  },
  {
   "cell_type": "code",
   "execution_count": null,
   "metadata": {},
   "outputs": [],
   "source": [
    "Sentence = \"I am learning Python, It is really fun :D!!!\"\n",
    "print(Sentence)"
   ]
  },
  {
   "cell_type": "markdown",
   "metadata": {},
   "source": [
    "## What if what you want to display needs Quotations?\n",
    "\n",
    "To do this you will need to use double quotation marks to outline the string and then you can use single quotation marks for Quotes, like the next cell shows."
   ]
  },
  {
   "cell_type": "code",
   "execution_count": null,
   "metadata": {},
   "outputs": [],
   "source": [
    "Quote = \"The scientist said, 'global warming is a serious threat'!!\"\n",
    "\n",
    "print(Quote)"
   ]
  },
  {
   "cell_type": "markdown",
   "metadata": {},
   "source": [
    "# What can you do with Strings?"
   ]
  },
  {
   "cell_type": "markdown",
   "metadata": {},
   "source": [
    "# 1 Weirdly Enough Some Math :^O!!\n",
    "\n",
    "There is a whole slew of operations that you can do with strings that involve applying mathematical operators to them. The first one we will cover is concatenating two strings through the addition operator. \n",
    "\n",
    "When applied to strings, the addition operator ($\\textbf{+}$) should $\\textbf{NOT}$ be throught of as the same operator as for numerical data types. Instead you should think of this operator, when applied to strings, as a concatenator, merging the strings together into one string.\n",
    "\n",
    "You can also apply the multiplication operator to strings but again this should not be thought of as the same operator being applied to numerical data. When applied to strings the multiplication operator is a way to merge the same text x number of times. An example of this is:\n",
    "\n",
    "'text' * 3 = 'text + 'text' + 'text' = 'texttexttext'"
   ]
  },
  {
   "cell_type": "code",
   "execution_count": null,
   "metadata": {},
   "outputs": [],
   "source": [
    "#Concatenating two strings\n",
    "'Good' + 'Morning'"
   ]
  },
  {
   "cell_type": "code",
   "execution_count": null,
   "metadata": {},
   "outputs": [],
   "source": [
    "#How would you fix this so that there is a space between Good and Morning?\n",
    "\n",
    "#Solution 1: Introduce a space after Good\n",
    "print('Good ' + 'Morning')\n",
    "\n",
    "#Solution 2: Introduce a space before the M in Morning\n",
    "print('Good' + ' Morning')\n",
    "\n",
    "#Solution 3: Introduce an empty string between Good and Morning and concatonate along that\n",
    "print('Good' + ' ' + 'Morning')"
   ]
  },
  {
   "cell_type": "code",
   "execution_count": null,
   "metadata": {},
   "outputs": [],
   "source": [
    "#multiplication(but really it is just quick addition)\n",
    "'Good' * 5"
   ]
  },
  {
   "cell_type": "code",
   "execution_count": null,
   "metadata": {},
   "outputs": [],
   "source": [
    "'Morning' * 3"
   ]
  },
  {
   "cell_type": "markdown",
   "metadata": {},
   "source": [
    "## 2. Indexing\n",
    "\n",
    "Another thing you can do with strings is to subselect a certain part of the string using the index location. Indexing is a way of accessing a certain element within a string or later list and arrays. We need its location to access the element that we are interested. Python is a unique language in that it uses 0th indexing, which means that the 1st element in the string is actually index 0, instead of index 1. So let us say we have a string like \"Finkelstein\", you can think of indexing as every letter in \"Finkelstein\" being associated with an index based on zero so the index letter association for \"Finkelstein\" is outlined below:\n",
    "\n",
    "F = 0, \n",
    "\n",
    "i = 1, \n",
    "\n",
    "n = 2, \n",
    "\n",
    "k = 3, \n",
    "\n",
    "e = 4, \n",
    "\n",
    "l = 5, \n",
    "\n",
    "s = 6, \n",
    "\n",
    "t = 7, \n",
    "\n",
    "e = 8, \n",
    "\n",
    "i = 9, \n",
    "\n",
    "n = 10\n",
    "\n",
    "We can see that the first letter F is index 0, then i is at index 1 and so on. Let us use this knowledge of indexing to get subsections of strings in the next section.\n",
    "\n",
    "To access an element of a string you use the square brackets and the index location of the element you want to get. Let us say we want to get the t in \"Finkelstein\" the way we would do that is:\n",
    "\n",
    "name = \"Finkelstein\"\n",
    "\n",
    "name[7]\n",
    "\n"
   ]
  },
  {
   "cell_type": "code",
   "execution_count": null,
   "metadata": {},
   "outputs": [],
   "source": [
    "#How would I get the O in Oscar?\n",
    "\n",
    "Name = 'Oscar'\n",
    "\n",
    "#Your Answer Here\n"
   ]
  },
  {
   "cell_type": "code",
   "execution_count": null,
   "metadata": {},
   "outputs": [],
   "source": [
    "#How would I get the r in 'Oscar' ?\n",
    "\n",
    "#Method 1\n",
    "print(Name[4])\n",
    "\n",
    "#Method 2\n",
    "print(Name[-1])"
   ]
  },
  {
   "cell_type": "markdown",
   "metadata": {},
   "source": [
    "# Introducing Negative Indexing\n",
    "\n",
    "$\\textbf{Comment:}$ So in the cell above I introduced negative indexing and this is a very convenient way to get items going in reverse order. Say you are writing a code that requires you to get the last item of a string you can use negative indexing to easily get it. Here Python uses the convention that -1 refers to the last item, -2 refers to the second to last item, -3 third to last, etc. "
   ]
  },
  {
   "cell_type": "code",
   "execution_count": null,
   "metadata": {},
   "outputs": [],
   "source": [
    "#How about getting the c? Try this out yourself\n",
    "\n",
    "#Using Method 1\n",
    "print(Name[])\n",
    "\n",
    "#Using Method 2\n",
    "print(Name[])"
   ]
  },
  {
   "cell_type": "markdown",
   "metadata": {},
   "source": [
    "## 2. Slicing\n",
    "\n",
    "Slicing is a cool way to get multiple values from a string really easily. The way to do this is by modifying the index notation we learned above. Let us say you have the following code block:\n",
    "\n",
    "Book_Title = \"To Kill a Mockingbird\"\n",
    "\n",
    "And you want to access just a piece of the title like \"Mockingbird\" to do that you would need to know the starting index for the word Mockingbird, which is figuring out which index the M corresponds to, then count up to the end of the word and add 1.\n",
    "\n",
    "The notation for slicing is shown below with two index values and a colon in between them, which lets python know you only want the elements between starting index and ending index\n",
    "\n",
    "slice = Book_Title[Starting_Index:Ending_Index]\n",
    "\n",
    "The reason why you add one is because the ending index for slicing a string is not inclusive, so you need to add 1 to make sure you get the right word you want otherwise you will be missing one letter. This can also be found through trial and error."
   ]
  },
  {
   "cell_type": "code",
   "execution_count": null,
   "metadata": {},
   "outputs": [],
   "source": [
    "#How would I get the 'Osc' in 'Oscar'? \n",
    "\n",
    "# O  S  C  A  R\n",
    "# 0  1  2  3  4\n",
    "\n",
    "print(Name[0:3])\n",
    "\n",
    "print()\n",
    "\n",
    "#NOTE: By default if you are slicing and you do not specify a starting point python assumes to start\n",
    "#from the beginning so the code below is the same as above\n",
    "print(Name[:3])\n",
    "\n",
    "print()\n",
    "#You can also use negative indexing when you are slicing but just note that the ending index is not inclusive\n",
    "#this means we want to stop at the A which is the second to last element\n",
    "print(Name[:-2])"
   ]
  },
  {
   "cell_type": "code",
   "execution_count": null,
   "metadata": {},
   "outputs": [],
   "source": [
    "#How would I get the 'car' in 'Oscar'? \n",
    "\n",
    "print(Name[2:5])\n",
    "\n",
    "print()\n",
    "\n",
    "#By Default if you do not specify an ending index Python assumes\n",
    "#you want to go until the end of the string\n",
    "print(Name[2:])\n",
    "\n",
    "print()\n",
    "#You can also use negative indexing when you are slicing\n",
    "print(Name[-3:])"
   ]
  },
  {
   "cell_type": "code",
   "execution_count": null,
   "metadata": {},
   "outputs": [],
   "source": [
    "#Try to get the 'sca' in 'Oscar'? \n",
    "\n",
    "print(Name[ : ])"
   ]
  },
  {
   "cell_type": "markdown",
   "metadata": {},
   "source": [
    "## 3. Skipping\n",
    "\n",
    "Skipping is a very niche topic but its use is worth mentioning as the same indexing, slicing and skipping concepts we go over will be repeated when we go over lists and arrays.\n",
    "\n",
    "To skip elements in a string you use the following syntax:\n",
    "\n",
    "Text[start_index : end_index : number_of_indexes_to_skip]"
   ]
  },
  {
   "cell_type": "code",
   "execution_count": null,
   "metadata": {},
   "outputs": [],
   "source": [
    "#How would I get 'Ocr' from 'Oscar'?\n",
    "\n",
    "#Easy way:\n",
    "print('Easy Way')\n",
    "print(Name[0] + Name[2] + Name[4])\n",
    "print()\n",
    "\n",
    "#Skipping\n",
    "print('Using Skipping')\n",
    "print(Name[ : : 2])"
   ]
  },
  {
   "cell_type": "code",
   "execution_count": null,
   "metadata": {},
   "outputs": [],
   "source": [
    "#mess around with skipping using the Quote variable, which we defined above. \n",
    "#start by changing up the starting and ending index and the \n",
    "#number of indices to skip and see what you get\n",
    "Quote[ : : ]"
   ]
  },
  {
   "cell_type": "markdown",
   "metadata": {},
   "source": [
    "# Final Remarks\n",
    "\n",
    "So in this notebook we covered 3 data types: \n",
    "\n",
    "1. Numerical\n",
    "3. Boolean\n",
    "4. Strings\n",
    "\n",
    "And ways to use them in python. We covered mathematical operations that you can apply to numerical data and oddly strings as well. We learned how expressions evaluate to give us boolean values and how we can combine expressions using $\\textbf{and}$ and $\\textbf{or}$ and we learned about indexing, slicing and index skipping. All the skills here will build up in the next section so take your time going through this and understanding each of the concepts covered. "
   ]
  },
  {
   "cell_type": "code",
   "execution_count": null,
   "metadata": {},
   "outputs": [],
   "source": []
  }
 ],
 "metadata": {
  "kernelspec": {
   "display_name": "Python 3 (ipykernel)",
   "language": "python",
   "name": "python3"
  },
  "language_info": {
   "codemirror_mode": {
    "name": "ipython",
    "version": 3
   },
   "file_extension": ".py",
   "mimetype": "text/x-python",
   "name": "python",
   "nbconvert_exporter": "python",
   "pygments_lexer": "ipython3",
   "version": "3.10.13"
  }
 },
 "nbformat": 4,
 "nbformat_minor": 4
}
