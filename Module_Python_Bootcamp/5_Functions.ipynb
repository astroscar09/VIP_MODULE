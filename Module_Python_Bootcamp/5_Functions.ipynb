{
 "cells": [
  {
   "cell_type": "markdown",
   "metadata": {},
   "source": [
    "# Notebook 5: Making Functions in Python"
   ]
  },
  {
   "cell_type": "markdown",
   "metadata": {},
   "source": [
    "Alright so far we have covered four really big topics in python: Data Types, Conditional Statements, Containers, and Loops. This notebook will cover the next big thing in coding and that is how to make functions that use the previous four topics and generalizes them to include any input and values. Functions are at the crux of everything we do and is why knowing how functions are made, how they work and what they return is so important. All programs run on functions!!"
   ]
  },
  {
   "cell_type": "markdown",
   "metadata": {},
   "source": [
    "# So What is a Function?"
   ]
  },
  {
   "cell_type": "markdown",
   "metadata": {},
   "source": [
    "In layman's terms a function is something that requires an input(or many inputs) then does something to the input(s) and then returns something back to you. \n",
    "\n",
    "The simplest example I can think of is a line. The equation of a line is a function and has the the form f(x) = mx + b and if we say that m = 2 and b = 3 we get the following equation: \n",
    "\n",
    "f(x) = 2x + 3 \n",
    "\n",
    "So what does this do? Basically it says give me any x value you can think of and I will give you what y value that corresponds to. So it takes an input x and then it does some math, namely multiplies x by 2 and then adds 3, and then gives you back what the y value is.\n",
    "\n",
    "Lets code this up to get familiar with functions in python. "
   ]
  },
  {
   "cell_type": "markdown",
   "metadata": {},
   "source": [
    "# Syntax for Defining a Function:\n",
    "\n",
    "\n",
    "    You can call your function any name here I just used FunctionName\n",
    "\n",
    "    def FunctionName('Input(s)'):\n",
    "\n",
    "        #Runs some code here to get output\n",
    "\n",
    "        #You need this to return the value back to the user\n",
    "        return Output"
   ]
  },
  {
   "cell_type": "markdown",
   "metadata": {},
   "source": [
    "Let's make a function called Line, that takes an input x, performs the operation 2x + 5 and then returns what that value is"
   ]
  },
  {
   "cell_type": "code",
   "execution_count": 1,
   "metadata": {},
   "outputs": [],
   "source": [
    "#declaring my function name\n",
    "def Line(x):\n",
    "    \n",
    "    #performing the math operation for the line\n",
    "    y = 2*x + 5\n",
    "    \n",
    "    #returning the value we computed above\n",
    "    return y"
   ]
  },
  {
   "cell_type": "markdown",
   "metadata": {},
   "source": [
    "Congratulations we just wrote a python function :D!!\n",
    "\n",
    "Now how do we use it? \n",
    "\n",
    "Simple, we call the function name, give it an input and see what it returns. Let's input into our Line function the number 5"
   ]
  },
  {
   "cell_type": "code",
   "execution_count": 2,
   "metadata": {},
   "outputs": [
    {
     "data": {
      "text/plain": [
       "15"
      ]
     },
     "execution_count": 2,
     "metadata": {},
     "output_type": "execute_result"
    }
   ],
   "source": [
    "Line(5)"
   ]
  },
  {
   "cell_type": "markdown",
   "metadata": {},
   "source": [
    "We got 15 and so this is the y-value that corresponds to x = 5!! Try it out with different numbers and see what you get?"
   ]
  },
  {
   "cell_type": "code",
   "execution_count": null,
   "metadata": {},
   "outputs": [],
   "source": [
    "print(Line())\n",
    "\n",
    "print(Line())\n",
    "\n",
    "print(Line())"
   ]
  },
  {
   "cell_type": "code",
   "execution_count": null,
   "metadata": {},
   "outputs": [],
   "source": [
    "#we can also assign the output of a function into a variable\n",
    "#pretty cool right!!\n",
    "y_13 = Line(13)"
   ]
  },
  {
   "cell_type": "markdown",
   "metadata": {},
   "source": [
    "## Multiple Input Functions"
   ]
  },
  {
   "cell_type": "markdown",
   "metadata": {},
   "source": [
    "The example above was how to make a function in python with one input what if we have more than 1 say 2, 3 or more how would we do that? \n",
    "\n",
    "Well let's take another practical example. If you recall we did if, else statement with money we had on hand and the price of an object we wanted to potentially buy. Lets make this into a function so that for any price and money we can see if we should buy it or wait until the next paycheck."
   ]
  },
  {
   "cell_type": "code",
   "execution_count": 3,
   "metadata": {},
   "outputs": [],
   "source": [
    "def Buy_or_Pass(MoneyAvailable, Price):\n",
    "    \n",
    "    if Price > MoneyAvailable:\n",
    "        return \"Cannot buy, gotta wait until next paycheck :'(\"\n",
    "    \n",
    "    else: \n",
    "        return \"I could buy it, YAY :D!!!\""
   ]
  },
  {
   "cell_type": "markdown",
   "metadata": {},
   "source": [
    "The way we would use this function in Python is similar to that of the Line function we did above. We need to call the function name but this time we need to be considerate about the order of the input. Since we have defined the first entry to be MoneyAvailable and the second entry to be Price the numbers we pass in will be interpretted to be in that order. So Buy_or_Pass(10, 9 will store 10 to the variable MoneyAvaialable and 9 will be stored in the variable Price because that is how we ordered the inputs when we defined the function."
   ]
  },
  {
   "cell_type": "markdown",
   "metadata": {},
   "source": [
    "Let's do a check to see if our function worked: \n",
    "\n",
    "1. Price = 90 and MoneyAvailable = 100\n",
    "2. Price = 190 and MoneyAvailable = 100\n",
    "3. Price = 190 and MoneyAvailable = 200"
   ]
  },
  {
   "cell_type": "code",
   "execution_count": 4,
   "metadata": {},
   "outputs": [
    {
     "data": {
      "text/plain": [
       "'I could buy it, YAY :D!!!'"
      ]
     },
     "execution_count": 4,
     "metadata": {},
     "output_type": "execute_result"
    }
   ],
   "source": [
    "#check Numero 1: Check the order of the inputs\n",
    "Buy_or_Pass(100, 90)"
   ]
  },
  {
   "cell_type": "code",
   "execution_count": 5,
   "metadata": {},
   "outputs": [
    {
     "data": {
      "text/plain": [
       "\"Cannot buy, gotta wait until next paycheck :'(\""
      ]
     },
     "execution_count": 5,
     "metadata": {},
     "output_type": "execute_result"
    }
   ],
   "source": [
    "#What happens when we flip the order\n",
    "Buy_or_Pass(90, 100)"
   ]
  },
  {
   "cell_type": "markdown",
   "metadata": {},
   "source": [
    "Remember what I said about being super explicit when programming, $\\textbf{we}$ may know that 90 refers to the Price and the 100 is the MoneyAvailable but the computer $\\textbf{does not}$ know that. It only knows what you tell it and we defined the function Buy_or_Pass with the inputs in the order MoneyAvailable, Price. So that is how the program will interpret the inputs because we told it to. \n",
    "\n",
    "Now there is a way where you can change the order but you need to be explicit about the variable you want to assign:"
   ]
  },
  {
   "cell_type": "code",
   "execution_count": 6,
   "metadata": {},
   "outputs": [
    {
     "data": {
      "text/plain": [
       "'I could buy it, YAY :D!!!'"
      ]
     },
     "execution_count": 6,
     "metadata": {},
     "output_type": "execute_result"
    }
   ],
   "source": [
    "#changing the order but making it explicit what each number is\n",
    "Buy_or_Pass(Price = 90, MoneyAvailable=100)"
   ]
  },
  {
   "cell_type": "code",
   "execution_count": null,
   "metadata": {},
   "outputs": [],
   "source": [
    "#check Numero 2: Price = 190 and MoneyAvailable = 100 Try it yourself\n",
    "Buy_or_Pass()"
   ]
  },
  {
   "cell_type": "code",
   "execution_count": null,
   "metadata": {},
   "outputs": [],
   "source": [
    "#check Numero 3: Price = 190 and MoneyAvailable = 200 Try it yourself\n",
    "Buy_or_Pass()"
   ]
  },
  {
   "cell_type": "markdown",
   "metadata": {},
   "source": [
    "## Documentation Strings\n",
    "\n",
    "Documentation Strings or DocStrings for short are ways to tell people what your function does. It should have a high-level explanation of what the function does and should include the input parameter names and their data types and it should also include what the function outputs and the datatype. DocStrings are done when making the function and is done by using 2 sets of 3 quotation marks. An example of a doc string is shown below: \n",
    "\n",
    "    def FunctionName('Input(s)'):\n",
    "        '''\n",
    "        Beginning of the Documentation String:\n",
    "\n",
    "        Include basic operation of the function, basically what does this function do\n",
    "\n",
    "        Parameters (Input(s))\n",
    "        --------------\n",
    "        Here you will put the Inputs and the data type that they belong to and a brief summary\n",
    "\n",
    "\n",
    "        Return (Outputs)\n",
    "        --------------\n",
    "        What the function returns, if applicable, and the data type that it returns it. \n",
    "        (i.e. string, list, int, float)\n",
    "        '''\n",
    "\n",
    "        #some code\n",
    "\n",
    "        return Output"
   ]
  },
  {
   "cell_type": "markdown",
   "metadata": {},
   "source": [
    "# Line Function DocString\n",
    "\n",
    "Lets make a DocString to the Line function we made above."
   ]
  },
  {
   "cell_type": "code",
   "execution_count": null,
   "metadata": {},
   "outputs": [],
   "source": [
    "def Line(x):\n",
    "    \n",
    "    '''\n",
    "    This function gives you the y value of a line for a given x using y = 2x+5\n",
    "    \n",
    "    Parameter\n",
    "    ----------\n",
    "    x (float or int): the value to calculate the y-value for\n",
    "    \n",
    "    Returns\n",
    "    ----------\n",
    "    y (float or int): the y-value for the corresponding x-input\n",
    "    '''\n",
    "    #performing operation\n",
    "    y = 2*x + 5\n",
    "    \n",
    "    #returning the value \n",
    "    return y"
   ]
  },
  {
   "cell_type": "markdown",
   "metadata": {},
   "source": [
    "# Other Niche Function Features\n",
    "\n",
    "## 1. Predefining Inputs\n",
    "\n",
    "One of the things that we can do with functions is predefine an input. The way we would do this is as we are defining the function when we are making the inputs set an input equal to a value. Python is quirky in that you would need to have predefined inputs after your nondefined inputs. \n",
    "\n",
    "\n",
    "    def FunctionName('NonDefinedInputs', 'DefinedInput1' = Value, 'DefinedInput2' = Value):\n",
    "\n",
    "        '''\n",
    "        Beginning of the Documentation String:\n",
    "\n",
    "        Include basic operation of the function, basically what does this function do\n",
    "\n",
    "        Parameters (Input(s))\n",
    "        --------------\n",
    "        Here you will put the Inputs and the data type that they belong to and a brief summary\n",
    "\n",
    "\n",
    "        Return (Outputs)\n",
    "        --------------\n",
    "        What the function returns, if applicable, and the data type that it returns it. \n",
    "        (i.e. string, list, int, float)\n",
    "        '''\n",
    "\n",
    "        #some code\n",
    "\n",
    "        return Output\n",
    "        \n",
    "Let us see some example of this in use with increasing complexity."
   ]
  },
  {
   "cell_type": "code",
   "execution_count": 6,
   "metadata": {},
   "outputs": [],
   "source": [
    "def Display_for_Game(Welcome = True):\n",
    "    \n",
    "    '''\n",
    "    This function is the welcome prompt for the guessing game.\n",
    "    \n",
    "    Inputs\n",
    "    -----------\n",
    "    Welcome (bool): A boolean value that indicates whether to show the welcome prompt or not\n",
    "    '''\n",
    "    \n",
    "    if Welcome:\n",
    "        \n",
    "        print('Welcome to the Guessing Game!!')\n",
    "        print('To play the game input Y for yes, to not play input N for no.')\n",
    "        \n",
    "    else:\n",
    "        print('Thanks for playing the guessing game would you like to play again?')\n",
    "        \n",
    "#this is also a good example of a function that does not return anything which not all functions have to\n",
    "#it all depends on the purpose of the function and if you need the output of it to do something else"
   ]
  },
  {
   "cell_type": "code",
   "execution_count": 7,
   "metadata": {},
   "outputs": [],
   "source": [
    "def Dividing_Function(a, b, Floor = False, Remainder = False):\n",
    "    \n",
    "    '''\n",
    "    This function has the capacity to return any kind of Pythonic division by specifying \n",
    "    the keyword and setting it to True. Default functionality is to do regular division.\n",
    "    \n",
    "    With a being divided by b\n",
    "    \n",
    "    Parameters\n",
    "    -------------\n",
    "    a: number in the numerator \n",
    "    b: number in the denominator\n",
    "    \n",
    "    Returns\n",
    "    -------------\n",
    "    Depending on the Conditions\n",
    "    \n",
    "    number resulting from the specified divisions\n",
    "    '''\n",
    "    \n",
    "    if Floor:\n",
    "        \n",
    "        return a//b\n",
    "    \n",
    "    elif Remainder:\n",
    "        return a % b\n",
    "        \n",
    "    else:\n",
    "        return a/b\n",
    "        "
   ]
  },
  {
   "cell_type": "markdown",
   "metadata": {},
   "source": [
    "## 2. Having Functions within Functions\n",
    "\n",
    "Often times you will come across times where you will need write a function that takes another function as input. \n",
    "The good news is that this is entirely possible to do. All that is needed is to make sure that the inputs from the function you want to use are also in the new function. This is definitely one where an example will make this clear."
   ]
  },
  {
   "cell_type": "code",
   "execution_count": 7,
   "metadata": {},
   "outputs": [],
   "source": [
    "def addNums(a, b):\n",
    "    \n",
    "    '''\n",
    "    Function that adds two numbers a and b\n",
    "    \n",
    "    Inputs\n",
    "    -------------\n",
    "    a: any number\n",
    "    b: any number\n",
    "    \n",
    "    Returns\n",
    "    ------------\n",
    "    a+b\n",
    "    '''\n",
    "    \n",
    "    return a+b\n",
    "\n",
    "def multiply(a, b):\n",
    "    \n",
    "    '''\n",
    "    Function that multiplies two numbers a and b\n",
    "    \n",
    "    Inputs\n",
    "    -------------\n",
    "    a: any number\n",
    "    b: any number\n",
    "    \n",
    "    Returns\n",
    "    ------------\n",
    "    a*b\n",
    "    '''\n",
    "    \n",
    "    return a*b\n",
    "\n",
    "def perform_math(a, b, c, d):\n",
    "    \n",
    "    '''\n",
    "    Function that takes two inputs and adds them then takes the other two inputs and mutliplies them \n",
    "    then dividing the results\n",
    "    \n",
    "    add(a, b) / multiply(c, d)\n",
    "    \n",
    "    Inputs\n",
    "    --------\n",
    "    a: any number\n",
    "    b: any number\n",
    "    c: any number\n",
    "    d: any number\n",
    "    \n",
    "    Returns\n",
    "    -----------\n",
    "    Number \n",
    "    \n",
    "    '''\n",
    "    summation = addNums(a, b)\n",
    "    multiplication = multiply(c, d)\n",
    "    \n",
    "    result = summation/multiplication\n",
    "    \n",
    "    return result"
   ]
  },
  {
   "cell_type": "code",
   "execution_count": 8,
   "metadata": {},
   "outputs": [
    {
     "data": {
      "text/plain": [
       "6.5625"
      ]
     },
     "execution_count": 8,
     "metadata": {},
     "output_type": "execute_result"
    }
   ],
   "source": [
    "perform_math(100, 5, 2, 8)"
   ]
  },
  {
   "cell_type": "markdown",
   "metadata": {},
   "source": [
    "In the above example we have made a function that adds 2 number and mutliplies 2 numbers. I then needed those two functions in a third function called perform_math which carries out those calculations on a set of inputs. Note that I needed the perform_math to have 4 inputs because addNums needed 2 and multiply needed 2. So if you want to have a function in another function just make sure that inputs are carried over into the new function they will be used inside of. "
   ]
  },
  {
   "cell_type": "markdown",
   "metadata": {},
   "source": [
    "# 3. Unit Testing / Modular Functions\n",
    "\n",
    "This is a concept in that you want to make your function do a couple of tasks. This is because if they do, say, one task, it will be easy to perform a concept called unit testing. Unit testing is a way of checking your functions and making sure that they are giving you the desired output. This also comes into the concept of Modular functions where by having them do a single or a couple of tasks it is easy to build up and scale your code to meet the demand of large data if it ever comes to that in your research. "
   ]
  },
  {
   "cell_type": "code",
   "execution_count": null,
   "metadata": {},
   "outputs": [],
   "source": [
    "import pandas as pd\n",
    "\n",
    "def reading_file(filename):\n",
    "    \n",
    "    '''\n",
    "    Function that reads in the data\n",
    "    \n",
    "    Input\n",
    "    -------\n",
    "    filename: the filename or filepath of the file to read must be in csv format\n",
    "    \n",
    "    \n",
    "    Returns\n",
    "    -----------\n",
    "    data: data in the form of a pandas dataframe\n",
    "    '''\n",
    "    \n",
    "    data = pd.read_csv(filename)\n",
    "    \n",
    "    return data\n",
    "\n",
    "def filter_data(DF):\n",
    "    \n",
    "    '''\n",
    "    Function to filter the data according to RA and DEC\n",
    "    \n",
    "    Input\n",
    "    -----------\n",
    "    DF: data (pandas Dataframe)\n",
    "    \n",
    "    Returns\n",
    "    -----------\n",
    "    filtered_DF\n",
    "    '''\n",
    "    \n",
    "    RA_region = (270 < DF.RA.values) & (DF.RA.values < 271)\n",
    "    DEC_region = (70 < DF.DEC.values) & (DF.DEC.values < 71)\n",
    "    \n",
    "    mask = RA_region & DEC_region\n",
    "    filtered_DF = DF[mask]\n",
    "    \n",
    "    return filtered_DF\n",
    "\n",
    "def high_z_selector(DF):\n",
    "    \n",
    "    '''\n",
    "    Function to select high-z sources\n",
    "    \n",
    "    Inputs\n",
    "    -----------\n",
    "    \n",
    "    DF: DF after it has been filtered\n",
    "    \n",
    "    Returns\n",
    "    ------------\n",
    "    \n",
    "    DF \n",
    "    '''\n",
    "    \n",
    "    high_z_mask = DF.zphot > 6\n",
    "    \n",
    "    return DF[high_z_mask]"
   ]
  },
  {
   "cell_type": "markdown",
   "metadata": {},
   "source": [
    "The above example is some small subset of a larger code for research purposes but you can see how each function does a specific task and it is relatively easy to unit test by checking the output of the function. "
   ]
  },
  {
   "cell_type": "markdown",
   "metadata": {},
   "source": [
    "# Advice:\n",
    "\n",
    "If you find yourself copying and pasting a lot of code and changing only a few things I highly encourage you to write a function and have the things you are changing be inputs for the function. "
   ]
  },
  {
   "cell_type": "markdown",
   "metadata": {},
   "source": [
    "# Excercises"
   ]
  },
  {
   "cell_type": "markdown",
   "metadata": {},
   "source": [
    "# Excercise Numero 1:\n",
    "\n",
    "Write a Python function to sum all the numbers in a list.\n",
    "\n",
    "Sample List : (8, 2, 3, 0, 7)\n",
    "\n",
    "Expected Output : 20"
   ]
  },
  {
   "cell_type": "code",
   "execution_count": null,
   "metadata": {},
   "outputs": [],
   "source": [
    "#code here\n",
    "\n",
    "\n",
    "\n",
    "\n",
    "\n",
    "\n"
   ]
  },
  {
   "cell_type": "code",
   "execution_count": null,
   "metadata": {},
   "outputs": [],
   "source": []
  },
  {
   "cell_type": "markdown",
   "metadata": {},
   "source": [
    "# Excercise Numero 2:\n",
    "\n",
    "Write a Python Function to reverse a string.\n",
    "\n",
    "Sample String : \"1234abcd\"\n",
    "\n",
    "Expected Output : \"dcba4321\""
   ]
  },
  {
   "cell_type": "code",
   "execution_count": null,
   "metadata": {},
   "outputs": [],
   "source": [
    "#Code Here\n",
    "\n",
    "\n",
    "\n",
    "\n",
    "\n"
   ]
  },
  {
   "cell_type": "markdown",
   "metadata": {},
   "source": [
    "# Excercise Numero 3:\n",
    "\n",
    "Write a Python function that takes a list and returns a new list with distinct elements from the first list.\n",
    "\n",
    "Sample List : [1,2,3,3,3,3,4,5]\n",
    "\n",
    "Unique List : [1, 2, 3, 4, 5]"
   ]
  },
  {
   "cell_type": "code",
   "execution_count": null,
   "metadata": {},
   "outputs": [],
   "source": [
    "#Code Here\n",
    "\n",
    "\n",
    "\n",
    "\n",
    "\n",
    "\n",
    "\n"
   ]
  }
 ],
 "metadata": {
  "kernelspec": {
   "display_name": "Python 3",
   "language": "python",
   "name": "python3"
  },
  "language_info": {
   "codemirror_mode": {
    "name": "ipython",
    "version": 3
   },
   "file_extension": ".py",
   "mimetype": "text/x-python",
   "name": "python",
   "nbconvert_exporter": "python",
   "pygments_lexer": "ipython3",
   "version": "3.6.13"
  }
 },
 "nbformat": 4,
 "nbformat_minor": 2
}
