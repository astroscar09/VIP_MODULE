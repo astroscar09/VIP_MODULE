{
 "cells": [
  {
   "cell_type": "markdown",
   "metadata": {},
   "source": [
    "# Introduction to Python :D "
   ]
  },
  {
   "cell_type": "markdown",
   "metadata": {},
   "source": [
    "In this notebook we will focus on the data types that you are most likely used to but these are the basic building blocks for more advanced concepts. So having a good understanding of these is crucial for programming. \n",
    "\n",
    "These data types are:\n",
    "\n",
    "1. $\\textbf{Numerical}$\n",
    "\n",
    "    a. Integer\n",
    "    \n",
    "    b. Float\n",
    "\n",
    "\n",
    "2. $\\textbf{Boolean}$\n",
    "    \n",
    "    a. True\n",
    "    \n",
    "    b. False\n",
    "    \n",
    "\n",
    "3. $\\textbf{String (Words/Characters)}$"
   ]
  },
  {
   "cell_type": "markdown",
   "metadata": {},
   "source": [
    "## Data-Type Number 1: Numerical"
   ]
  },
  {
   "cell_type": "code",
   "execution_count": 1,
   "metadata": {},
   "outputs": [
    {
     "name": "stdout",
     "output_type": "stream",
     "text": [
      "5 is type: <class 'int'>\n",
      "\n",
      "3.14159 is type: <class 'float'>\n",
      "\n",
      "12 is type: <class 'int'>\n",
      "\n",
      "12.34 is type: <class 'float'>\n",
      "\n",
      "15 is type: <class 'int'>\n",
      "\n",
      "23.432 is type: <class 'float'>\n",
      "\n",
      "0.5 is type: <class 'float'>\n"
     ]
    }
   ],
   "source": [
    "print('5 is type:', type(5))\n",
    "print()\n",
    "print('3.14159 is type:', type(3.14159))\n",
    "print()\n",
    "print('12 is type:', type(12))\n",
    "print()\n",
    "print('12.34 is type:', type(12.34))\n",
    "print()\n",
    "print('15 is type:', type(15))\n",
    "print()\n",
    "print('23.432 is type:', type(24.432))\n",
    "print()\n",
    "print('0.5 is type:', type(.5))"
   ]
  },
  {
   "cell_type": "code",
   "execution_count": 2,
   "metadata": {},
   "outputs": [
    {
     "name": "stdout",
     "output_type": "stream",
     "text": [
      "12 is type: <class 'int'>\n",
      "\n",
      "12.34 is type: <class 'float'>\n",
      "\n",
      "12. is type: <class 'float'>\n",
      "\n",
      "12.34 is type: <class 'float'>\n"
     ]
    }
   ],
   "source": [
    "print('12 is type:', type(12))\n",
    "print()\n",
    "print('12.34 is type:', type(12.34))\n",
    "print()\n",
    "print('12. is type:', type(12.))\n",
    "print()\n",
    "print('12.34 is type:', type(12.34))"
   ]
  },
  {
   "cell_type": "markdown",
   "metadata": {},
   "source": [
    "## What can we do with Numerical Data?"
   ]
  },
  {
   "cell_type": "code",
   "execution_count": 3,
   "metadata": {},
   "outputs": [
    {
     "name": "stdout",
     "output_type": "stream",
     "text": [
      "10\n",
      "10.0\n",
      "16.7\n",
      "-2\n",
      "-2.0\n",
      "-8.7\n",
      "24\n",
      "24.0\n",
      "50.8\n",
      "0.6666666666666666\n",
      "0.6666666666666666\n",
      "0.31496062992125984\n",
      "4096\n",
      "4096.0\n",
      "44275338.4654911\n"
     ]
    }
   ],
   "source": [
    "#add\n",
    "\n",
    "print(4+6)\n",
    "print(4+6.)\n",
    "print(4+12.7)\n",
    "\n",
    "#subtract\n",
    "\n",
    "print(4-6)\n",
    "print(4-6.)\n",
    "print(4-12.7)\n",
    "\n",
    "#multiply\n",
    "\n",
    "print(4*6)\n",
    "print(4*6.)\n",
    "print(4*12.7)\n",
    "\n",
    "#divide\n",
    "\n",
    "print(4/6)\n",
    "print(4/6.)\n",
    "print(4/12.7)\n",
    "\n",
    "#raise to a power, note that this is different from lots of \n",
    "#other languanges which use ^ as the raising power operator\n",
    "\n",
    "print(4**6)\n",
    "print(4**6.)\n",
    "print(4**12.7)"
   ]
  },
  {
   "cell_type": "markdown",
   "metadata": {},
   "source": [
    "# Data-Type Number 2: Boolean\n",
    "\n",
    "The next data type we will encounter is called Boolean, which is a fancy word for saying truth values and truth values can be either $\\textbf{True}$ or $\\textbf{False}$. Let us see what happens when we run the following cell and see what True and False evaluate to."
   ]
  },
  {
   "cell_type": "code",
   "execution_count": null,
   "metadata": {},
   "outputs": [],
   "source": [
    "#1. Direct assignment\n",
    "MyVariable = True\n",
    "Statement = False\n",
    "News = True"
   ]
  },
  {
   "cell_type": "code",
   "execution_count": 4,
   "metadata": {},
   "outputs": [
    {
     "ename": "SyntaxError",
     "evalue": "cannot assign to literal (<ipython-input-4-6055bb548576>, line 1)",
     "output_type": "error",
     "traceback": [
      "\u001b[0;36m  File \u001b[0;32m\"<ipython-input-4-6055bb548576>\"\u001b[0;36m, line \u001b[0;32m1\u001b[0m\n\u001b[0;31m    4 = 0\u001b[0m\n\u001b[0m    ^\u001b[0m\n\u001b[0;31mSyntaxError\u001b[0m\u001b[0;31m:\u001b[0m cannot assign to literal\n"
     ]
    }
   ],
   "source": [
    "4 = 0"
   ]
  },
  {
   "cell_type": "code",
   "execution_count": 5,
   "metadata": {},
   "outputs": [
    {
     "name": "stdout",
     "output_type": "stream",
     "text": [
      "True\n",
      "False\n",
      "False\n",
      "True\n"
     ]
    }
   ],
   "source": [
    "#2. Evaluating Expressions\n",
    "print(4 > 0)\n",
    "print(4 < 0)\n",
    "print(4 == 0)\n",
    "print(4 != 0)"
   ]
  },
  {
   "cell_type": "code",
   "execution_count": null,
   "metadata": {},
   "outputs": [],
   "source": [
    "#We can assign expression evaluations to variables\n",
    "expression1 = 4 > 0\n",
    "expression2 = 4 < 0\n",
    "expression3 = 4 == 0\n",
    "expression4 = 4 != 0"
   ]
  },
  {
   "cell_type": "code",
   "execution_count": null,
   "metadata": {},
   "outputs": [],
   "source": []
  },
  {
   "cell_type": "markdown",
   "metadata": {},
   "source": [
    "# Data-Type Number 3: String\n",
    "\n",
    "The next data type is string and is pythons way of saying letters and words. You can store letters and words into python as a string and the way to do that is to use single or double quotation marks. \n",
    "\n",
    "These are used in all sorts of places in coding, especially when you are looking at data that comes from a table as you will need the file path to read in the contents of the file. These file paths are typically in the form of a string. "
   ]
  },
  {
   "cell_type": "code",
   "execution_count": 6,
   "metadata": {},
   "outputs": [
    {
     "data": {
      "text/plain": [
       "str"
      ]
     },
     "execution_count": 6,
     "metadata": {},
     "output_type": "execute_result"
    }
   ],
   "source": [
    "Name = 'Oscar'\n",
    "type(Name)"
   ]
  },
  {
   "cell_type": "code",
   "execution_count": 7,
   "metadata": {},
   "outputs": [
    {
     "data": {
      "text/plain": [
       "str"
      ]
     },
     "execution_count": 7,
     "metadata": {},
     "output_type": "execute_result"
    }
   ],
   "source": [
    "Name1 = \"Gene\"\n",
    "type(Name1)"
   ]
  },
  {
   "cell_type": "code",
   "execution_count": 8,
   "metadata": {},
   "outputs": [
    {
     "name": "stdout",
     "output_type": "stream",
     "text": [
      "I am learning Python, It is really fun :D!!!\n"
     ]
    }
   ],
   "source": [
    "Sentence = \"I am learning Python, It is really fun :D!!!\"\n",
    "print(Sentence)"
   ]
  },
  {
   "cell_type": "markdown",
   "metadata": {},
   "source": [
    "## Quick Pregunta"
   ]
  },
  {
   "cell_type": "code",
   "execution_count": 9,
   "metadata": {},
   "outputs": [
    {
     "name": "stdout",
     "output_type": "stream",
     "text": [
      "<class 'str'>\n"
     ]
    }
   ],
   "source": [
    "test = \"9800\"\n",
    "print(type(test))"
   ]
  },
  {
   "cell_type": "code",
   "execution_count": null,
   "metadata": {},
   "outputs": [],
   "source": []
  }
 ],
 "metadata": {
  "kernelspec": {
   "display_name": "Python 3",
   "language": "python",
   "name": "python3"
  },
  "language_info": {
   "codemirror_mode": {
    "name": "ipython",
    "version": 3
   },
   "file_extension": ".py",
   "mimetype": "text/x-python",
   "name": "python",
   "nbconvert_exporter": "python",
   "pygments_lexer": "ipython3",
   "version": "3.6.13"
  }
 },
 "nbformat": 4,
 "nbformat_minor": 4
}
