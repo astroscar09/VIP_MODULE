{
 "cells": [
  {
   "cell_type": "markdown",
   "metadata": {},
   "source": [
    "# Introduction to Jupyter Notebook\n",
    "\n",
    "This notebook will go over some of the basic uses of jupyter notebook and point out some of the nuances as well so that when you are working with the notebooks to be on the look out for."
   ]
  },
  {
   "cell_type": "markdown",
   "metadata": {},
   "source": [
    "# 1. Code Cells\n",
    "\n",
    "Jupyter Notebook works on the basis of cell blocks, each cell block can run its own code, the advantage of this is that it is very good for debugging as you can take a problem section in your script plop it on a jupyter cell and test to see what the problem is. \n",
    "\n",
    "To run code in each cell you need to press $\\textbf{shift + Enter}$\n",
    "\n",
    "Try it out by running the cell below!"
   ]
  },
  {
   "cell_type": "code",
   "execution_count": null,
   "metadata": {},
   "outputs": [],
   "source": [
    "print('Hello World')"
   ]
  },
  {
   "cell_type": "markdown",
   "metadata": {},
   "source": [
    "# 2. Markdown Cells\n",
    "\n",
    "Aside from code cells another very common cell form is the Markdown cell. The Markdown cell acts as a word processor where it will not run any code and anything written in these markdown cells will be displayed on the notebook. All the text shown here are done in Markdown cells.\n",
    "\n",
    "To change the cell block from a code cell to a markdown cell, underneath the Widgets tab and Help there is a pull down menu if you click on that and change it from Code to Markdown then the cell you were just on will convert to a Markdown Cell. Try it out on the cell below, change the cell block from Code to Markdown and write out:\n",
    "\n",
    "This is a Markdown Cell\n",
    "\n",
    "Then use $\\textbf{shift + Enter}$ to run the cell"
   ]
  },
  {
   "cell_type": "code",
   "execution_count": null,
   "metadata": {},
   "outputs": [],
   "source": []
  },
  {
   "cell_type": "markdown",
   "metadata": {},
   "source": [
    "# 3. Notebook Know-Hows\n",
    "\n",
    "1. Add New Cells\n",
    "\n",
    "    a. Go to the last cell and run $\\textbf{shift+Enter}$ and it will generate a new cell directly below it\n",
    "    \n",
    "    b. If you go to any cell and go to the $\\textbf{plus sign}$ below the $\\textbf{File}$ and $\\textbf{Edit}$ button it will generate a new cell directly underneath the cell you are currently on\n",
    "    \n",
    "    c. To do the same as b, you can also go to the insert button in between $\\textbf{View}$ and $\\textbf{Kernel}$ but this method allows you to add a cell directly above the cell you are in."
   ]
  },
  {
   "cell_type": "code",
   "execution_count": null,
   "metadata": {},
   "outputs": [],
   "source": []
  },
  {
   "cell_type": "markdown",
   "metadata": {},
   "source": [
    "2. Delete Cells (NOTE: double check that the cell is indeed the one you want to delete as you cannot undo a deleted cell)\n",
    "\n",
    "    a. To delete a cell go to the cell you want to delete and then click the $\\textbf{scissors}$ icon next to the $\\textbf{plus sign}$ to delete the selected cell\n",
    "    \n",
    "    b. Go to the $\\textbf{Edit}$ tab and select the delete cell option to delete the selected cell"
   ]
  },
  {
   "cell_type": "code",
   "execution_count": null,
   "metadata": {},
   "outputs": [],
   "source": []
  },
  {
   "cell_type": "code",
   "execution_count": null,
   "metadata": {},
   "outputs": [],
   "source": [
    "# Delete this cell using method 1"
   ]
  },
  {
   "cell_type": "code",
   "execution_count": 1,
   "metadata": {},
   "outputs": [],
   "source": [
    "# Delete this cell using Method 2"
   ]
  },
  {
   "cell_type": "markdown",
   "metadata": {},
   "source": [
    "## Nuances of Jupyter Notebook to keep in mind\n",
    "\n",
    "Even though you have the liberty to run individual cells the memory of each cell is $\\textbf{NOT}$ contained within that cell, it is stored in the total memory of the Jupyter Notebook and this means if you defined a variable in one cell and call the same variable in another cell, jupyter will remember when you first called it and return back the value. If you change the value in another cell then this value gets overwritten with the new value defined.\n",
    "\n",
    "So long story short: be careful about copying and pasting code and changing the values of variables as they may get overwritten."
   ]
  },
  {
   "cell_type": "code",
   "execution_count": 6,
   "metadata": {},
   "outputs": [],
   "source": [
    "variable = 5"
   ]
  },
  {
   "cell_type": "code",
   "execution_count": 7,
   "metadata": {},
   "outputs": [
    {
     "data": {
      "text/plain": [
       "5"
      ]
     },
     "execution_count": 7,
     "metadata": {},
     "output_type": "execute_result"
    }
   ],
   "source": [
    "variable"
   ]
  },
  {
   "cell_type": "code",
   "execution_count": 8,
   "metadata": {},
   "outputs": [],
   "source": [
    "variable = 10"
   ]
  },
  {
   "cell_type": "code",
   "execution_count": 9,
   "metadata": {},
   "outputs": [
    {
     "data": {
      "text/plain": [
       "10"
      ]
     },
     "execution_count": 9,
     "metadata": {},
     "output_type": "execute_result"
    }
   ],
   "source": [
    "variable"
   ]
  }
 ],
 "metadata": {
  "kernelspec": {
   "display_name": "Python 3",
   "language": "python",
   "name": "python3"
  },
  "language_info": {
   "codemirror_mode": {
    "name": "ipython",
    "version": 3
   },
   "file_extension": ".py",
   "mimetype": "text/x-python",
   "name": "python",
   "nbconvert_exporter": "python",
   "pygments_lexer": "ipython3",
   "version": "3.8.3"
  }
 },
 "nbformat": 4,
 "nbformat_minor": 4
}
