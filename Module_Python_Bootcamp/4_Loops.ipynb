{
 "cells": [
  {
   "cell_type": "markdown",
   "metadata": {},
   "source": [
    "# Notebook 4: Loops"
   ]
  },
  {
   "cell_type": "markdown",
   "metadata": {},
   "source": [
    "# Quick Recap of Containers:\n",
    "\n",
    "1. Lists\n",
    "\n",
    "    Defined using []\n",
    "    \n",
    "    They keep the order of the elements\n",
    "    \n",
    "    Contents of a list can be changed\n",
    "    \n",
    "    Can store all kinds of datatypes\n",
    "    \n",
    "    You can access the contents of the list using indexing\n",
    "    \n",
    "    \n",
    "2. Tuples\n",
    "    \n",
    "    Defined using ()\n",
    "    \n",
    "    Contents cannot be changed\n",
    "    \n",
    "    They keep the order of the elements\n",
    "    \n",
    "    Can store all kinds of datatypes\n",
    "    \n",
    "    Contents of Tuple easily accessed using Indexing\n",
    "    \n",
    "    \n",
    "3. Dictionaries\n",
    "    \n",
    "    Defined using {}\n",
    "    \n",
    "    Work on a Key-Value pairing\n",
    "    \n",
    "    You can store many kinds of data types in Dictionaries, limit to one value per key\n",
    "    \n",
    "    Contents of Dictionaries accessed using Keys"
   ]
  },
  {
   "cell_type": "markdown",
   "metadata": {},
   "source": [
    "# Loops"
   ]
  },
  {
   "cell_type": "markdown",
   "metadata": {},
   "source": [
    "In this notebook we are going to cover one of pythons most useful features when working with containers or when you want to run a piece of code multiple times and this feature is called Loops. \n",
    "\n",
    "Loops kinda do what you would think they do they loop over a piece of code and execute it multiple times, but exactly how long it executes depends on the types of loops which we will cover in the next cells."
   ]
  },
  {
   "cell_type": "markdown",
   "metadata": {},
   "source": [
    "# 1. While Loop\n",
    "\n",
    "The first loop we will go over is the while loop. The basic premise of a while is that Python iteratively evaluates a conditional set up in the definition of the while loop. If this conditional evaluates to True the code within the while-block is executed, once that code is executed the code goes back to the top of the while loop and checks the conditional, if it is True then the code is executed and the cycle repeats until Python checks the conditional and it evaluates to False. The Python exits the while loop and it moves on to the next sets of line in your code.\n",
    "\n",
    "\n",
    "The big question regarding while loops is for how long will it execute? That honestly depends on the conditional, if the conditional never evaluates to False then it will run forever and you have just made an infinite loop. So to make sure you exit the loop when you want to you need to make sure that the condition you are evaluating eventually becomes False. The syntax for a while loop is:\n",
    "\n",
    "    #definition of a while loop in python\n",
    "\n",
    "    while 'Some Condition is True':\n",
    "\n",
    "        #Execute code here\n",
    "\n",
    "        #some code here to update condition and will make it False"
   ]
  },
  {
   "cell_type": "markdown",
   "metadata": {},
   "source": [
    "## Examples with While Loop"
   ]
  },
  {
   "cell_type": "code",
   "execution_count": null,
   "metadata": {},
   "outputs": [],
   "source": [
    "#defining a variable\n",
    "x = 0\n",
    "\n",
    "#making while loop and it checks the condition if x is less than 10\n",
    "while x < 10:\n",
    "    \n",
    "    #prints out the value of x during the while loop\n",
    "    print(x)\n",
    "    \n",
    "    #this condition is put in to change the value of x otherwise \n",
    "    #we will get an infinite loop\n",
    "    x += 1"
   ]
  },
  {
   "cell_type": "code",
   "execution_count": null,
   "metadata": {},
   "outputs": [],
   "source": [
    "x = 0\n",
    "\n",
    "while x > 10:\n",
    "    \n",
    "    print(x)\n",
    "    \n",
    "    #this condition is put in to change the value of x otherwise \n",
    "    #we will get an infinite loop\n",
    "    x += 1\n"
   ]
  },
  {
   "cell_type": "markdown",
   "metadata": {},
   "source": [
    "# What Happened Here?\n",
    "\n",
    "You may have noticed in the last cell that nothing happened but it ran with no errors. The reason for that is due to the conditional in the while loop. The conditional in the while is checking to see if x > 10 which it is False since we have defined x = 0. Because the conditional evaluated to $\\textbf{False}$ it never executed the while loop and Python then went to the next line of code after the while loop which there is none. \n",
    "\n",
    "This goes to show that while loops will only execute their code block if the conditional is $\\textbf{True}$ and will not run if it is $\\textbf{False}$."
   ]
  },
  {
   "cell_type": "markdown",
   "metadata": {},
   "source": [
    "# Combined Conditionals"
   ]
  },
  {
   "cell_type": "markdown",
   "metadata": {},
   "source": [
    "Everything we have talked about with multiple conditionals all still hold here so you can evaluate two or more expressions in the while loop condition and the while loop will only execute when the entire expression evaluates to True."
   ]
  },
  {
   "cell_type": "code",
   "execution_count": null,
   "metadata": {},
   "outputs": [],
   "source": [
    "#making a number variable\n",
    "number = 50\n",
    "\n",
    "#defining while loop where we are checking to see if number is between 40 and 60\n",
    "while number > 40 and number < 60:\n",
    "    \n",
    "    print(number)\n",
    "    \n",
    "    number += 1"
   ]
  },
  {
   "cell_type": "markdown",
   "metadata": {},
   "source": [
    "# Conceptional Question 1: What would happen if I change 'and' to 'or' in the above loop?\n",
    "\n",
    "Note: do not change it to an \"or\" above. This is strictly a thought questions. \n",
    "\n",
    "---"
   ]
  },
  {
   "cell_type": "markdown",
   "metadata": {},
   "source": [
    "# Using Break to exit While Loop"
   ]
  },
  {
   "cell_type": "markdown",
   "metadata": {},
   "source": [
    "Break is a really cool python command that will break out of $\\textbf{any}$ loop. Break comes in handy when you want your code to run a certain number of times as you can set up a counter variable outside the while loop and then increment it as it goes through the loop, then once that counter variable reaches the amount of times you want to run the code, you can call break and exit the while loop. \n",
    "\n",
    "The following example illustrates this:"
   ]
  },
  {
   "cell_type": "code",
   "execution_count": null,
   "metadata": {},
   "outputs": [],
   "source": [
    "#defining x to be True\n",
    "x = True \n",
    "\n",
    "#assigning counter to be 0\n",
    "counter = 0\n",
    "\n",
    "#making a while loop, note that x is True and there is no way in the code to change that \n",
    "#so this will be an infinite loop but break is going to break out of it once it reaches 10\n",
    "while x:\n",
    "    \n",
    "    #printing counter\n",
    "    print(counter)\n",
    "    \n",
    "    #incrementing counter by 1\n",
    "    counter +=1\n",
    "    \n",
    "    #checking condition if counter is greater than or equal to 10\n",
    "    if counter >= 10: \n",
    "        \n",
    "        #if it is break out of the while loop\n",
    "        break"
   ]
  },
  {
   "cell_type": "markdown",
   "metadata": {},
   "source": [
    "## Nested While Loops\n",
    "\n",
    "One feature of loops is that yoy can have nested while loops. The syntax for this is outlined below and make note of the use of indentation to demark which code-block the code belongs to.\n",
    "\n",
    "    while 'Condition 1 is True':\n",
    "\n",
    "        'execute some code'\n",
    "\n",
    "        while 'Some other condition is True':\n",
    "            'execute this code'\n",
    "\n",
    "        'Code Executed Here will belong to the Condition 1 while loop'"
   ]
  },
  {
   "cell_type": "code",
   "execution_count": null,
   "metadata": {},
   "outputs": [],
   "source": [
    "#making a w variable set to 0\n",
    "w = 0\n",
    "\n",
    "#making u variable set to 0\n",
    "u = 0\n",
    "\n",
    "#checking condition if w is less than 10\n",
    "while w < 10:\n",
    "    \n",
    "    print('I am in W while loop')\n",
    "    print(w)\n",
    "    print('-------------------')\n",
    "   \n",
    "    #checks condition if u is less than 10\n",
    "    while u < 10:\n",
    "        print('I am in U while loop')\n",
    "        print(u)\n",
    "        u += 1\n",
    "    \n",
    "    print()\n",
    "    w+=1"
   ]
  },
  {
   "cell_type": "markdown",
   "metadata": {},
   "source": [
    "## Note: \n",
    "When dealing with nested while loops the inner loop will execute until the condition is done while the outer loop is still on its first loop. Be mindful of this because if you want to redo the inner loop again you would need to reset the variable u like in the example below."
   ]
  },
  {
   "cell_type": "code",
   "execution_count": null,
   "metadata": {},
   "outputs": [],
   "source": [
    "w = 0\n",
    "u = 0\n",
    "\n",
    "while w < 4:\n",
    "    \n",
    "    print('I am in W while loop')\n",
    "    print(w)\n",
    "    print('-------------------')\n",
    "    \n",
    "    while u < 4:\n",
    "        \n",
    "        print('I am in U while loop')\n",
    "        print(u)\n",
    "        u += 1\n",
    "    \n",
    "    print()\n",
    "    \n",
    "    #this resets u to zero and will go into the inner while loop in the next iteration\n",
    "    u = 0\n",
    "    \n",
    "    w+=1"
   ]
  },
  {
   "cell_type": "markdown",
   "metadata": {},
   "source": [
    "# Exercise Numero 1\n",
    "\n",
    "Write a while loop that adds all the numbers up to 100 (inclusive)."
   ]
  },
  {
   "cell_type": "code",
   "execution_count": null,
   "metadata": {},
   "outputs": [],
   "source": [
    "num = 0"
   ]
  },
  {
   "cell_type": "code",
   "execution_count": null,
   "metadata": {},
   "outputs": [],
   "source": [
    "#Enter Code Here\n",
    "\n",
    "\n",
    "\n",
    "\n",
    "\n",
    "\n"
   ]
  },
  {
   "cell_type": "markdown",
   "metadata": {},
   "source": [
    "# Exercise Numero 2\n",
    "\n",
    "\n",
    "Iterate through the given list using a while loop and if there is a 100, assign the index of 100 to the variable index_100.\n"
   ]
  },
  {
   "cell_type": "code",
   "execution_count": null,
   "metadata": {},
   "outputs": [],
   "source": [
    "lst=[10, 99, 98, 85, 45, 59, 65, 66, 76, 12, 35, 13, 100, 80, 95]\n",
    "index_100 = -9999"
   ]
  },
  {
   "cell_type": "code",
   "execution_count": null,
   "metadata": {},
   "outputs": [],
   "source": [
    "# Your Code Here\n",
    "\n",
    "\n",
    "\n",
    "\n",
    "\n",
    "\n",
    "\n",
    "\n",
    "\n",
    "\n",
    "\n"
   ]
  },
  {
   "cell_type": "markdown",
   "metadata": {},
   "source": [
    "# 2. For Loops\n",
    "\n",
    "For loops are the next looping structure we will cover in this notebook. This looping structure comes in handy when you need to loop over containers such as list and tuples. The structure for the for loop lends itself to this quite nicely. The syntax for the for-loop is shown below:\n",
    "\n",
    "\n",
    "    for 'item' in 'something_iterable':\n",
    "\n",
    "        'Execute some code here!'\n",
    "        \n",
    "The way that for-loops work is to describe it with an example. Take for example a list of values such as [100, 45, 12.23] stored to a variable lst and we write a for loop in the following way:\n",
    "\n",
    "    for num in lst:\n",
    "        print(num)\n",
    "        \n",
    "What the for loop will do is it will assign num to the first entry of lst which is 100 then go into the code block and print out num which is 100, since there is no more code to execute we go back to the top of the for-loop and the second pass around num will be assigned to the next item in lst which is 45 so num is 45 and when we go into the code block to print out num, we will see 45 printed out. There is no other code to execute so we go back to the top of the for loop. The third time around num gets assigned to 12.23 and num goes into the code block where we print out num, which is 12.23 and since there is no more code to execute we go back to the top of the for-loop. But at this stage we went through all the elements in lst, as a result we are done with the for-loop and we go to the lines of code after the for-loop.\n",
    "        \n",
    "NOTE: I reference something_iterable as the second parameter in the for loop and this can be a list or tuple. But I put something_iterbale because even pre-built python functions such as range can return an iterable object. Which we will also cover shortly in the following cells. Let's look at some examples of for-loops."
   ]
  },
  {
   "cell_type": "code",
   "execution_count": null,
   "metadata": {},
   "outputs": [],
   "source": [
    "#defining a list with strings as the entries\n",
    "x = ['Hello', 'I', 'am', 'Testing', 'a', 'For', 'Loop', ':D']\n",
    "\n",
    "#making a for loop where item is the variable name that will get passed into the for-loop code block\n",
    "for item in x:\n",
    "    #as the for loop loops the\n",
    "    #first time around it will be \"Hello\"\n",
    "    #second time is \"I\"\n",
    "    #third time is \"am\" and so on\n",
    "    print(item)"
   ]
  },
  {
   "cell_type": "markdown",
   "metadata": {},
   "source": [
    "# Conceptual Question 2: What do you think the output will be below? \n",
    "\n",
    "Hint: think about the structure of the for loop. "
   ]
  },
  {
   "cell_type": "code",
   "execution_count": null,
   "metadata": {},
   "outputs": [],
   "source": [
    "for item in x:\n",
    "    print(x)"
   ]
  },
  {
   "cell_type": "code",
   "execution_count": null,
   "metadata": {},
   "outputs": [],
   "source": [
    "for item in x:\n",
    "    print(item)\n",
    "    print()\n",
    "    print(x)\n",
    "    print('---------------')\n",
    "    print()"
   ]
  },
  {
   "cell_type": "markdown",
   "metadata": {},
   "source": [
    "# Range\n",
    "\n",
    "For Loops are really good when you have 1 list or iterable to go through so how do you go through multiple lists?\n",
    "\n",
    "For that we will need to loop over index values instead of the items in the list luckily for us there is a built-in Python function to help us do just that: introducing range!!\n",
    "\n",
    "Range returns an object that produces a sequence of integers from start (inclusive)\n",
    "to stop (exclusive) by step. The way range works is that it takes a starting number and an ending number and generates a set of integers between those two bounds, if no lower bounds is given it starts, by defaults, at 0.  If we type range(4) into Python it produces 0, 1, 2, 3. Which are the indexes of a list with 4 elements in it so if we know the length of our list we can pass that into range and get the indexes of that list."
   ]
  },
  {
   "cell_type": "code",
   "execution_count": null,
   "metadata": {},
   "outputs": [],
   "source": [
    "#example with range using 10, this return an object that has \n",
    "#0, 1, 2, 3, 4, 5, 6, 7, 8, 9, 10\n",
    "x = range(10)\n",
    "\n",
    "#For loop, looping over the values in x \n",
    "for i in x:\n",
    "    print(i)"
   ]
  },
  {
   "cell_type": "code",
   "execution_count": null,
   "metadata": {},
   "outputs": [],
   "source": [
    "#Comment: If you do not know the length of a list you can use the len command to find it\n",
    "#then you can use this in python's range function to get the range of indexes\n",
    "\n",
    "len_list = [1,2,3 ,3, 4,43, 5,345 ,456, 5,7 ,\n",
    "            456 ,4,23, 1,23, 4,34, 54,3333 ,45, 4,\n",
    "            32445 ,245, 42,34, 3,5, 43,45 ,3, \n",
    "            543,53]\n",
    "\n",
    "print(f'The Length of the list is: {len(len_list)}')\n",
    "\n",
    "for i in range(len(len_list)):\n",
    "    print(f'Index {i} has value: {len_list[i]}')\n",
    "    "
   ]
  },
  {
   "cell_type": "code",
   "execution_count": null,
   "metadata": {},
   "outputs": [],
   "source": [
    "list1 = range(10, 20) #integers from 10 to 19\n",
    "list2 = range(20, 30) #integers from 20 to 29\n",
    "\n",
    "for idx in range(len(list1)):\n",
    "    print(list1[idx], ' ---- ', list2[idx])"
   ]
  },
  {
   "cell_type": "markdown",
   "metadata": {},
   "source": [
    "# Applying For-Loops to Dictionaries"
   ]
  },
  {
   "cell_type": "code",
   "execution_count": null,
   "metadata": {},
   "outputs": [],
   "source": [
    "#for loops applied to dictionaries\n",
    "dictionary = {'Apple': 2, 'Peach': 3, 'Orange': 4, 'Squash': 2,}"
   ]
  },
  {
   "cell_type": "code",
   "execution_count": null,
   "metadata": {},
   "outputs": [],
   "source": [
    "#get the keys as we need the keys to access the entries of the dictionary\n",
    "dict_keys = dictionary.keys()"
   ]
  },
  {
   "cell_type": "code",
   "execution_count": null,
   "metadata": {},
   "outputs": [],
   "source": [
    "#we will iterate over the keys from the dict_keys list and apply those keys to our dictionary\n",
    "for keys in dict_keys:\n",
    "    print(f'Key {keys} has value {dictionary[keys]}')"
   ]
  },
  {
   "cell_type": "markdown",
   "metadata": {},
   "source": [
    "## Nested for-loops"
   ]
  },
  {
   "cell_type": "code",
   "execution_count": null,
   "metadata": {},
   "outputs": [],
   "source": [
    "for item in 'iterable1':\n",
    "    #execute code\n",
    "    for item2 in 'iterable2':\n",
    "        #execute this code "
   ]
  },
  {
   "cell_type": "code",
   "execution_count": null,
   "metadata": {},
   "outputs": [],
   "source": [
    "a = range(10, 15)\n",
    "b = range(40, 45)\n",
    "\n",
    "for item in a:\n",
    "    print('I am in the A for loop')\n",
    "    print(item)\n",
    "    print('------------')\n",
    "    for other_item in b:\n",
    "        \n",
    "        print('I am in the B for loop')\n",
    "        print(other_item)\n",
    "    print()"
   ]
  },
  {
   "cell_type": "code",
   "execution_count": null,
   "metadata": {},
   "outputs": [],
   "source": [
    "#Using break in for-loops\n",
    "\n",
    "for item in range(20, 50):\n",
    "    \n",
    "    print(item)\n",
    "    if item == 40:\n",
    "        break"
   ]
  },
  {
   "cell_type": "markdown",
   "metadata": {},
   "source": [
    "# Some pretty neat For-Loop commands"
   ]
  },
  {
   "cell_type": "markdown",
   "metadata": {},
   "source": [
    "## 1. Enumerate"
   ]
  },
  {
   "cell_type": "markdown",
   "metadata": {},
   "source": [
    "Enumerate allows someone with just one command to get both the index of the iterable and the item in the iterable. The way you use it is shown in the cell below:"
   ]
  },
  {
   "cell_type": "code",
   "execution_count": null,
   "metadata": {},
   "outputs": [],
   "source": [
    "for index, item in enumerate('Iterable'):\n",
    "    \n",
    "    #Execute code"
   ]
  },
  {
   "cell_type": "code",
   "execution_count": null,
   "metadata": {},
   "outputs": [],
   "source": [
    "x = ['Hello', 'I', 'am', 'Testing', 'a', 'For', 'Loop', ':D']"
   ]
  },
  {
   "cell_type": "code",
   "execution_count": null,
   "metadata": {},
   "outputs": [],
   "source": [
    "for idx, item in enumerate(x):\n",
    "    print('Item: ', item , ' has index: ', idx)\n",
    "    print()"
   ]
  },
  {
   "cell_type": "markdown",
   "metadata": {},
   "source": [
    "## 2. Zip"
   ]
  },
  {
   "cell_type": "markdown",
   "metadata": {},
   "source": [
    "Zip allows one to do fast looping over multiple lists without having to resort to using indexes. Instead what this does is it gives you the elements of each list element wise and then you can access them with multi-variable decleration in the for loop. \n",
    "\n",
    "Much like in the enumerate example where we had index, item as our iterable variables with zip you will have item_list1, item_list2, for the example of 2 lists.\n",
    "\n",
    "Using Zip even takes into account when the list are not the same size and will only go up to the elements they have in common."
   ]
  },
  {
   "cell_type": "code",
   "execution_count": null,
   "metadata": {},
   "outputs": [],
   "source": [
    "#example where a and b are the same length, 5 elements\n",
    "a = range(10, 15)\n",
    "b = range(40, 45)\n",
    "\n",
    "for item_a, item_b in zip(a, b):\n",
    "    \n",
    "    print(item_a, ' ---------- ', item_b)"
   ]
  },
  {
   "cell_type": "code",
   "execution_count": null,
   "metadata": {},
   "outputs": [],
   "source": [
    "#example where a and b have different lengths a = 5, b = 3\n",
    "a = range(10, 15)\n",
    "b = range(40, 43)\n",
    "\n",
    "for item_a, item_b in zip(a, b):\n",
    "    \n",
    "    print(item_a, ' ---------- ', item_b)"
   ]
  },
  {
   "cell_type": "code",
   "execution_count": null,
   "metadata": {},
   "outputs": [],
   "source": [
    "#an example of using zip with 3 iterables\n",
    "a = range(10, 15)\n",
    "b = range(40, 45)\n",
    "c = range(100, 105)\n",
    "\n",
    "for item_a, item_b, item_c in zip(a, b, c):\n",
    "    \n",
    "    print(item_a, ' ---------- ', item_b, '---------------', item_c)"
   ]
  },
  {
   "cell_type": "markdown",
   "metadata": {},
   "source": [
    "### 3. Pass and Continue"
   ]
  },
  {
   "cell_type": "code",
   "execution_count": null,
   "metadata": {},
   "outputs": [],
   "source": [
    "#Using pass in for-loops\n",
    "\n",
    "for item in range(20, 50):\n",
    "    \n",
    "    print(item)\n",
    "    if item > 40:\n",
    "        pass\n",
    "        print('Condition Triggered')\n",
    "    print('After if-statement')"
   ]
  },
  {
   "cell_type": "code",
   "execution_count": null,
   "metadata": {},
   "outputs": [],
   "source": [
    "#Using continue on for-loops\n",
    "\n",
    "for item in range(20, 50):\n",
    "    \n",
    "    print(item)\n",
    "    if item > 40:\n",
    "        continue\n",
    "        print('Condition Triggered')\n",
    "    \n",
    "    print('After if-statement')"
   ]
  },
  {
   "cell_type": "markdown",
   "metadata": {},
   "source": [
    "# Exercise Numero 3\n",
    "\n",
    "Write a piece of code that will take in an list of numbers and will compute the the following:\n",
    "\n",
    "1. Return a list of perfect squares\n",
    "2. Return a list of Odd Numbers\n",
    "3. Return a list of Even Numbers\n",
    "4. Return a list calculating E = $mc^2$ where m is the number in the list and c = 3e8"
   ]
  },
  {
   "cell_type": "code",
   "execution_count": null,
   "metadata": {},
   "outputs": [],
   "source": [
    "import numpy as np\n",
    "#the list for exercise numero 3\n",
    "list_of_numbers = np.random.randint(0, 1000, size = 25)"
   ]
  },
  {
   "cell_type": "code",
   "execution_count": null,
   "metadata": {},
   "outputs": [],
   "source": [
    "# Write your Code Here\n",
    "\n",
    "\n",
    "\n",
    "\n",
    "\n",
    "\n",
    "\n",
    "\n"
   ]
  },
  {
   "cell_type": "markdown",
   "metadata": {},
   "source": [
    "# Exercise Numero 4\n",
    "\n",
    "Using the two lists below and for loops to calculate the following expressions and save the results to a list:\n",
    "\n",
    "1. $r = \\sqrt{x^2 + y^2}$\n",
    "2. z = $x^2 + y^2$\n",
    "\n",
    "Have a list for Fomula 1 and another list for Formula 2"
   ]
  },
  {
   "cell_type": "code",
   "execution_count": null,
   "metadata": {},
   "outputs": [],
   "source": [
    "#The two lists for exercise 4\n",
    "list1 = np.linspace(-10, 10, 50)\n",
    "list2 = np.linspace(-15, 15, 50)"
   ]
  },
  {
   "cell_type": "code",
   "execution_count": null,
   "metadata": {},
   "outputs": [],
   "source": [
    "#Your Code Here\n",
    "\n",
    "\n",
    "\n",
    "\n",
    "\n",
    "\n",
    "\n",
    "\n"
   ]
  }
 ],
 "metadata": {
  "kernelspec": {
   "display_name": "Python 3",
   "language": "python",
   "name": "python3"
  },
  "language_info": {
   "codemirror_mode": {
    "name": "ipython",
    "version": 3
   },
   "file_extension": ".py",
   "mimetype": "text/x-python",
   "name": "python",
   "nbconvert_exporter": "python",
   "pygments_lexer": "ipython3",
   "version": "3.6.13"
  }
 },
 "nbformat": 4,
 "nbformat_minor": 2
}
