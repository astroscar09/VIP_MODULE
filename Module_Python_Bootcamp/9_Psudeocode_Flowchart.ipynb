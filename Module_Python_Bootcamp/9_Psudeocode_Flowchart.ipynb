{
 "cells": [
  {
   "cell_type": "markdown",
   "metadata": {},
   "source": [
    "# Psudeocode and Flowchart"
   ]
  },
  {
   "cell_type": "markdown",
   "metadata": {},
   "source": [
    "Today we are going to be talking about psuedocode and flowcharts. These concepts I would say are as important, if not more important, than the concepts we have covered so far. Psuedocode is a way to put your thoughts onto paper and flowcharts translate those concepts into executable pieces that you can then code up. \n",
    "\n",
    "There are many advantages to doing this:\n",
    "\n",
    "1. Easier time debugging your program\n",
    "2. Once program becomes more complex you can see how everything will get pieced together\n",
    "3. Breaks the task into simpler tasks \n",
    "4. Helps you understand how the computer is thinking"
   ]
  },
  {
   "cell_type": "markdown",
   "metadata": {},
   "source": [
    "Attached into this folder there is a PDF outlining what psuedocode and flowcharts are in detail. Here we will use the concepts outlined in the PDF into practice."
   ]
  },
  {
   "cell_type": "markdown",
   "metadata": {},
   "source": [
    "# Exercise Numero 1\n",
    "\n",
    "The task for this exercise is that you will ask the user to input ANY three numbers and your goal is to determine which of the three numbers the user inputs is the biggest. \n",
    "\n",
    "### Goal:\n",
    "\n",
    "Determine the biggest number that the user inputted out of a set of three inputs\n",
    "\n",
    "Ex: If User inputs numbers: 23, 100, -10 then the code should return the highest number which is 100."
   ]
  },
  {
   "cell_type": "code",
   "execution_count": null,
   "metadata": {},
   "outputs": [],
   "source": [
    "#NOTE: to get a user input in python simply type the following command\n",
    "#WARNING: that this does not save it to a variable this just prompts for user input\n",
    "input('Text that will display on the screen')"
   ]
  },
  {
   "cell_type": "code",
   "execution_count": null,
   "metadata": {},
   "outputs": [],
   "source": [
    "#To save it to a variable simply use the assignment operator and assign the input to a \n",
    "#variable like in the example below, now the user input is saved to user_input\n",
    "user_input = input('Some Text directing user what to input')\n",
    "\n",
    "#one more caveat about the input function is that it saves the value as a string so you need to come\n",
    "#up with a way to get it into a numerical value"
   ]
  },
  {
   "cell_type": "markdown",
   "metadata": {},
   "source": [
    "## Step 1: On a seperate piece of paper or on any writing platform (docs, notes, etc) jot down your psuedocode for this exercise "
   ]
  },
  {
   "cell_type": "markdown",
   "metadata": {},
   "source": [
    "## Step 2: Use https://app.diagrams.net/ and draw your code flowchart"
   ]
  },
  {
   "cell_type": "markdown",
   "metadata": {},
   "source": [
    "## Step 3: Code it up in the cells Below"
   ]
  },
  {
   "cell_type": "code",
   "execution_count": null,
   "metadata": {},
   "outputs": [],
   "source": [
    "#If you need more cells simply click the plus sign in between the save and scissor \n",
    "#button at the top of the jupyter notebook"
   ]
  },
  {
   "cell_type": "code",
   "execution_count": null,
   "metadata": {},
   "outputs": [],
   "source": []
  },
  {
   "cell_type": "code",
   "execution_count": null,
   "metadata": {},
   "outputs": [],
   "source": []
  },
  {
   "cell_type": "code",
   "execution_count": null,
   "metadata": {},
   "outputs": [],
   "source": []
  },
  {
   "cell_type": "code",
   "execution_count": null,
   "metadata": {},
   "outputs": [],
   "source": []
  },
  {
   "cell_type": "code",
   "execution_count": null,
   "metadata": {},
   "outputs": [],
   "source": []
  },
  {
   "cell_type": "code",
   "execution_count": null,
   "metadata": {},
   "outputs": [],
   "source": []
  },
  {
   "cell_type": "code",
   "execution_count": null,
   "metadata": {},
   "outputs": [],
   "source": []
  },
  {
   "cell_type": "code",
   "execution_count": null,
   "metadata": {},
   "outputs": [],
   "source": []
  },
  {
   "cell_type": "code",
   "execution_count": null,
   "metadata": {},
   "outputs": [],
   "source": []
  },
  {
   "cell_type": "code",
   "execution_count": null,
   "metadata": {},
   "outputs": [],
   "source": []
  },
  {
   "cell_type": "code",
   "execution_count": null,
   "metadata": {},
   "outputs": [],
   "source": []
  },
  {
   "cell_type": "markdown",
   "metadata": {},
   "source": [
    "# Exercise Numero 2\n",
    "\n",
    "In this excercise the goal is to compute the final price of an item for a given sales tax. The sales tax is applied to the price of an item via the equation: \n",
    "\n",
    "$Final Price = Initial Price \\times ( 1 + Sales Tax)$\n",
    "\n",
    "Please note that sales tax is typically given as a percentage so you would need to convert that to a decimal to plug it into this equation.\n",
    "\n",
    "\n",
    "### Goal\n",
    "You should have your FinalPrice function take as input any price and sales tax (as a percentage) and compute the final price after applying the sales tax. \n",
    "\n",
    "The FinalPrice Function should also take another function SalesTax_Conversion that takes in the sales tax, as a percentage, and returns the proper decimal form of it to then be used to compute the final Price"
   ]
  },
  {
   "cell_type": "markdown",
   "metadata": {},
   "source": [
    "## Step 1: On a seperate piece of paper or on any writing platform (docs, notes, etc) jot down your psuedocode for this exercise "
   ]
  },
  {
   "cell_type": "markdown",
   "metadata": {},
   "source": [
    "## Step 2: Use https://app.diagrams.net/ and draw your code flowchart"
   ]
  },
  {
   "cell_type": "markdown",
   "metadata": {},
   "source": [
    "## Step 3: Code it up in the cells Below"
   ]
  },
  {
   "cell_type": "code",
   "execution_count": null,
   "metadata": {},
   "outputs": [],
   "source": [
    "#If you need more cells simply click the plus sign in between the save and scissor \n",
    "#button at the top of the jupyter notebook"
   ]
  },
  {
   "cell_type": "code",
   "execution_count": null,
   "metadata": {},
   "outputs": [],
   "source": []
  },
  {
   "cell_type": "code",
   "execution_count": null,
   "metadata": {},
   "outputs": [],
   "source": []
  },
  {
   "cell_type": "code",
   "execution_count": null,
   "metadata": {},
   "outputs": [],
   "source": []
  },
  {
   "cell_type": "code",
   "execution_count": null,
   "metadata": {},
   "outputs": [],
   "source": []
  },
  {
   "cell_type": "code",
   "execution_count": null,
   "metadata": {},
   "outputs": [],
   "source": []
  },
  {
   "cell_type": "code",
   "execution_count": null,
   "metadata": {},
   "outputs": [],
   "source": []
  },
  {
   "cell_type": "code",
   "execution_count": null,
   "metadata": {},
   "outputs": [],
   "source": []
  },
  {
   "cell_type": "code",
   "execution_count": null,
   "metadata": {},
   "outputs": [],
   "source": []
  },
  {
   "cell_type": "code",
   "execution_count": null,
   "metadata": {},
   "outputs": [],
   "source": []
  },
  {
   "cell_type": "code",
   "execution_count": null,
   "metadata": {},
   "outputs": [],
   "source": []
  },
  {
   "cell_type": "code",
   "execution_count": null,
   "metadata": {},
   "outputs": [],
   "source": []
  },
  {
   "cell_type": "markdown",
   "metadata": {},
   "source": [
    "# Exercise Numero 3\n",
    "\n",
    "Let's look at a more Astronomical Example. In the folder there shoudl be a file titled hipparcos_voidmain.csv. This file contains a list of stars at a variety of RA and DEC and our job is going to be to do some analysis on this catalog. The first thing we will ask is to read in the file in whatever format you deem fit and using whatever package necessary to accomplish the task. Once you have read in the File take the columns RAhms and DECdms and convert them to degrees. \n",
    "\n",
    "### RAhms Background:\n",
    "\n",
    "RA in hms stands for Hour minute seconds and is a way of telling astornomers where in RA the source is. In this system the 360 degrees are split across the 24 hours so 24 hours == 360 degrees allowing you to get a conversion factor from hours to degrees, the minutes correspond to arcminutes so 1 minute == 1 arcminute, and 1 degree has 60 arcminutes seconds correspond to arcseconds and in 1 degree there are 3600 arcseconds. You will need to use these conversion factors to get from RAhms to RA in just degrees. To get RA in degrees first convert all the relevant time, hours minutes and seconds to degrees and then sum all of them the total degree so: Hour + minutes + seconds (In units of degrees)\n",
    "\n",
    "### DECdms Background:\n",
    "\n",
    "DEC in dms stands for degree minute seconds and is a way of telling astornomers where in DEC the source is. In this system you would need to convert the minutes to degrees and as with RA minutes here correspond to arcminutes so 1 minute == 1 arcminute, and 1 degree has 60 arcminutes, seconds correspond to arcseconds and in 1 degree there are 3600 arcseconds. You will need to use these conversion factors to get from DECdms to DEC in just degrees. To get DEC in degrees first convert all the relevant time, minutes and seconds to degrees and then sum all of them the total degree so: degree + minutes + seconds (In units of degrees)\n",
    "\n",
    "Once you have done this the last thing that we ask is that you extract the data from the column SpType and select all the sources with a 'G' in the spectral type. \n",
    "\n",
    "### Goal:\n",
    "1. Convert RAhms to RA in degrees\n",
    "2. convert DECdms to DEC in degrees\n",
    "3. Find all the Stars that have a Spectral Type of G in their name \n"
   ]
  },
  {
   "cell_type": "markdown",
   "metadata": {},
   "source": [
    "## Step 1: On a seperate piece of paper or on any writing platform (docs, notes, etc) jot down your psuedocode for this exercise "
   ]
  },
  {
   "cell_type": "markdown",
   "metadata": {},
   "source": [
    "## Step 2: Use https://app.diagrams.net/ and draw your code flowchart"
   ]
  },
  {
   "cell_type": "markdown",
   "metadata": {},
   "source": [
    "## Step 3: Code it up in the cells Below"
   ]
  },
  {
   "cell_type": "code",
   "execution_count": null,
   "metadata": {},
   "outputs": [],
   "source": []
  },
  {
   "cell_type": "code",
   "execution_count": null,
   "metadata": {},
   "outputs": [],
   "source": []
  },
  {
   "cell_type": "code",
   "execution_count": null,
   "metadata": {},
   "outputs": [],
   "source": []
  },
  {
   "cell_type": "code",
   "execution_count": null,
   "metadata": {},
   "outputs": [],
   "source": []
  },
  {
   "cell_type": "code",
   "execution_count": null,
   "metadata": {},
   "outputs": [],
   "source": []
  },
  {
   "cell_type": "code",
   "execution_count": null,
   "metadata": {},
   "outputs": [],
   "source": []
  },
  {
   "cell_type": "code",
   "execution_count": null,
   "metadata": {},
   "outputs": [],
   "source": []
  },
  {
   "cell_type": "code",
   "execution_count": null,
   "metadata": {},
   "outputs": [],
   "source": []
  },
  {
   "cell_type": "code",
   "execution_count": null,
   "metadata": {},
   "outputs": [],
   "source": []
  },
  {
   "cell_type": "code",
   "execution_count": null,
   "metadata": {},
   "outputs": [],
   "source": []
  },
  {
   "cell_type": "code",
   "execution_count": null,
   "metadata": {},
   "outputs": [],
   "source": []
  },
  {
   "cell_type": "code",
   "execution_count": null,
   "metadata": {},
   "outputs": [],
   "source": []
  },
  {
   "cell_type": "code",
   "execution_count": null,
   "metadata": {},
   "outputs": [],
   "source": []
  },
  {
   "cell_type": "code",
   "execution_count": null,
   "metadata": {},
   "outputs": [],
   "source": []
  }
 ],
 "metadata": {
  "kernelspec": {
   "display_name": "Python 3",
   "language": "python",
   "name": "python3"
  },
  "language_info": {
   "codemirror_mode": {
    "name": "ipython",
    "version": 3
   },
   "file_extension": ".py",
   "mimetype": "text/x-python",
   "name": "python",
   "nbconvert_exporter": "python",
   "pygments_lexer": "ipython3",
   "version": "3.6.13"
  }
 },
 "nbformat": 4,
 "nbformat_minor": 2
}
