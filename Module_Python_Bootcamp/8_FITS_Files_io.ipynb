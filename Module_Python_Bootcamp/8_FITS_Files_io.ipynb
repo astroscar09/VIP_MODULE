{
 "cells": [
  {
   "cell_type": "markdown",
   "metadata": {},
   "source": [
    "# Understanding Fits Files\n",
    "\n",
    "The general format for opening a FITS file is still the same as other files like .txt and .csv files bit the idffeence between those and FITS files is that FITS files have their own file structure that can make them a bit more tasking to learn but hopefully at the end of this notebook you will be able to know what a FITS file is and how to comfortably navigate the contents of a FITS file so that you can perform your own Astronomical research or Hobby!!"
   ]
  },
  {
   "cell_type": "markdown",
   "metadata": {},
   "source": [
    "## FITS Format"
   ]
  },
  {
   "attachments": {
    "FITS_Format.png": {
     "image/png": "[encoded data removed]"
    }
   },
   "cell_type": "markdown",
   "metadata": {},
   "source": [
    "![FITS_Format.png](attachment:FITS_Format.png)"
   ]
  },
  {
   "cell_type": "markdown",
   "metadata": {},
   "source": [
    "The above image shows the basic structure for a fits file. Fits files will always have a primary header which may or may not contain data. Then, for very large FITS file, they may have an extension which may store images, a table full of information, or spectroscopic data. "
   ]
  },
  {
   "cell_type": "markdown",
   "metadata": {},
   "source": [
    "# How to access FITS File\n",
    "\n",
    "We will use the astropy package which can be installed on your computer using:\n",
    "\n",
    "pip install astropy\n",
    "\n",
    "Or if you have Anaconda installed:\n",
    "\n",
    "conda install astropy\n",
    "\n",
    "Once you have this installed we will go to their io library and select the package fits"
   ]
  },
  {
   "cell_type": "code",
   "execution_count": null,
   "metadata": {},
   "outputs": [],
   "source": [
    "#Importing the necessary package to read in FITS files\n",
    "from astropy.io import fits"
   ]
  },
  {
   "cell_type": "markdown",
   "metadata": {},
   "source": [
    "# 1. Opening the File"
   ]
  },
  {
   "cell_type": "code",
   "execution_count": null,
   "metadata": {},
   "outputs": [],
   "source": [
    "hdu = fits.open('ud1_01.Y.7673.ell.1d.fits')"
   ]
  },
  {
   "cell_type": "markdown",
   "metadata": {},
   "source": [
    "This command returns to us an object that allows us to explore a quick summary of the FITS file called an HDU (Header-Data Unit).\n",
    "\n",
    "To get some quick summary information about the file we can use the $\\textbf{.info()}$ command to give us a run down as to what is inside the FITS file"
   ]
  },
  {
   "cell_type": "code",
   "execution_count": null,
   "metadata": {},
   "outputs": [],
   "source": [
    "hdu.info()"
   ]
  },
  {
   "cell_type": "markdown",
   "metadata": {},
   "source": [
    "We can see that this particular FITS file has 6 extensions with the type of data contained in those extensions. \n",
    "\n",
    "In this case the type of data stored is an $\\textbf{ImageHDU}$ which can be a 1D or 2D array depending on what kind of data is stored on in the FITS file. We can Figure out which one this is by looking at another column called $\\textbf{Dimensions}$ whcih tells you the dimensions of the data. Since we only see one number this indicates to us that this is a 1D array of length 1591. \n",
    "\n",
    "---"
   ]
  },
  {
   "cell_type": "markdown",
   "metadata": {},
   "source": [
    "Once we know how many extensions there are we can then go to each extension and see what information is provided in the header of the extension we are interested.\n",
    "\n",
    "We simply tell the hdu which extension we are interested in with:\n",
    "\n",
    "    0 - Primary\n",
    "    1 - Extension 1\n",
    "    2 - Extension 2\n",
    "    :\n",
    "    :\n",
    "    \n",
    "Then use the $\\textbf{.header}$ command to pull up the header information for the given extension"
   ]
  },
  {
   "cell_type": "code",
   "execution_count": null,
   "metadata": {},
   "outputs": [],
   "source": [
    "#Primary Header information\n",
    "hdu[0].header"
   ]
  },
  {
   "cell_type": "markdown",
   "metadata": {},
   "source": [
    "Now looking at this it looks like a weird table with random names and number but as with other files we are usually given pieces of information that allows us to interpret the numbers here. The background for this file is that this is a fits file of an extracted spectra.\n",
    "\n",
    "Thus, this information allows us to make sense of the $\\textbf{COMMENT}$ in the header where the $\\textbf{COMMENT}$ tells us what is stored in each extension. We see that Extension 1 has the optimal extraction (spectra), Extension 2 has the error bars of the optimal extracted spectrum and so on. \n",
    "\n",
    "CRVAL tells you what the first element in wavelength space this spectra is on and the CDELT tells you the spacing to the next wavelength, thus this gives you a way to create a wavelength array to plot against this spectra using:\n",
    "\n",
    "    wavelength = CRVAL1 + CDELT1 * np.arange(0, len(spectra))\n",
    "    \n",
    "And then the rest is just information about the night they took the spectra which you can browse through at your leisure. \n",
    "\n",
    "---"
   ]
  },
  {
   "cell_type": "markdown",
   "metadata": {},
   "source": [
    "## Lets try to get that spectrum and see how it looks like\n",
    "\n",
    "To get data from any extension we simply type into python the extension we wish to get the data from and write $\\textbf{.data}$ and fits will give it to us in the format that it was presented in the $\\textbf{.info}$ table"
   ]
  },
  {
   "cell_type": "code",
   "execution_count": null,
   "metadata": {},
   "outputs": [],
   "source": [
    "getting_spectrum = hdu[1].data"
   ]
  },
  {
   "cell_type": "code",
   "execution_count": null,
   "metadata": {},
   "outputs": [],
   "source": [
    "len(getting_spectrum)"
   ]
  },
  {
   "cell_type": "code",
   "execution_count": null,
   "metadata": {},
   "outputs": [],
   "source": [
    "import matplotlib.pyplot as plt "
   ]
  },
  {
   "cell_type": "code",
   "execution_count": null,
   "metadata": {},
   "outputs": [],
   "source": [
    "%matplotlib inline\n",
    "plt.figure(figsize = (12, 7))\n",
    "plt.plot(getting_spectrum)\n",
    "plt.show()"
   ]
  },
  {
   "cell_type": "markdown",
   "metadata": {},
   "source": [
    "# Lets make that wavelength array\n",
    "\n",
    "One thing that I forgot to mention is that the header acts like a lookup table so you can actually get the value of the corresponding row by typing the row name into the header. "
   ]
  },
  {
   "cell_type": "code",
   "execution_count": null,
   "metadata": {},
   "outputs": [],
   "source": [
    "primary_header = hdu[0].header"
   ]
  },
  {
   "cell_type": "code",
   "execution_count": null,
   "metadata": {},
   "outputs": [],
   "source": [
    "import numpy as np"
   ]
  },
  {
   "cell_type": "code",
   "execution_count": null,
   "metadata": {},
   "outputs": [],
   "source": [
    "wavelength = primary_header['CRVAL1'] + primary_header['CDELT1'] * np.arange(0, len(getting_spectrum))"
   ]
  },
  {
   "cell_type": "code",
   "execution_count": null,
   "metadata": {},
   "outputs": [],
   "source": [
    "plt.figure(figsize = (12, 7))\n",
    "plt.plot(wavelength, getting_spectrum)\n",
    "plt.show()"
   ]
  },
  {
   "cell_type": "code",
   "execution_count": null,
   "metadata": {},
   "outputs": [],
   "source": [
    "plt.figure(figsize = (12, 7))\n",
    "plt.plot(wavelength, getting_spectrum)\n",
    "plt.ylim(-1e-17, 1e-17)\n",
    "plt.show()"
   ]
  },
  {
   "cell_type": "markdown",
   "metadata": {},
   "source": [
    "# Try this out!!\n",
    "\n",
    "One thing to note is that this next file has no extensions when you do the $\\textbf{.info}$ this means that the data is stored in Primary. \n",
    "\n",
    "The goal of this excercise is to use everything here to plot a really cool image of a galaxy. I will provide you with the plotting code all you need to do is get the data from the FITS file."
   ]
  },
  {
   "cell_type": "code",
   "execution_count": null,
   "metadata": {},
   "outputs": [],
   "source": [
    "hdu_image = fits.open('m101_optical.fits')"
   ]
  },
  {
   "cell_type": "code",
   "execution_count": null,
   "metadata": {},
   "outputs": [],
   "source": []
  },
  {
   "cell_type": "code",
   "execution_count": null,
   "metadata": {},
   "outputs": [],
   "source": []
  },
  {
   "cell_type": "code",
   "execution_count": null,
   "metadata": {},
   "outputs": [],
   "source": []
  },
  {
   "cell_type": "code",
   "execution_count": null,
   "metadata": {},
   "outputs": [],
   "source": [
    "#once you found the image set it equal to this variable\n",
    "Image = "
   ]
  },
  {
   "cell_type": "code",
   "execution_count": null,
   "metadata": {},
   "outputs": [],
   "source": [
    "plt.figure(figsize = (12, 12))\n",
    "plt.imshow(Image, cmap = 'gray')\n",
    "plt.show()"
   ]
  }
 ],
 "metadata": {
  "kernelspec": {
   "display_name": "Python 3",
   "language": "python",
   "name": "python3"
  },
  "language_info": {
   "codemirror_mode": {
    "name": "ipython",
    "version": 3
   },
   "file_extension": ".py",
   "mimetype": "text/x-python",
   "name": "python",
   "nbconvert_exporter": "python",
   "pygments_lexer": "ipython3",
   "version": "3.8.3"
  }
 },
 "nbformat": 4,
 "nbformat_minor": 2
}
