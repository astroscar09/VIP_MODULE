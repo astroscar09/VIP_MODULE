{
 "cells": [
  {
   "cell_type": "markdown",
   "metadata": {},
   "source": [
    "# 3. Functions, Numpy and Plotting\n",
    "\n",
    "In this notebook, we will cover how to create your own functions, how to use the numpy python package and how to use the plotting package matplotlib to make some awesome plots in python. "
   ]
  },
  {
   "cell_type": "markdown",
   "metadata": {},
   "source": [
    "## Functions"
   ]
  },
  {
   "cell_type": "code",
   "execution_count": null,
   "metadata": {},
   "outputs": [],
   "source": [
    "#Do NOT run in cell\n",
    "\n",
    "def FUNCTION_NAME(ARGUMENT1, ARGUMENT2, ...):\n",
    "    \n",
    "    'Code for your Function'\n",
    "    \n",
    "    \n",
    "    return 'Output From the Function!'"
   ]
  },
  {
   "cell_type": "code",
   "execution_count": null,
   "metadata": {},
   "outputs": [],
   "source": [
    "#Example of a function that does the same as y = 2x + 3\n",
    "\n",
    "#Declaring my function\n",
    "def Line(x):\n",
    "    \n",
    "    #performing operation\n",
    "    y = 2*x + 3\n",
    "    \n",
    "    #returning the value \n",
    "    return y"
   ]
  },
  {
   "cell_type": "code",
   "execution_count": null,
   "metadata": {},
   "outputs": [],
   "source": [
    "#Same function as above but just commented better for other people to read and use\n",
    "def Line(x):\n",
    "    \n",
    "    '''\n",
    "    This function gives you the y value of a line for a given x using y = 2x+3\n",
    "    \n",
    "    Parameter\n",
    "    ----------\n",
    "    x (float or int): the value to calculate the y-value for\n",
    "    \n",
    "    Returns\n",
    "    ----------\n",
    "    y (float or int): the y-value for the corresponding x-input\n",
    "    '''\n",
    "    #performing operation\n",
    "    y = 2*x + 3\n",
    "    \n",
    "    #returning the value \n",
    "    return y"
   ]
  },
  {
   "cell_type": "markdown",
   "metadata": {},
   "source": [
    "# Quick Introduction to Numpy"
   ]
  },
  {
   "cell_type": "code",
   "execution_count": 1,
   "metadata": {},
   "outputs": [],
   "source": [
    "import numpy as np"
   ]
  },
  {
   "cell_type": "code",
   "execution_count": null,
   "metadata": {},
   "outputs": [],
   "source": [
    "#Useful for generating arrays of values super quick\n",
    "\n",
    "#using linspace\n",
    "vals = np.linspace(1, 100, 50)\n",
    "\n",
    "#using arange\n",
    "arange_vals = np.arange(1, 100, 2)"
   ]
  },
  {
   "cell_type": "code",
   "execution_count": null,
   "metadata": {},
   "outputs": [],
   "source": [
    "#Quick Maths\n",
    "array = np.array([124, 45654.234, 3453, 2124443, 20495.455])\n",
    "\n",
    "#Multiplying every value by 2\n",
    "print(2 * array)\n",
    "\n",
    "#dividing every value by 2\n",
    "print(array / 2)\n",
    "\n",
    "\n",
    "#adding the array to itself\n",
    "print(array + array)\n",
    "\n",
    "#adding 12 to the entire array\n",
    "print(array + 12)\n",
    "\n",
    "#subtracting 34 from the entire array \n",
    "print(array - 34)"
   ]
  },
  {
   "cell_type": "markdown",
   "metadata": {},
   "source": [
    "# Using Numpy to open contents of a file"
   ]
  },
  {
   "cell_type": "code",
   "execution_count": null,
   "metadata": {},
   "outputs": [],
   "source": [
    "#We can use loadtxt\n",
    "\n",
    "open_file_loadtxt = np.loadtxt('Fileio_Ex1.txt')"
   ]
  },
  {
   "cell_type": "code",
   "execution_count": null,
   "metadata": {},
   "outputs": [],
   "source": [
    "open_file_genfromtxt = np.genfromtxt('Fileio_Ex1.txt')"
   ]
  },
  {
   "cell_type": "code",
   "execution_count": null,
   "metadata": {},
   "outputs": [],
   "source": []
  },
  {
   "cell_type": "code",
   "execution_count": null,
   "metadata": {},
   "outputs": [],
   "source": [
    "#You can use the unpack to separate the columns \n",
    "x_loadtxt, y_loadtxt = np.loadtxt('Fileio_Ex1.txt', unpack = True)"
   ]
  },
  {
   "cell_type": "code",
   "execution_count": null,
   "metadata": {},
   "outputs": [],
   "source": [
    "x_genfromtxt, y_genfromtxt  = np.genfromtxt('Fileio_Ex1.txt', unpack = True)"
   ]
  },
  {
   "cell_type": "markdown",
   "metadata": {},
   "source": [
    "There are many similarities between loadtxt and genfromtxt but depending on the contents of the data file one may be preferred over the other. np.loadtxt is very good for opening up files with numerical data but if you the file has any sort of strings or non-numerical data it will break. genfromtxt can open files in this format but you may need to end up tweaking the parameters of genfromtxt to get the desired input. "
   ]
  },
  {
   "cell_type": "markdown",
   "metadata": {},
   "source": [
    "# Using Scipy to Integrate in Python\n",
    "\n",
    "There are two ways that we can integrate in python: \n",
    "\n",
    "1. Integration of an array of values, this will give you a single value when performing the integration\n",
    "    Some functions that will help with these kinds of integrations are: trapezoid, simpson, romb\n",
    "    \n",
    "2. Integration of a function: This can give you a single value or can be used in a for-loop to get an array of values. \n",
    "This method will be useful in the Hogg Exercise"
   ]
  },
  {
   "cell_type": "code",
   "execution_count": null,
   "metadata": {},
   "outputs": [],
   "source": [
    "from scipy.integrate import trapz\n",
    "from scipy.integrate import quad"
   ]
  },
  {
   "cell_type": "markdown",
   "metadata": {},
   "source": [
    "## Integrating an array of values\n",
    "\n",
    "Let us try to integrate the function \n",
    "\n",
    "$\\int_0^{10} x^2 dx$ which we know the solution to be $\\frac{x^3}{3} |_0^{10}$ = $\\frac{10^3}{3} - \\frac{0^3}{3}$ = 333.3333..."
   ]
  },
  {
   "cell_type": "code",
   "execution_count": null,
   "metadata": {},
   "outputs": [],
   "source": [
    "x_arr = np.linspace(0, 10, 1000)\n",
    "y = x_arr**2"
   ]
  },
  {
   "cell_type": "code",
   "execution_count": null,
   "metadata": {},
   "outputs": [],
   "source": [
    "y_trapz = trapz(y = y, x = x_arr)"
   ]
  },
  {
   "cell_type": "markdown",
   "metadata": {},
   "source": [
    "## Integrating a Function"
   ]
  },
  {
   "cell_type": "code",
   "execution_count": null,
   "metadata": {},
   "outputs": [],
   "source": [
    "def quad_func(x):\n",
    "    \n",
    "    return x**2"
   ]
  },
  {
   "cell_type": "code",
   "execution_count": null,
   "metadata": {},
   "outputs": [],
   "source": [
    "int_val, error = quad(quad_func, a = 0, b = 10)"
   ]
  },
  {
   "cell_type": "markdown",
   "metadata": {},
   "source": [
    "# Plotting in Python using Matplotlib"
   ]
  },
  {
   "cell_type": "code",
   "execution_count": null,
   "metadata": {},
   "outputs": [],
   "source": [
    "import matplotlib.pyplot as plt"
   ]
  },
  {
   "cell_type": "code",
   "execution_count": null,
   "metadata": {},
   "outputs": [],
   "source": [
    "#plot out the parabola y = 2x^2 - 4\n",
    "\n",
    "#We generate an x-array\n",
    "x = np.linspace(-2, 2, 50)\n",
    "\n",
    "#we then plug in this x array into the formula above\n",
    "y = 2* x**2 - 4\n",
    "\n",
    "#then we go ahead and plot it up using different arguments to make the plot better\n",
    "plt.title('My First Plot')\n",
    "plt.xlabel('X-axis')\n",
    "plt.ylabel('Y-axis')\n",
    "plt.plot(x, y, label = 'Default Matplotlib Setting')\n",
    "plt.plot(x, y+1, linestyle = '--', label = 'Changed Linestyle')\n",
    "plt.plot(x, y+2, linewidth = 2, label = 'Changed Linewidth')\n",
    "plt.plot(x, y-1, linestyle = '-.', linewidth = 1.5, color = 'blue', label = 'Changed Color as well')\n",
    "plt.plot(x, y - 2, linewidth = 1.5, color = 'blue', marker = '*', label = 'Changed Marker')\n",
    "plt.legend()\n",
    "plt.show()"
   ]
  },
  {
   "cell_type": "code",
   "execution_count": null,
   "metadata": {},
   "outputs": [],
   "source": [
    "#Try plotting the x and y data we read in from genfromtxt or loadtxt in the cell bellow\n",
    "\n",
    "plt.figure(figsize = (10, 5))\n",
    "\n",
    "#\n",
    "#\n",
    "#\n",
    "# Code Goes Here\n",
    "#\n",
    "#\n",
    "#"
   ]
  },
  {
   "cell_type": "code",
   "execution_count": null,
   "metadata": {},
   "outputs": [],
   "source": []
  },
  {
   "cell_type": "markdown",
   "metadata": {},
   "source": [
    "## Object Oriented Plotting\n",
    "\n",
    "A similar kind of plotting as we covered in the above cells but this time we use a different technique to plot it that is a lot more versatile and easier to tailor to suit your plotting needs. "
   ]
  },
  {
   "cell_type": "code",
   "execution_count": null,
   "metadata": {},
   "outputs": [],
   "source": [
    "#start of a way to do object oriented plotting\n",
    "fig, ax = plt.subplots(nrows = 1, ncols = 1)\n",
    "\n",
    "#similar to the above cell for plotting\n",
    "ax.plot()\n",
    "\n",
    "#differs in titles, xlabels\n",
    "\n",
    "ax.set_title()\n",
    "ax.set_xlabel()\n",
    "ax.set_ylabel()\n",
    "\n",
    "ax.legend()\n",
    "\n",
    "plt.show()"
   ]
  },
  {
   "cell_type": "code",
   "execution_count": null,
   "metadata": {},
   "outputs": [],
   "source": [
    "x = np.linspace(-10, 10, 50)\n",
    "y1 = 2*x - 5\n",
    "y2 = abs(x)\n",
    "\n",
    "#allows for multiple plots to be plotted on the same figure\n",
    "#this is an example of a side-by-side plot\n",
    "fig, (ax1, ax2) = plt.subplots(nrows = 1, ncols = 2, figsize = (10, 4))\n",
    "\n",
    "#similar to the above cell for plotting\n",
    "ax1.plot(x, y1, label = 'Linear Plot')\n",
    "ax1.set_title('Linear Plot')\n",
    "ax1.set_xlabel('X-Axis')\n",
    "ax1.set_ylabel('Y-Axis')\n",
    "ax1.legend()\n",
    "\n",
    "ax2.plot(x, y2, label = 'Absolute Plot')\n",
    "ax2.set_title('Absolute Plot')\n",
    "ax2.set_xlabel('X-Axis')\n",
    "ax2.set_ylabel('Y-Axis')\n",
    "ax2.legend()\n",
    "\n",
    "plt.show()"
   ]
  },
  {
   "cell_type": "code",
   "execution_count": null,
   "metadata": {},
   "outputs": [],
   "source": [
    "#allows for multiple plots to be plotted on the same figure\n",
    "#This will plot 4 plots in the same figure with 2 side by side plots in row 1 and another in row 2\n",
    "fig, ((ax1, ax2), (ax3, ax4)) = plt.subplots(nrows = 2, ncols = 2, figsize = (12, 10))\n",
    "\n",
    "y3 = -2*x**2 - 3*x + 5\n",
    "y4 = 3*x**3 - 2*x**2 + 2*x +1\n",
    "\n",
    "#similar to the above cell for plotting\n",
    "ax1.plot(x, y1, label = 'Linear Plot')\n",
    "ax1.set_title('Linear Plot')\n",
    "ax1.set_xlabel('X-Axis')\n",
    "ax1.set_ylabel('Y-Axis')\n",
    "ax1.legend()\n",
    "\n",
    "ax2.plot(x, y2, label = 'Absolute Plot')\n",
    "ax2.set_title('Absolute Plot')\n",
    "ax2.set_xlabel('X-Axis')\n",
    "ax2.set_ylabel('Y-Axis')\n",
    "ax2.legend()\n",
    "\n",
    "ax3.plot(x, y3, label = 'Quadratic Function')\n",
    "ax3.set_title('Quadratic Equation')\n",
    "ax3.set_xlabel('X-Axis')\n",
    "ax3.set_ylabel('Y-Axis')\n",
    "ax3.legend()\n",
    "\n",
    "ax4.plot(x, y4, label = 'Cubic Equation')\n",
    "ax4.set_title('Cubic Equation')\n",
    "ax4.set_xlabel('X-Axis')\n",
    "ax4.set_ylabel('Y-Axis')\n",
    "ax4.legend()\n",
    "\n",
    "plt.show()"
   ]
  },
  {
   "cell_type": "code",
   "execution_count": null,
   "metadata": {},
   "outputs": [],
   "source": [
    "#another way to access the ax objects\n",
    "fig, ax = plt.subplots(nrows = 2, ncols = 2)\n",
    "\n",
    "#ax1\n",
    "ax[0, 0]\n",
    "\n",
    "#ax2\n",
    "ax[0, 1]\n",
    "\n",
    "#ax3\n",
    "ax[1, 0]\n",
    "\n",
    "#ax4\n",
    "ax[1, 1]"
   ]
  },
  {
   "cell_type": "markdown",
   "metadata": {},
   "source": [
    "## Plotting Images\n",
    "\n",
    "Matplotlib also has the ability to plot images"
   ]
  },
  {
   "cell_type": "code",
   "execution_count": null,
   "metadata": {},
   "outputs": [],
   "source": [
    "#astronomy python package that lets us read in astronomy files\n",
    "from astropy.io import fits"
   ]
  },
  {
   "cell_type": "code",
   "execution_count": null,
   "metadata": {},
   "outputs": [],
   "source": [
    "image = fits.getdata('m101_optical.fits')"
   ]
  },
  {
   "cell_type": "code",
   "execution_count": null,
   "metadata": {},
   "outputs": [],
   "source": [
    "plt.figure(figsize = (10, 10))\n",
    "plt.imshow(image, origin='lower')\n",
    "plt.show()"
   ]
  },
  {
   "cell_type": "code",
   "execution_count": null,
   "metadata": {},
   "outputs": [],
   "source": [
    "plt.figure(figsize = (10, 10))\n",
    "plt.imshow(image, origin='lower', cmap = 'gray')\n",
    "plt.show()"
   ]
  },
  {
   "cell_type": "code",
   "execution_count": null,
   "metadata": {},
   "outputs": [],
   "source": []
  }
 ],
 "metadata": {
  "kernelspec": {
   "display_name": "Python 3",
   "language": "python",
   "name": "python3"
  },
  "language_info": {
   "codemirror_mode": {
    "name": "ipython",
    "version": 3
   },
   "file_extension": ".py",
   "mimetype": "text/x-python",
   "name": "python",
   "nbconvert_exporter": "python",
   "pygments_lexer": "ipython3",
   "version": "3.8.3"
  }
 },
 "nbformat": 4,
 "nbformat_minor": 4
}
