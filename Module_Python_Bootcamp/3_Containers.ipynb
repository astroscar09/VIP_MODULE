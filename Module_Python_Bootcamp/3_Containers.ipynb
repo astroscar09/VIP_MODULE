{
 "cells": [
  {
   "cell_type": "markdown",
   "metadata": {},
   "source": [
    "# Containers"
   ]
  },
  {
   "cell_type": "markdown",
   "metadata": {},
   "source": [
    "So far we have been dealing with single variable assignment and that the variable can only hold one thing. That can be a number, a word, or a boolean value of True or False. Well today we are going to change that a bit by introducing something called containers that hold multiple things at once. \n",
    "\n",
    "How are these useful and when would you use somehting like this? Well we can use the example of a shopping list to illustrate the point. When you go to the grocery store you either have a paper outlining the things you need to get or a mental note of things to get and containers act as the list structures within python. Python also has different kinds of containers with their unique properties and certain conditions will require you to use some over others and knowing the difference will be key to your coding experience."
   ]
  },
  {
   "cell_type": "markdown",
   "metadata": {},
   "source": [
    "## The 3 Containers in Python\n",
    "\n",
    "1. List\n",
    "2. Tuples\n",
    "3. Dictionaries"
   ]
  },
  {
   "cell_type": "markdown",
   "metadata": {},
   "source": [
    "## 1. List"
   ]
  },
  {
   "cell_type": "markdown",
   "metadata": {},
   "source": [
    "A list is the first container we will cover and it has a wide use in Python and its main advantage comes from having items in an $\\textbf{ordered}$ list and the wide amount of data types that you can put into a list. This container really acts as a storage for most Python data types. \n",
    "\n",
    "List are defined in python by the square bracket $\\textbf{[]}$ and you can write a comma separated list of values or variables to store within the list. Lets take a closer look at how to use lists in the following cells."
   ]
  },
  {
   "cell_type": "code",
   "execution_count": null,
   "metadata": {},
   "outputs": [],
   "source": [
    "#how to define a list in python Square Brackets []\n",
    "list_definition = []\n",
    "\n",
    "#NOTE: this creates an empty list"
   ]
  },
  {
   "cell_type": "code",
   "execution_count": null,
   "metadata": {},
   "outputs": [],
   "source": [
    "list_definition"
   ]
  },
  {
   "cell_type": "markdown",
   "metadata": {},
   "source": [
    "Let us populate a list with some grocery items. Note how all of these are all strings."
   ]
  },
  {
   "cell_type": "code",
   "execution_count": null,
   "metadata": {},
   "outputs": [],
   "source": [
    "#making a non-empty list with grocery items: strings only\n",
    "list1 = ['Milk', 'Cheese', 'Cereal', 'Pasta', 'Vegetables']"
   ]
  },
  {
   "cell_type": "markdown",
   "metadata": {},
   "source": [
    "You can do something similar but with numerical data"
   ]
  },
  {
   "cell_type": "code",
   "execution_count": null,
   "metadata": {},
   "outputs": [],
   "source": [
    "#only number lists\n",
    "Number_list = [12, 124324, 34, 23, 5, 354, 534, 3, 4, 3123]"
   ]
  },
  {
   "cell_type": "markdown",
   "metadata": {},
   "source": [
    "# Mix and Match\n",
    "\n",
    "Lists are really great because of its ability to mix different datatypes and store them within the list, check out the example below"
   ]
  },
  {
   "cell_type": "code",
   "execution_count": null,
   "metadata": {},
   "outputs": [],
   "source": [
    "#making a non-empty list with a mixture of data types\n",
    "\n",
    "                    # Float  int   string  bool   bool    string\n",
    "mix_and_match_list = [12.34, 213, 'Hello', True, False, 'Bye-Bye']"
   ]
  },
  {
   "cell_type": "code",
   "execution_count": null,
   "metadata": {},
   "outputs": [],
   "source": [
    "#making a list that contains numbers and even other lists\n",
    "\n",
    "              # float  float  int          List         float            List\n",
    "list_in_list = [12.3, 242.34, 230, ['Hi', True, False], 43.22, [345.3454, 'Oscar', True, 452.34]]"
   ]
  },
  {
   "cell_type": "markdown",
   "metadata": {},
   "source": [
    "# Indexing Lists\n",
    "\n",
    "To get item(s) from a list requires us to index the list. This indexing is very similar to the indexing introduced in the first notebook and a lot of the same concepts are tranferred over to lists. \n",
    "\n",
    "Recall:\n",
    "\n",
    "1. Python uses zero-indexing so the first item in a list is index 0\n",
    "2. You can use negative indexing to get the last elements in a list\n",
    "3. Splicing is also carried over and can be applied to lists"
   ]
  },
  {
   "cell_type": "markdown",
   "metadata": {},
   "source": [
    "Let's apply these concept to get certain elements within the lists we defined above."
   ]
  },
  {
   "cell_type": "code",
   "execution_count": null,
   "metadata": {},
   "outputs": [],
   "source": [
    "#getting pasta from my list, since it is the 4th entry it is actually at index 3\n",
    "list1[3]"
   ]
  },
  {
   "cell_type": "code",
   "execution_count": null,
   "metadata": {},
   "outputs": [],
   "source": [
    "#splicing the list to give me the 2nd and 3rd entries, we use index 4 here as the ending index is not inclusive\n",
    "mix_and_match_list[2:4]"
   ]
  },
  {
   "cell_type": "code",
   "execution_count": null,
   "metadata": {},
   "outputs": [],
   "source": [
    "#getting the first item in Number_list\n",
    "Number_list[0]"
   ]
  },
  {
   "cell_type": "code",
   "execution_count": null,
   "metadata": {},
   "outputs": [],
   "source": [
    "#skipping everyother number in Number_list\n",
    "Number_list[::2]"
   ]
  },
  {
   "cell_type": "code",
   "execution_count": null,
   "metadata": {},
   "outputs": [],
   "source": [
    "#getting 3rd value in list_in_list\n",
    "list_in_list[2]"
   ]
  },
  {
   "cell_type": "code",
   "execution_count": null,
   "metadata": {},
   "outputs": [],
   "source": [
    "#getting the 4th-7th entries from list_in_list\n",
    "list_in_list[3:7]"
   ]
  },
  {
   "cell_type": "code",
   "execution_count": null,
   "metadata": {},
   "outputs": [],
   "source": [
    "#negative indexing\n",
    "list_in_list[-1]"
   ]
  },
  {
   "cell_type": "markdown",
   "metadata": {},
   "source": [
    "# Changing Values in Lists\n",
    "\n",
    "One thing about list is that they are a mutable datatype, which is a fancy way of saying you can change the contents of the list. The way you would do this is by getting the index of the value you want to change and changing that index to the new value. This can be done on a one item basis so one index to one new value or you can do this to a range of indexes to a range of new values. Let us see some of the ways we can change values in Lists in the examples below."
   ]
  },
  {
   "cell_type": "code",
   "execution_count": null,
   "metadata": {},
   "outputs": [],
   "source": [
    "#changing the third entry of list1 to coffee\n",
    "list1[2] = 'Coffee'"
   ]
  },
  {
   "cell_type": "code",
   "execution_count": null,
   "metadata": {},
   "outputs": [],
   "source": [
    "list1"
   ]
  },
  {
   "cell_type": "code",
   "execution_count": null,
   "metadata": {},
   "outputs": [],
   "source": [
    "#changing multiple values\n",
    "\n",
    "            #index   2    3    4 \n",
    "Number_list[2:5] = [100, 200, 300]"
   ]
  },
  {
   "cell_type": "code",
   "execution_count": null,
   "metadata": {},
   "outputs": [],
   "source": [
    "Number_list"
   ]
  },
  {
   "cell_type": "code",
   "execution_count": null,
   "metadata": {},
   "outputs": [],
   "source": [
    "#changing values using negative indexing\n",
    "mix_and_match_list[-2] = 12.334"
   ]
  },
  {
   "cell_type": "code",
   "execution_count": null,
   "metadata": {},
   "outputs": [],
   "source": [
    "mix_and_match_list"
   ]
  },
  {
   "cell_type": "markdown",
   "metadata": {},
   "source": [
    "# Indexing Lists withing Lists\n",
    "\n",
    "As great as lists are we do need to go over the syntax of accessing items from a list within a list. The way to do this is by first getting the index of the list within the list. As you can see in the list_in_list variable there is a list at an index of 3 using this by itself will give us the following:\n",
    "\n",
    "list_in_list[3]\n",
    "\n",
    "['Hi', True, False]\n",
    "\n",
    "If we want to access the True in this list we would then need to index this list here which would be getting index 1. So we need to do nested indexing with the first index getting the list within the list and then the second index accessing the element we want to get. So to get True from list_in_list we would do the following indexing:\n",
    "\n",
    "list_in_list[3][1]\n"
   ]
  },
  {
   "cell_type": "code",
   "execution_count": null,
   "metadata": {},
   "outputs": [],
   "source": [
    "#getting the value of a list within a list\n",
    "list_in_list[3][1]"
   ]
  },
  {
   "cell_type": "code",
   "execution_count": null,
   "metadata": {},
   "outputs": [],
   "source": [
    "#getting the value of a list within a list\n",
    "list_in_list[-1][2]"
   ]
  },
  {
   "cell_type": "markdown",
   "metadata": {},
   "source": [
    "### Useful List commands"
   ]
  },
  {
   "cell_type": "code",
   "execution_count": null,
   "metadata": {},
   "outputs": [],
   "source": [
    "#append\n",
    "list_definition.append(13)\n",
    "\n",
    "#adds the value 13 to the end of the list"
   ]
  },
  {
   "cell_type": "code",
   "execution_count": null,
   "metadata": {},
   "outputs": [],
   "source": [
    "#append\n",
    "list_definition"
   ]
  },
  {
   "cell_type": "code",
   "execution_count": null,
   "metadata": {},
   "outputs": [],
   "source": [
    "#remove\n",
    "list1.remove('Milk')\n",
    "\n",
    "#removes the item 'Milk' from list1"
   ]
  },
  {
   "cell_type": "code",
   "execution_count": null,
   "metadata": {},
   "outputs": [],
   "source": [
    "list1"
   ]
  },
  {
   "cell_type": "code",
   "execution_count": null,
   "metadata": {},
   "outputs": [],
   "source": [
    "#sort\n",
    "Number_list.sort()\n",
    "\n",
    "#sorts the number_list in ascending order"
   ]
  },
  {
   "cell_type": "code",
   "execution_count": null,
   "metadata": {},
   "outputs": [],
   "source": [
    "Number_list"
   ]
  },
  {
   "cell_type": "code",
   "execution_count": null,
   "metadata": {},
   "outputs": [],
   "source": [
    "#makes a copy of list1\n",
    "list_copy = list1.copy()"
   ]
  },
  {
   "cell_type": "code",
   "execution_count": null,
   "metadata": {},
   "outputs": [],
   "source": [
    "list_copy "
   ]
  },
  {
   "cell_type": "code",
   "execution_count": null,
   "metadata": {},
   "outputs": [],
   "source": [
    "list1"
   ]
  },
  {
   "cell_type": "code",
   "execution_count": null,
   "metadata": {},
   "outputs": [],
   "source": [
    "#pop\n",
    "list1.pop(3)\n",
    "\n",
    "#this returns the value at the index you input, in this case 3, and removes it from the list"
   ]
  },
  {
   "cell_type": "code",
   "execution_count": null,
   "metadata": {},
   "outputs": [],
   "source": [
    "list1"
   ]
  },
  {
   "cell_type": "markdown",
   "metadata": {},
   "source": [
    "## 2. Tuples"
   ]
  },
  {
   "cell_type": "markdown",
   "metadata": {},
   "source": [
    "Tuples are very similar to lists and they share a lot of features in common such as keeping the order of elements, how to index values, and can have a variety of data types stored within it. The biggest difference between tuples and list boils down to changing an element value. We saw above with list that if you go to a certain index you are free to change the value of that index to anything you want, however, you do not have that feature with tuples. Once an element has been assigned to a tuple you cannot go back and change it. If you do try to change it Python will throw an error. \n",
    "\n",
    "Let's check out tuples!"
   ]
  },
  {
   "cell_type": "code",
   "execution_count": null,
   "metadata": {},
   "outputs": [],
   "source": [
    "#how to define a tuple: Parenthesis ()\n",
    "tuple_definition = ()\n",
    "\n",
    "#Note: This is the definition of an empty tuple"
   ]
  },
  {
   "cell_type": "code",
   "execution_count": null,
   "metadata": {},
   "outputs": [],
   "source": [
    "tuple_definition"
   ]
  },
  {
   "cell_type": "code",
   "execution_count": null,
   "metadata": {},
   "outputs": [],
   "source": [
    "#defining a non-empty tuple\n",
    "tuple1 = ('Milk', 'Cheese', 'Cereal', 'Pasta', 'Vegetables')"
   ]
  },
  {
   "cell_type": "code",
   "execution_count": null,
   "metadata": {},
   "outputs": [],
   "source": [
    "#defining a non-empty tuple with a mix of data types\n",
    "mix_and_match_tuple = (12.34, 213, 'Hello', True, False, 'Bye-Bye')"
   ]
  },
  {
   "cell_type": "markdown",
   "metadata": {},
   "source": [
    "### Indexing Tuples"
   ]
  },
  {
   "cell_type": "code",
   "execution_count": null,
   "metadata": {},
   "outputs": [],
   "source": [
    "#getting the first item in the tuple\n",
    "tuple1[0]"
   ]
  },
  {
   "cell_type": "code",
   "execution_count": null,
   "metadata": {},
   "outputs": [],
   "source": [
    "#slicing the tuple to get the first 3 items\n",
    "tuple1[0:3]"
   ]
  },
  {
   "cell_type": "code",
   "execution_count": null,
   "metadata": {},
   "outputs": [],
   "source": [
    "#Skipping can still be done on tuples\n",
    "mix_and_match_tuple[::2]"
   ]
  },
  {
   "cell_type": "code",
   "execution_count": null,
   "metadata": {},
   "outputs": [],
   "source": [
    "mix_and_match_tuple[:5]"
   ]
  },
  {
   "cell_type": "code",
   "execution_count": null,
   "metadata": {},
   "outputs": [],
   "source": [
    "#try to change the value of a tuple\n",
    "tuple1[0] = 'Chocolate Milk'"
   ]
  },
  {
   "cell_type": "markdown",
   "metadata": {},
   "source": [
    "If you ran the code above you should have gotten an error message and this is because with tuples you cannot change the items once the tuple has been defined, unlike lists tuples are immutable containers. This comes in handy if you do not want any item to change throughout your code but if you forsee changing or updating items in a container, consider using lists for those cases."
   ]
  },
  {
   "cell_type": "markdown",
   "metadata": {},
   "source": [
    "## 3. Dictionary"
   ]
  },
  {
   "cell_type": "markdown",
   "metadata": {},
   "source": [
    "Dictionaries are the last container set we will cover in this notebook. They differ from the previous containers in one major way and that is how you access the value in the dictionary. Dictionaries work on the basis of assigning values to a key as opposed to an index as we have seen with the previous containers. They are still able to have different data types for different keys but it is done by using only one value per key. \n",
    "\n",
    "The way to define a dictionary is to use the squigly braces ($\\textbf{{}}$), you can then add stuff to your dictionary using the following:  \n",
    "\n",
    "$\\textbf{{\"key1\": value, \"key2\": value, \"key3\": value, ...}}$"
   ]
  },
  {
   "cell_type": "code",
   "execution_count": null,
   "metadata": {},
   "outputs": [],
   "source": [
    "#defining a dictionary: squigly brackets {}\n",
    "dictionary_definition = {}\n",
    "\n",
    "#this defines an empty dictionary"
   ]
  },
  {
   "cell_type": "code",
   "execution_count": null,
   "metadata": {},
   "outputs": [],
   "source": [
    "dictionary_definition"
   ]
  },
  {
   "cell_type": "code",
   "execution_count": null,
   "metadata": {},
   "outputs": [],
   "source": [
    "#how to define a non-empty dictionary\n",
    "grocery_dictionary = {'Milk': 1, 'Apples': 4, 'Broccoli': 3, 'Cereal': 2}"
   ]
  },
  {
   "cell_type": "markdown",
   "metadata": {},
   "source": [
    "### Indexing with Dictionaries"
   ]
  },
  {
   "cell_type": "code",
   "execution_count": null,
   "metadata": {},
   "outputs": [],
   "source": [
    "#getting the value that corresponds to the key: Apples\n",
    "grocery_dictionary['Apples']"
   ]
  },
  {
   "cell_type": "code",
   "execution_count": null,
   "metadata": {},
   "outputs": [],
   "source": [
    "#getting the value that corresponds to key: Cereal\n",
    "grocery_dictionary['Cereal']"
   ]
  },
  {
   "cell_type": "code",
   "execution_count": null,
   "metadata": {},
   "outputs": [],
   "source": [
    "grocery_dictionary"
   ]
  },
  {
   "cell_type": "markdown",
   "metadata": {},
   "source": [
    "# Changing values of Key\n",
    "\n",
    "As with Lists, Dictionaries are mutable containers so if you need to change the value of a key all you would need to do is access the key and change the values. The Python syntax for a dictionary with variable name var is:\n",
    "\n",
    "var['key'] = new_value"
   ]
  },
  {
   "cell_type": "code",
   "execution_count": null,
   "metadata": {},
   "outputs": [],
   "source": [
    "#changing the value of key Milk to zero\n",
    "grocery_dictionary['Milk'] = 0"
   ]
  },
  {
   "cell_type": "code",
   "execution_count": null,
   "metadata": {},
   "outputs": [],
   "source": [
    "#changing the value of key Apples to zero\n",
    "grocery_dictionary['Apples'] = 0"
   ]
  },
  {
   "cell_type": "code",
   "execution_count": null,
   "metadata": {},
   "outputs": [],
   "source": [
    "#changing the value of key Cereal to zero\n",
    "grocery_dictionary['Cereal'] = 0"
   ]
  },
  {
   "cell_type": "code",
   "execution_count": null,
   "metadata": {},
   "outputs": [],
   "source": [
    "grocery_dictionary"
   ]
  },
  {
   "cell_type": "markdown",
   "metadata": {},
   "source": [
    "# Adding new Keys and Values\n",
    "\n",
    "Once you have defined your dictionary there is a way in Python to add in new key-value pairs. The way to do that is:\n",
    "\n",
    "dictionary['new_key'] = 'new_value'\n",
    "\n",
    "Let us add the key \"Juice\" to the grocery dictionary and add the value 2"
   ]
  },
  {
   "cell_type": "code",
   "execution_count": null,
   "metadata": {},
   "outputs": [],
   "source": [
    "#adding into the grocery dictionary the key Juice and the value of it\n",
    "grocery_dictionary['Juice'] = 2"
   ]
  },
  {
   "cell_type": "markdown",
   "metadata": {},
   "source": [
    "# Adding in Lists\n",
    "\n",
    "So far we have been working with adding in single values you could also add in lists as values to a dictionary. Let us add in Mass and Height into the currently empty dictionary_definition."
   ]
  },
  {
   "cell_type": "code",
   "execution_count": null,
   "metadata": {},
   "outputs": [],
   "source": [
    "dictionary_definition[\"Mass\"] = [12, 34, 17, 33, 22, 24, 12]\n",
    "dictionary_definition[\"Height\"] = [121, 150, 170, 134, 122, 124, 142]"
   ]
  },
  {
   "cell_type": "code",
   "execution_count": null,
   "metadata": {},
   "outputs": [],
   "source": [
    "dictionary_definition"
   ]
  },
  {
   "cell_type": "markdown",
   "metadata": {},
   "source": [
    "## Useful Commands for Dictionaries"
   ]
  },
  {
   "cell_type": "code",
   "execution_count": null,
   "metadata": {},
   "outputs": [],
   "source": [
    "#keys: returns the keys corresponding to that dictionary\n",
    "grocery_dictionary.keys()"
   ]
  },
  {
   "cell_type": "code",
   "execution_count": null,
   "metadata": {},
   "outputs": [],
   "source": [
    "#values: The values in the dictionary but does not tell you what key they belong to\n",
    "grocery_dictionary.values()"
   ]
  },
  {
   "cell_type": "code",
   "execution_count": null,
   "metadata": {},
   "outputs": [],
   "source": [
    "#items: Tells you what is in the dictionary with the key and corresponding value\n",
    "grocery_dictionary.items()"
   ]
  },
  {
   "cell_type": "code",
   "execution_count": null,
   "metadata": {},
   "outputs": [],
   "source": [
    "#clear: Clears the dictionary and returns an empty dictionary\n",
    "grocery_dictionary.clear()"
   ]
  },
  {
   "cell_type": "code",
   "execution_count": null,
   "metadata": {},
   "outputs": [],
   "source": [
    "grocery_dictionary"
   ]
  },
  {
   "cell_type": "markdown",
   "metadata": {},
   "source": [
    "# Final Remarks\n",
    "\n",
    "In this notebook we covered 3 types of containers:\n",
    "\n",
    "1. List\n",
    "2. Tuples\n",
    "3. Dictionaries\n",
    "\n",
    "We covered how to define a list, access the contents of a list and how to change them. We covered how to define a tuple and the small nuance that they cannot be changed once they are created. We covered how to create a dictionary and how to populate the dictionary with key-value pairs and how to change the contents of a dictionary. In the next notebook we will cover how to loop over the contents of containers to perform mathematical operations."
   ]
  },
  {
   "cell_type": "code",
   "execution_count": null,
   "metadata": {},
   "outputs": [],
   "source": []
  }
 ],
 "metadata": {
  "kernelspec": {
   "display_name": "Python 3",
   "language": "python",
   "name": "python3"
  },
  "language_info": {
   "codemirror_mode": {
    "name": "ipython",
    "version": 3
   },
   "file_extension": ".py",
   "mimetype": "text/x-python",
   "name": "python",
   "nbconvert_exporter": "python",
   "pygments_lexer": "ipython3",
   "version": "3.8.3"
  }
 },
 "nbformat": 4,
 "nbformat_minor": 2
}
