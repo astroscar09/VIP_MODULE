{
 "cells": [
  {
   "cell_type": "markdown",
   "metadata": {},
   "source": [
    "# Using Python Packages"
   ]
  },
  {
   "cell_type": "markdown",
   "metadata": {},
   "source": [
    "Now that we covered how to make functions can you imagine how tedious it would be for us to come up with functions for every little thing we want to do? Like making a function to add any two numbers, How to read in a file from your computer. It is a lot of work and can be quite daunting to undertake especially when you are just starting out. But fear not there is hope in the form of something called Python Packages. \n",
    "\n",
    "Python packages are essentially a collection of functions that you import from a certain library. So what does this mean? Well, for example, there is this python library called Numpy that deals with some math stuff and in this library there are tons of useful functions to do any math operation you want, it also incudes a features called arrays which we will cover later in the notebook which will make list operations soooo much smoother. \n",
    "\n",
    "There is a library called Scipy and this has lots of statistical functions, functions for optimization, curve fitting and signal processing. \n",
    "\n",
    "The cool thing is that someone already coded up these functions and all you need to do is call the library into python and BAM you have all the functions from that library available for you to use. "
   ]
  },
  {
   "cell_type": "markdown",
   "metadata": {},
   "source": [
    "# Some Noteworthy Packages:\n",
    "\n",
    "1. Numpy: Mathematical analysis done easy\n",
    "2. Scipy: statistical functions as well as wave analysis\n",
    "3. matplotlib: Python's Plotting Package\n",
    "4. pandas: Data analysis and dataframe\n",
    "5. astropy: For dealing with astronomy related data"
   ]
  },
  {
   "cell_type": "markdown",
   "metadata": {},
   "source": [
    "To check if you have a package installed and can access it through python you can type in the import statement for the package and if no error occurs it is installed in your computer but if an error pops up then it is most likely not installed. To get a package installed you have many ways:\n",
    "\n",
    "Through conda:\n",
    "\n",
    "$\\textbf{conda install PackageName}$\n",
    "\n",
    "Through pip:\n",
    "\n",
    "$\\textbf{pip install PackageName}$"
   ]
  },
  {
   "cell_type": "markdown",
   "metadata": {},
   "source": [
    "For more specific packages not in the pip or conda environment you have to go through the installation process outlined by the package developers"
   ]
  },
  {
   "cell_type": "markdown",
   "metadata": {},
   "source": [
    "## Import vs From Statements"
   ]
  },
  {
   "cell_type": "markdown",
   "metadata": {},
   "source": [
    "#this imports the whole library into your notebook\n",
    "\n",
    "import 'Library Name' as 'Shorter Name to be assigned for the library'"
   ]
  },
  {
   "cell_type": "code",
   "execution_count": null,
   "metadata": {},
   "outputs": [],
   "source": [
    "#example with Numpy\n",
    "import numpy as np"
   ]
  },
  {
   "cell_type": "code",
   "execution_count": null,
   "metadata": {},
   "outputs": [],
   "source": [
    "#whenever we want to reference numpy we do not need to write out numpy but np\n",
    "\n",
    "#Example of using numpy to take the absolute value of a number\n",
    "np.abs(-5)"
   ]
  },
  {
   "cell_type": "markdown",
   "metadata": {},
   "source": [
    "#This call selects a certain function within the library to import into your python program\n",
    "\n",
    "from 'Library' import 'Function' as 'Shorter name for function' #the as statement is optional"
   ]
  },
  {
   "cell_type": "code",
   "execution_count": null,
   "metadata": {},
   "outputs": [],
   "source": [
    "#here we are only importing from numpy the greater_equal function and giving it the shorter name g_eq\n",
    "from numpy import greater_equal as g_eq"
   ]
  },
  {
   "cell_type": "markdown",
   "metadata": {},
   "source": [
    "## How to know what functions are available in the Python package!!\n",
    "\n",
    "### Method 1: Googling\n",
    "\n",
    "Sometimes you are working on a problem in your code or are wondering if someone has figured out the solution and you type it into google and most likely someone had the same problem and has a solution and through this you can learn about functions within a package."
   ]
  },
  {
   "cell_type": "markdown",
   "metadata": {},
   "source": [
    "### Method 2: Package Documentation\n",
    "\n",
    "This is a little daunting as the websites have a lot of functions to choose from but once you have googled a few function you get more familiar with it and the documentation is actually quite helpful. \n",
    "\n",
    "To know what functions we can use once we import the python package we need to go to their website and see the documentation for all the functions the package has to offer. \n",
    "\n",
    "For Numpy we would go to https://numpy.org/doc/1.26/user/index.html\n",
    "\n",
    "For Scipy we would go to https://docs.scipy.org/doc/scipy/reference/ "
   ]
  },
  {
   "cell_type": "markdown",
   "metadata": {},
   "source": [
    "If we look at the scipy website we can see that they have different classes within scipy such as scipy.optimize, scipy.stats, and scipy.interpolate for example. All of these are classes that focus on that specific aspect. So if we were to look at stuff in scipy.stats it would give us everything we need to do stats with, such as function to get mean, medians, summary table, statistical distributions and more. "
   ]
  },
  {
   "cell_type": "markdown",
   "metadata": {},
   "source": [
    "### Method 3\n",
    "\n",
    "If you are using a jupyter notebook and you import a package and you want to see what functions are at your disposal simply type in the package followed by a dot (.) and then hit the tab button and you should see a list appear. This list is all the functions at your disposal from the package you imported and is a feature of jupyter notebooks. "
   ]
  },
  {
   "cell_type": "code",
   "execution_count": null,
   "metadata": {},
   "outputs": [],
   "source": [
    "import scipy "
   ]
  },
  {
   "cell_type": "code",
   "execution_count": null,
   "metadata": {},
   "outputs": [],
   "source": [
    "scipy."
   ]
  },
  {
   "cell_type": "markdown",
   "metadata": {},
   "source": [
    "### Note:\n",
    "Notice in the example above that there is no scipy.stats but yet we saw that in the documentation that is because we imported the base scipy package if we want the stats package we need to tell python specifically as in the cell below"
   ]
  },
  {
   "cell_type": "code",
   "execution_count": null,
   "metadata": {},
   "outputs": [],
   "source": [
    "import scipy.stats as stats"
   ]
  },
  {
   "cell_type": "code",
   "execution_count": null,
   "metadata": {},
   "outputs": [],
   "source": [
    "#try the dot (.) command in the next line, see how it changes?"
   ]
  },
  {
   "cell_type": "code",
   "execution_count": null,
   "metadata": {},
   "outputs": [],
   "source": [
    "stats."
   ]
  },
  {
   "cell_type": "markdown",
   "metadata": {},
   "source": [
    "# Focusing on three packages for this Notebook\n",
    "\n",
    "There are loads of packages out there for us to use but for for brevity and giving you the base knowledge needed to carry out research we will only cover three packages in this notebook\n",
    "\n",
    "1. Numpy: package that deals with numerical calculations\n",
    "2. Matplotlib: Pythons plotting package\n",
    "3. Scipy: Pythons statistical library"
   ]
  },
  {
   "cell_type": "markdown",
   "metadata": {},
   "source": [
    "# 1. Numpy\n",
    "\n",
    "Numpy is by far the most important package we will use in astronomy. It is the package that allows us to perform mathematical operations on a large amount of data. The bulk of which is facilitated by a feature in numpy called Arrays. Arrays are akin to vectors in that you can you multiply them by a scalar and all the elements of an array will be multiplied by that scalar and similarly for all the other mathematical operations. You can even perform mathematical operation between two array given that both array are the same shape and size. We will cover these in detail in the next few cells."
   ]
  },
  {
   "cell_type": "code",
   "execution_count": null,
   "metadata": {},
   "outputs": [],
   "source": [
    "#importing numpy\n",
    "import numpy as np"
   ]
  },
  {
   "cell_type": "code",
   "execution_count": null,
   "metadata": {},
   "outputs": [],
   "source": [
    "#Array definition\n",
    "array = np.array([])\n",
    "\n",
    "#this makes an empty array"
   ]
  },
  {
   "cell_type": "code",
   "execution_count": null,
   "metadata": {},
   "outputs": [],
   "source": [
    "array"
   ]
  },
  {
   "cell_type": "code",
   "execution_count": null,
   "metadata": {},
   "outputs": [],
   "source": [
    "non_empty_arr = np.array([12, 34, 232, 54, 3, 4, 123, 34, 35345])"
   ]
  },
  {
   "cell_type": "code",
   "execution_count": null,
   "metadata": {},
   "outputs": [],
   "source": [
    "non_empty_arr"
   ]
  },
  {
   "cell_type": "code",
   "execution_count": null,
   "metadata": {},
   "outputs": [],
   "source": [
    "mix_match_arr = np.array(['What Up', 34, 232, False, 3, 4, True, 34, 35345])"
   ]
  },
  {
   "cell_type": "code",
   "execution_count": null,
   "metadata": {},
   "outputs": [],
   "source": [
    "mix_match_arr"
   ]
  },
  {
   "cell_type": "code",
   "execution_count": null,
   "metadata": {},
   "outputs": [],
   "source": [
    "mix_match = np.array([34,'What Up', 34, 232, False, 3, 4, True, 34, 35345])"
   ]
  },
  {
   "cell_type": "code",
   "execution_count": null,
   "metadata": {},
   "outputs": [],
   "source": [
    "mix_match"
   ]
  },
  {
   "cell_type": "code",
   "execution_count": null,
   "metadata": {},
   "outputs": [],
   "source": [
    "mix_match_arr1 = np.array([34, 232, False, 3, 4, True, 34, 35345])"
   ]
  },
  {
   "cell_type": "code",
   "execution_count": null,
   "metadata": {},
   "outputs": [],
   "source": [
    "mix_match_arr1"
   ]
  },
  {
   "cell_type": "code",
   "execution_count": null,
   "metadata": {},
   "outputs": [],
   "source": [
    "mix_match_arr2 = np.array([False, 34, 232, False, 3, 4, True, 34, 35345])"
   ]
  },
  {
   "cell_type": "code",
   "execution_count": null,
   "metadata": {},
   "outputs": [],
   "source": [
    "mix_match_arr"
   ]
  },
  {
   "cell_type": "markdown",
   "metadata": {},
   "source": [
    "## Differences between Arrays and Containers\n",
    "\n",
    "Unlike lists where you can have different datatypes within the same list, with arrays they all have to be the same datatype. What will happen is if you insert a string anywhere in the array then numpy will automatically make the entire array strings. If you happen to put Boolean values into an array with numbers then those boolean values will get converted to a number using the convention True = 1 and False = 0. "
   ]
  },
  {
   "cell_type": "markdown",
   "metadata": {},
   "source": [
    "# Math with arrays vs other containers\n",
    "\n",
    "## Problem: Give me a list with every entry in the list multiplied by 2\n"
   ]
  },
  {
   "cell_type": "code",
   "execution_count": null,
   "metadata": {},
   "outputs": [],
   "source": [
    "#Solution using Lists\n",
    "\n",
    "#when working with lists we would need to go through each and every element and multiply it by 2\n",
    "number_list = [1, 4, 6, 10, 40, 100]\n",
    "\n",
    "#for loop that goes through the index values of the number_list list\n",
    "for i in range(len(number_list)):\n",
    "    \n",
    "    #We replace the current value at index i with the value multiplied by 2\n",
    "    number_list[i] = number_list[i] * 2\n",
    "\n",
    "print(number_list)"
   ]
  },
  {
   "cell_type": "code",
   "execution_count": null,
   "metadata": {},
   "outputs": [],
   "source": [
    "#With arrays it is as simple as multiplying the array by 2\n",
    "number_list = [1, 4, 6, 10, 40, 100]\n",
    "\n",
    "#To do this we simply convert the list to an array using np.array()\n",
    "num_arr = np.array(number_list)\n",
    "\n",
    "#then multiply the array by 2\n",
    "print(2*num_arr)\n",
    "\n",
    "#Wow!!! Super easy and no need for for-loops :D!!!"
   ]
  },
  {
   "cell_type": "markdown",
   "metadata": {},
   "source": [
    "This same ease can be acquired through all the other mathematical functions such as division, adding, subtracting, raising to a power"
   ]
  },
  {
   "cell_type": "code",
   "execution_count": null,
   "metadata": {},
   "outputs": [],
   "source": [
    "#division\n",
    "\n",
    "#with one line we can divide the ENTIRE array by 2\n",
    "num_arr/2"
   ]
  },
  {
   "cell_type": "code",
   "execution_count": null,
   "metadata": {},
   "outputs": [],
   "source": [
    "#adding\n",
    "\n",
    "#with one line we can add the ENTIRE array by 2\n",
    "num_arr + 2"
   ]
  },
  {
   "cell_type": "code",
   "execution_count": null,
   "metadata": {},
   "outputs": [],
   "source": [
    "#subtracting\n",
    "\n",
    "#with one line we can subtract the ENTIRE array by 2\n",
    "num_arr - 2"
   ]
  },
  {
   "cell_type": "code",
   "execution_count": null,
   "metadata": {},
   "outputs": [],
   "source": [
    "\n",
    "#with one line we can square the ENTIRE array\n",
    "num_arr**2"
   ]
  },
  {
   "cell_type": "markdown",
   "metadata": {},
   "source": [
    "# Array math between multiple arrays\n",
    "\n",
    "The way that array math works between 2 or more arrays is by doing element wise arithmetic. The entries at the same location undergo the operation being performed. So if you have 2 arrays with 3 numbers in them say arr1 = np.array([1, 5, 10]) and arr2 = np.array([10, 20, 30]) when you do an operation say addition. This operation is applied to the same indexes so 1 will get added to 10, 5 will get added to 20 and 10 will get added to 30 making the resulting array be np.array([11, 25, 40]). This same methodology is applied if you add another array into the mix where similar indexes have the operation applied to them. See the example below of this in action.\n",
    "\n",
    "\n",
    "NOTE: The array $\\textbf{must}$ be the same shape and size for this to work. If you have an array that is shorter or longer then you will get an error."
   ]
  },
  {
   "cell_type": "code",
   "execution_count": null,
   "metadata": {},
   "outputs": [],
   "source": [
    "arr1 = np.arange(1, 11, 1)\n",
    "arr2 = np.arange(21, 31, 1)\n",
    "arr3 = np.arange(101, 111, 1)"
   ]
  },
  {
   "cell_type": "code",
   "execution_count": null,
   "metadata": {},
   "outputs": [],
   "source": [
    "print(arr1)\n",
    "print(arr2)\n",
    "print(arr3)"
   ]
  },
  {
   "cell_type": "code",
   "execution_count": null,
   "metadata": {},
   "outputs": [],
   "source": [
    "arr1+arr2"
   ]
  },
  {
   "cell_type": "code",
   "execution_count": null,
   "metadata": {},
   "outputs": [],
   "source": [
    "arr1+arr2+arr3"
   ]
  },
  {
   "cell_type": "code",
   "execution_count": null,
   "metadata": {},
   "outputs": [],
   "source": [
    "arr1*arr2"
   ]
  },
  {
   "cell_type": "code",
   "execution_count": null,
   "metadata": {},
   "outputs": [],
   "source": [
    "arr1*arr2*arr3"
   ]
  },
  {
   "cell_type": "code",
   "execution_count": null,
   "metadata": {},
   "outputs": [],
   "source": [
    "arr1/arr2"
   ]
  },
  {
   "cell_type": "code",
   "execution_count": null,
   "metadata": {},
   "outputs": [],
   "source": [
    "arr1/arr2/arr3"
   ]
  },
  {
   "cell_type": "code",
   "execution_count": null,
   "metadata": {},
   "outputs": [],
   "source": [
    "arr1-arr2"
   ]
  },
  {
   "cell_type": "code",
   "execution_count": null,
   "metadata": {},
   "outputs": [],
   "source": [
    "arr1-arr2-arr3"
   ]
  },
  {
   "cell_type": "code",
   "execution_count": null,
   "metadata": {},
   "outputs": [],
   "source": [
    "arr2//arr1"
   ]
  },
  {
   "cell_type": "code",
   "execution_count": null,
   "metadata": {},
   "outputs": [],
   "source": [
    "arr2%arr1"
   ]
  },
  {
   "cell_type": "markdown",
   "metadata": {},
   "source": [
    "# Generating Arrays\n",
    "\n",
    "Numpy has many built in functions that allows you to quickly get a large array between a starting and ending number. Some of those functions are np.linspace(), np.arange(), np.logspace(). These functions are really great when we need to generate an array of X-values for our plots. We will cover all three of them in detail in the next few cells. \n",
    "\n",
    "In short np.linspace() produces an array that is equally spaced between a starting and ending number\n",
    "\n",
    "np.arange() has a step size argument so you can give np.arange() a starting and ending point and a step size and you will get an array of values separated by the step size you inputted. This is really good when you are doing histograms as you have full control over the bin size through the step_size argument in np.arange()\n",
    "\n",
    "\n",
    "np.logspace() is similar to np.linspace() but it generates a set of equally spaced values from starting number to ending number in log-space. "
   ]
  },
  {
   "cell_type": "code",
   "execution_count": null,
   "metadata": {},
   "outputs": [],
   "source": [
    "#quickly generating an array of 1000 equally spaced values between 1-100\n",
    "#Note how the ending number 100 is included\n",
    "np.linspace(1, 100, 1000)"
   ]
  },
  {
   "cell_type": "code",
   "execution_count": null,
   "metadata": {},
   "outputs": [],
   "source": [
    "#quickly generating an array of 10 equally spaced values between 1-100\n",
    "np.linspace(1, 100, 10)"
   ]
  },
  {
   "cell_type": "code",
   "execution_count": null,
   "metadata": {},
   "outputs": [],
   "source": [
    "#let us try to create the same array as above but with np.arange\n",
    "np.arange(1, 100, 11)"
   ]
  },
  {
   "cell_type": "code",
   "execution_count": null,
   "metadata": {},
   "outputs": [],
   "source": [
    "#np.arange is exclusive of the ending number so if we want it to end at 100 we need to increase the ending number\n",
    "np.arange(1, 101, 11)"
   ]
  },
  {
   "cell_type": "code",
   "execution_count": null,
   "metadata": {},
   "outputs": [],
   "source": [
    "#np.logspace works in logspace and the starting and ending values are the log of those numbers\n",
    "#so a value of -2 is the same as 10^-2, a value of 4 is 10^4, value of 0 is 10^0 = 1\n",
    "#this genereates an equal spacing array in log-space which is different than linear spacing\n",
    "np.logspace(0, 2, 10)"
   ]
  },
  {
   "cell_type": "markdown",
   "metadata": {},
   "source": [
    "# Boolean Masking\n",
    "\n",
    "A very cool thing that arrays can do is that we can perform conditional expressions across an entire array. This will result in an array of True and False values which we can use to subselect the relevant values from a larger array. Let us see this in action below."
   ]
  },
  {
   "cell_type": "code",
   "execution_count": null,
   "metadata": {},
   "outputs": [],
   "source": [
    "random_numbers = np.random.normal(loc = 2, scale = 1, size = 100)\n",
    "\n",
    "print(random_numbers)\n",
    "print()\n",
    "print('Length: ', len(random_numbers))"
   ]
  },
  {
   "cell_type": "code",
   "execution_count": null,
   "metadata": {},
   "outputs": [],
   "source": [
    "#making a conditional to only select numbers between 2 and 4\n",
    "range_2_to_4 = ((random_numbers > 2) &\n",
    "                (random_numbers < 4))\n",
    "\n",
    "print(range_2_to_4)"
   ]
  },
  {
   "cell_type": "code",
   "execution_count": null,
   "metadata": {},
   "outputs": [],
   "source": [
    "#let us now apply this boolean mask to the random numbers to subselect the values within the range 2 to 4\n",
    "\n",
    "subsample = random_numbers[range_2_to_4]\n",
    "\n",
    "print(subsample)\n",
    "print()\n",
    "print('Length: ', len(subsample))"
   ]
  },
  {
   "cell_type": "markdown",
   "metadata": {},
   "source": [
    "# Note:\n",
    "\n",
    "Boolean masks are a great way to subselect data from an array with ease but it does come at a cost in that when you apply the mask onto an array it alters the size of the array, we started off with an array of length 100 and when we applied the mask it down selected reducing the size of the array. This has important implication if you are working with many different arrays and they need to be the same size for plotting. The way to fix this is that you would need to apply this mask to the other arrays as well to make sure they are the same size and match up for any subsequent analysis and plotting purposes."
   ]
  },
  {
   "cell_type": "markdown",
   "metadata": {},
   "source": [
    "# 2D Arrays\n",
    "\n",
    "In the next few notebooks, we will encounter a type of array called ND-Arrays these arrays are N-dimensional arrays but for the sake of introducing ND-arrays we will be working with 2D-arrays but the same concepts learned here can be extrapolated to higher dimensional arrays. 2D arrays are the typical data structure of images which will be the focus of the Photometry Module. So knowing how to manipulate 2D arrays and performing mathematical operations is crucial for that module. \n",
    "\n",
    "2D arrays are made by turning a list of list into an array. Take, for example. that we have the following list within list [[1, 2, 3, 4], [10, 11, 12, 13]], we can turn this into a 2D array using the np.array() function.\n",
    "\n",
    "    twoD_array = np.array([[1, 2, 3, 4], [10, 11, 12, 13]])\n",
    "    \n",
    "What numpy will do is that it will make the first list, [1, 2, 3, 4], be the first row in the 2D array and the second list, [10, 11, 12, 13], will be the second row. This will make a matrix with row and column values. With this example shown here it will make a 2x4 array with 2 rows and 4 columns. Let us apply this in python."
   ]
  },
  {
   "cell_type": "code",
   "execution_count": null,
   "metadata": {},
   "outputs": [],
   "source": [
    "#defining a 2D array with 2 rows and 4 columns\n",
    "twoD_array = np.array([[1, 2, 3, 4],[10, 11, 12, 13]])\n",
    "\n",
    "print(twoD_array)"
   ]
  },
  {
   "cell_type": "markdown",
   "metadata": {},
   "source": [
    "# Indexing 2D Arrays\n",
    "\n",
    "Indexing 2D-arrays builds on indexing 1D arrays as we have two locations to specify we need to specify. The index across the row and the index across the column to grab the value that we want. Let us say we want to get the value 12. By eye we can see that it is in the second row and in the third column. All the rules of indexing still apply as well as splicing, striding and negative indexing. In this simple example of getting 12 we would do the following:"
   ]
  },
  {
   "cell_type": "code",
   "execution_count": null,
   "metadata": {},
   "outputs": [],
   "source": [
    "#getting the value of 12, 2nd row is index 1 and 3rd column is at index 2\n",
    "twoD_array[1, 2]"
   ]
  },
  {
   "cell_type": "markdown",
   "metadata": {},
   "source": [
    "In general to get a single value from a 2D array requires us to use the syntax below:\n",
    "\n",
    "twoD_array[Row_index, Column_index]\n",
    "\n",
    "\n",
    "This can be generalized to include slicing:\n",
    "\n",
    "twoD_array[start_row_index:ending_row_index, start_col_index: ending_col_index]\n",
    "\n",
    "Note that the ',' is what tells python when the index is for row or for columns\n",
    "\n",
    "If you want all the rows of a column the syntax for that is as follows:\n",
    "\n",
    "twoD_array[:, col_index]\n",
    "\n",
    "If you want all the columns from a row you can use either of the two methods shown below:\n",
    "\n",
    "1. twoD_array[row_index]\n",
    "2. twoD_array[row_index, :]\n",
    "\n",
    "Both will give you the entire row corresponding to the row_index. \n",
    "\n",
    "Let's apply this to a larger 2D array to see this in action."
   ]
  },
  {
   "cell_type": "code",
   "execution_count": null,
   "metadata": {},
   "outputs": [],
   "source": [
    "big_2d_arr = np.random.normal(loc = 2, \n",
    "                              scale = 1, \n",
    "                              size = (10, 12), #this is how you tell numpy you want a 10x12 array of values\n",
    "                              )\n",
    "\n",
    "print(big_2d_arr)"
   ]
  },
  {
   "cell_type": "code",
   "execution_count": null,
   "metadata": {},
   "outputs": [],
   "source": [
    "#let's select the entire 5th row\n",
    "print(big_2d_arr[4])\n",
    "print('or')\n",
    "print(big_2d_arr[4, :])"
   ]
  },
  {
   "cell_type": "code",
   "execution_count": null,
   "metadata": {},
   "outputs": [],
   "source": [
    "#let's select the entire 5th column\n",
    "print(big_2d_arr[:, 4])"
   ]
  },
  {
   "cell_type": "code",
   "execution_count": null,
   "metadata": {},
   "outputs": [],
   "source": [
    "#let us select row 2 - 5 and columns 6 - 10\n",
    "\n",
    "    #row indexing , column indexing\n",
    "big_2d_arr[1:5    ,  5:10]"
   ]
  },
  {
   "cell_type": "markdown",
   "metadata": {},
   "source": [
    "# Math with 2D Arrays and Scalars\n",
    "\n",
    "Everything we covered with 1D arrays for scalar arithmetic stills applies with 2D array you can take any number and perform any math operator on a 2D-array and every single element will have that operation applied.\n"
   ]
  },
  {
   "cell_type": "code",
   "execution_count": null,
   "metadata": {},
   "outputs": [],
   "source": [
    "twod_arr = np.ones(shape = (4, 5))\n",
    "print(twod_arr)"
   ]
  },
  {
   "cell_type": "code",
   "execution_count": null,
   "metadata": {},
   "outputs": [],
   "source": [
    "twod_arr + 5"
   ]
  },
  {
   "cell_type": "code",
   "execution_count": null,
   "metadata": {},
   "outputs": [],
   "source": [
    "twod_arr - .5"
   ]
  },
  {
   "cell_type": "code",
   "execution_count": null,
   "metadata": {},
   "outputs": [],
   "source": [
    "twod_arr / 2"
   ]
  },
  {
   "cell_type": "code",
   "execution_count": null,
   "metadata": {},
   "outputs": [],
   "source": [
    "twod_arr * 5"
   ]
  },
  {
   "cell_type": "code",
   "execution_count": null,
   "metadata": {},
   "outputs": [],
   "source": [
    "(2*twod_arr)**2"
   ]
  },
  {
   "cell_type": "markdown",
   "metadata": {},
   "source": [
    "# Math between 2D Arrays and 1D Arrays\n",
    "\n",
    "You can also perform mathematical operators between 2D arrays and 1D arrays but there is a criteria that must be met, the 1D array $\\textbf{MUST}$ be the same size as the columns of the 2D array. So if you have a 10 x 12 array the 1D array needs to be length 12 to perform mathematical operations. \n",
    "\n",
    "The way math is carried out between these two is that every row gets the math operator applied making sure that the same elements are undergoing the operation. To explain this with an example let us take the following array: np.array([[1, 2, 3], [2, 4, 8], [3, 6, 9]]) and the 1D-array np.array([2, 2, 2]) and let's say I need to multiply these two arrays. \n",
    "\n",
    "What will happen is that numpy will take the first row of the 2D array and perform the multiplication [1, 2, 3] * [2, 2, 2] and since we have two 1D arrays of the same length we perform the operation element-wise. The output for this is going to be: [2, 4, 6] and this will be the new row1 in the output 2D array. The second row then does the same operation: [2, 4, 8] * [2, 2, 2] = [4, 8, 16] and this will be the second row and so on. so the resulting 2D array from this operation will be: np.array([[2, 4, 6], [4, 8, 16], [6, 12, 18]]). \n"
   ]
  },
  {
   "cell_type": "code",
   "execution_count": null,
   "metadata": {},
   "outputs": [],
   "source": [
    "ex_2darr = np.array([[1, 2, 3], [2, 4, 8], [3, 6, 9]])\n",
    "ex_1darr = np.array([2, 2, 2])"
   ]
  },
  {
   "cell_type": "code",
   "execution_count": null,
   "metadata": {},
   "outputs": [],
   "source": [
    "ex_2darr + ex_1darr"
   ]
  },
  {
   "cell_type": "code",
   "execution_count": null,
   "metadata": {},
   "outputs": [],
   "source": [
    "ex_2darr - ex_1darr"
   ]
  },
  {
   "cell_type": "code",
   "execution_count": null,
   "metadata": {},
   "outputs": [],
   "source": [
    "ex_2darr * ex_1darr"
   ]
  },
  {
   "cell_type": "code",
   "execution_count": null,
   "metadata": {},
   "outputs": [],
   "source": [
    "ex_2darr / ex_1darr"
   ]
  },
  {
   "cell_type": "markdown",
   "metadata": {},
   "source": [
    "# Math Between 2D Arrays and 2D Arrays\n",
    "\n",
    "You can also perform mathematical operations between many other 2D arrays. This also has a strict criteria that must be met and this is that the $\\textbf{shape}$ of the arrays $\\textbf{MUST}$ be the same. The number of rows and columns must match exactly for mathematical operations to be performed between any number of 2D arrays. The math performed here is done element wise so every item with a similar row and column index will have the operation applied to it. The first row and first column element of all the arrays will have the math operation performed, The first row and second column element of all the arrays will have the math operation performed, and so on. Let's see an example of this in use."
   ]
  },
  {
   "cell_type": "code",
   "execution_count": null,
   "metadata": {},
   "outputs": [],
   "source": [
    "twod_arr1 = np.random.randint(1, 100, size = (5, 7))\n",
    "twod_arr2 = np.random.random(size = (5, 7))"
   ]
  },
  {
   "cell_type": "code",
   "execution_count": null,
   "metadata": {},
   "outputs": [],
   "source": [
    "#you can check the shape of an array using the shape attribute\n",
    "twod_arr1.shape"
   ]
  },
  {
   "cell_type": "code",
   "execution_count": null,
   "metadata": {},
   "outputs": [],
   "source": [
    "#you can check the shape of an array using the shape attribute\n",
    "twod_arr2.shape"
   ]
  },
  {
   "cell_type": "code",
   "execution_count": null,
   "metadata": {},
   "outputs": [],
   "source": [
    "twod_arr1 + twod_arr2"
   ]
  },
  {
   "cell_type": "code",
   "execution_count": null,
   "metadata": {},
   "outputs": [],
   "source": [
    "twod_arr1 - twod_arr2"
   ]
  },
  {
   "cell_type": "code",
   "execution_count": null,
   "metadata": {},
   "outputs": [],
   "source": [
    "twod_arr1 * twod_arr2"
   ]
  },
  {
   "cell_type": "code",
   "execution_count": null,
   "metadata": {},
   "outputs": [],
   "source": [
    "twod_arr1 / twod_arr2"
   ]
  },
  {
   "cell_type": "markdown",
   "metadata": {},
   "source": [
    "# Boolean Masking for 2D Arrays\n",
    "\n",
    "Everything we covered about masking for 1D array is transferable to 2D arrays. We just have an added dimension to work with. The main thing to note about applying boolean masks to 2D arrays is that it changes both the row and column size based off of the mask being applied."
   ]
  },
  {
   "cell_type": "code",
   "execution_count": null,
   "metadata": {},
   "outputs": [],
   "source": [
    "ex_2d_arr = np.random.normal(loc = 2, scale = 1, size = (5, 7))\n",
    "\n",
    "ex_2d_arr > 3"
   ]
  },
  {
   "cell_type": "code",
   "execution_count": null,
   "metadata": {},
   "outputs": [],
   "source": [
    "bool_mask = ex_2d_arr > 3\n",
    "\n",
    "ex_2d_arr_masked = ex_2d_arr[bool_mask]\n",
    "\n",
    "print(ex_2d_arr_masked)"
   ]
  },
  {
   "cell_type": "code",
   "execution_count": null,
   "metadata": {},
   "outputs": [],
   "source": [
    "#you can apply a 1D boolean mask so long as it matches the row or column length you are trying to mask\n",
    "\n",
    "#this will mask out the 2nd and last row of the 2D array\n",
    "bool_mask1d = np.array([True, False, True, True, False])\n",
    "\n",
    "print(ex_2d_arr[bool_mask1d])\n",
    "print()\n",
    "print(ex_2d_arr[bool_mask1d].shape)"
   ]
  },
  {
   "cell_type": "code",
   "execution_count": null,
   "metadata": {},
   "outputs": [],
   "source": [
    "#you can apply a 1D boolean mask so long as it matches the row or column length you are trying to mask\n",
    "\n",
    "#this will mask out the 2nd and 5th columns of the 2D array\n",
    "bool_mask1d = np.array([True, False, True, True, False, True, True])\n",
    "\n",
    "print(ex_2d_arr[:, bool_mask1d])\n",
    "print()\n",
    "print(ex_2d_arr[:, bool_mask1d].shape)"
   ]
  },
  {
   "cell_type": "markdown",
   "metadata": {},
   "source": [
    "# 2. Matplotlib\n",
    "\n",
    "Matplotlib is the plotting library in python. We use this to showcase our result and make paper worthy plots. In this section we will go over the basics of plotting you will need to have to start your research journey. The main function that you will be using is a combination of plot, scatter, or hist and we will cover them all in the next few cells.\n",
    "\n",
    "1. Plot: This is the function if you want to draw lines connecting your points\n",
    "2. Scatter: if you want to draw points with no connecting lines, useful in correlation plots\n",
    "3. Hist: this is the function you use if you want to make a histogram of your data"
   ]
  },
  {
   "cell_type": "code",
   "execution_count": null,
   "metadata": {},
   "outputs": [],
   "source": [
    "import matplotlib.pyplot as plt"
   ]
  },
  {
   "cell_type": "code",
   "execution_count": null,
   "metadata": {},
   "outputs": [],
   "source": [
    "#making our first plot\n",
    "\n",
    "#making x and y data\n",
    "x = np.linspace(1, 50, 100)\n",
    "y = np.linspace(5, 39, 100)\n",
    "\n",
    "#using the plot function all we need is an x and y array\n",
    "plt.plot(x, y)\n",
    "plt.show()"
   ]
  },
  {
   "cell_type": "code",
   "execution_count": null,
   "metadata": {},
   "outputs": [],
   "source": [
    "#If x and y are not the same size you WILL get an error message\n",
    "#be sure to check that x and y are the same size before plotting\n",
    "\n",
    "x = np.linspace(1, 50, 100)\n",
    "y = np.linspace(5, 39, 50)\n",
    "\n",
    "plt.plot(x, y)\n",
    "plt.show()"
   ]
  },
  {
   "cell_type": "code",
   "execution_count": null,
   "metadata": {},
   "outputs": [],
   "source": [
    "#making an x array\n",
    "x = np.linspace(-2, 2, 100)\n",
    "\n",
    "#let's say we were asked to plot a quadratic equation of the form y = -x^2 + 3, with numpy arrays we can do this \n",
    "#in one line\n",
    "y = -x**2 + 3\n",
    "\n",
    "plt.plot(x, y)\n",
    "plt.show()"
   ]
  },
  {
   "cell_type": "markdown",
   "metadata": {},
   "source": [
    "# Making plots look better\n",
    "\n",
    "The above plot is good but it can be improved dramatically. Let us look at some ways you can make plots look better."
   ]
  },
  {
   "cell_type": "markdown",
   "metadata": {},
   "source": [
    "# 1. linestyle\n",
    "\n",
    "This is how the line will look and if you go to: \n",
    "\n",
    "https://matplotlib.org/stable/gallery/lines_bars_and_markers/linestyles.html\n",
    "\n",
    "You will see all the available linestyle at your disposal. Look into this and mess around with linestyle to find the style that works best for you and the data."
   ]
  },
  {
   "cell_type": "code",
   "execution_count": null,
   "metadata": {},
   "outputs": [],
   "source": [
    "x = np.linspace(-2, 2, 100)\n",
    "y = -x**2+3\n",
    "\n",
    "plt.plot(x, y, linestyle = '--')\n",
    "plt.show()"
   ]
  },
  {
   "cell_type": "code",
   "execution_count": null,
   "metadata": {},
   "outputs": [],
   "source": [
    "x = np.linspace(-2, 2, 100)\n",
    "y = -x**2+3\n",
    "\n",
    "plt.plot(x, y, linestyle = '-.')\n",
    "plt.show()"
   ]
  },
  {
   "cell_type": "markdown",
   "metadata": {},
   "source": [
    "# 2. Linewidth\n",
    "\n",
    "Line width changes the thickness of your lines. If you need it to be thicker you would provide linewidth a number greater than 1 and if you need it thinner you would give it a number between 0 and 1. "
   ]
  },
  {
   "cell_type": "code",
   "execution_count": null,
   "metadata": {},
   "outputs": [],
   "source": [
    "x = np.linspace(-2, 2, 100)\n",
    "y = -x**2+3\n",
    "\n",
    "plt.plot(x, y, linewidth = 2) #thicker lines\n",
    "plt.show()"
   ]
  },
  {
   "cell_type": "code",
   "execution_count": null,
   "metadata": {},
   "outputs": [],
   "source": [
    "x = np.linspace(-2, 2, 100)\n",
    "y = -x**2+3\n",
    "\n",
    "plt.plot(x, y, linewidth = .5) #thinner line\n",
    "plt.show()"
   ]
  },
  {
   "cell_type": "markdown",
   "metadata": {},
   "source": [
    "Mixing the two"
   ]
  },
  {
   "cell_type": "code",
   "execution_count": null,
   "metadata": {},
   "outputs": [],
   "source": [
    "x = np.linspace(-2, 2, 100)\n",
    "y = -x**2+3\n",
    "\n",
    "plt.plot(x, y, linestyle = '-.', linewidth = 1.5)\n",
    "plt.show()"
   ]
  },
  {
   "cell_type": "markdown",
   "metadata": {},
   "source": [
    "# 3. Color\n",
    "\n",
    "Color is another great way to make plots look cleaner. If you go here:\n",
    "\n",
    "https://matplotlib.org/stable/gallery/color/named_colors.html\n",
    "\n",
    "You can learn about all the colors available to you. If a color you want to use is not here, fear not matplolib also accept hexadecimal notation for a color simply look up the hex code for your favorite color and add that into the plt.plot() color argument."
   ]
  },
  {
   "cell_type": "code",
   "execution_count": null,
   "metadata": {},
   "outputs": [],
   "source": [
    "x = np.linspace(-2, 2, 100)\n",
    "y = -x**2+3\n",
    "\n",
    "plt.plot(x, y, linestyle = '-.', linewidth = 1.5, color = 'black')\n",
    "plt.show()"
   ]
  },
  {
   "cell_type": "code",
   "execution_count": null,
   "metadata": {},
   "outputs": [],
   "source": [
    "x = np.linspace(-2, 2, 100)\n",
    "y = -x**2+3\n",
    "\n",
    "plt.plot(x, y, linestyle = '-.', linewidth = 1.5, color = 'red')\n",
    "plt.show()"
   ]
  },
  {
   "cell_type": "code",
   "execution_count": null,
   "metadata": {},
   "outputs": [],
   "source": [
    "cobaltblue = '#41568B'\n",
    "\n",
    "x = np.linspace(-2, 2, 100)\n",
    "y = -x**2+3\n",
    "\n",
    "plt.plot(x, y, linestyle = '-.', linewidth = 1.5, color = cobaltblue)\n",
    "plt.show()"
   ]
  },
  {
   "cell_type": "markdown",
   "metadata": {},
   "source": [
    "# 4. Marker Style\n",
    "\n",
    "You can also change the markerstyle. This will make a marker at each of your data point (x, y) location. You can learn about all the markers at your disposal here:\n",
    "\n",
    "https://matplotlib.org/stable/api/markers_api.html\n",
    "\n",
    "You may also need to mess around with the markersize argument to change the size of your markers to make your plots readable. "
   ]
  },
  {
   "cell_type": "code",
   "execution_count": null,
   "metadata": {},
   "outputs": [],
   "source": [
    "x = np.linspace(-2, 2, 100)\n",
    "y = -x**2+3\n",
    "\n",
    "plt.plot(x, y, linewidth = 1.5, color = 'blue', marker = ',', markersize = 10)\n",
    "plt.show()"
   ]
  },
  {
   "cell_type": "code",
   "execution_count": null,
   "metadata": {},
   "outputs": [],
   "source": [
    "x = np.linspace(-2, 2, 100)\n",
    "y = -x**2+3\n",
    "\n",
    "plt.plot(x, y, linewidth = 1.5, color = 'blue', marker = '*', markersize = 5)\n",
    "plt.show()"
   ]
  },
  {
   "cell_type": "markdown",
   "metadata": {},
   "source": [
    "# 5. Labels and Title\n",
    "\n",
    "One way to make your plots more readable is by including text to describe the axes labels. This is done using the plt.xlabel and plt.ylabel commands. If you want to add a title to your plot you can do so using the plt.title function. You can also change the fontsize if the labels are too small. Let's see it used below."
   ]
  },
  {
   "cell_type": "code",
   "execution_count": null,
   "metadata": {},
   "outputs": [],
   "source": [
    "x = np.linspace(-2, 2, 100)\n",
    "y = -x**2+3\n",
    "\n",
    "plt.title('My First Plot', fontsize = 20)\n",
    "plt.xlabel('X-axis', fontsize = 15)\n",
    "plt.ylabel('Y-axis', fontsize = 15)\n",
    "\n",
    "\n",
    "plt.plot(x, y, marker = '.', linewidth = 1.5, color = 'blue')\n",
    "plt.show()"
   ]
  },
  {
   "cell_type": "markdown",
   "metadata": {},
   "source": [
    "# 6. Multiple lines\n",
    "\n",
    "One cool thing about plotting in python is that you can plot multiple things in one plot. You would need to simply add in the other lines using their own separate plt.plot command. Let's see an example of this with 2 and 3 things being plotted at once."
   ]
  },
  {
   "cell_type": "code",
   "execution_count": null,
   "metadata": {},
   "outputs": [],
   "source": [
    "x = np.linspace(-2, 2, 100)\n",
    "y = -x**2+3\n",
    "y2 = x**2\n",
    "\n",
    "plt.title('My First Plot')\n",
    "plt.xlabel('X-axis')\n",
    "plt.ylabel('Y-axis')\n",
    "\n",
    "#makes downward facing plot\n",
    "plt.plot(x, y, marker = '.', linewidth = 1.5, color = 'blue')\n",
    "\n",
    "#makes upward facing plot\n",
    "plt.plot(x, y2, linestyle = '--', linewidth = 1, color = 'red')\n",
    "\n",
    "plt.show()"
   ]
  },
  {
   "cell_type": "code",
   "execution_count": null,
   "metadata": {},
   "outputs": [],
   "source": [
    "x = np.linspace(-2, 2, 100)\n",
    "y = -x**2+3\n",
    "y2 = x**2\n",
    "y3 = 1.5*x + 0.1\n",
    "\n",
    "plt.title('My First Plot')\n",
    "plt.xlabel('X-axis')\n",
    "plt.ylabel('Y-axis')\n",
    "\n",
    "#makes downward facing plot\n",
    "plt.plot(x, y, marker = '.', linewidth = 1.5, color = 'blue')\n",
    "\n",
    "#makes upward facing plot\n",
    "plt.plot(x, y2, linestyle = '--', linewidth = 1, color = 'red')\n",
    "\n",
    "#makes linear line\n",
    "plt.plot(x, y3, linestyle = '-', linewidth = 1.5, color = 'black')\n",
    "\n",
    "plt.show()"
   ]
  },
  {
   "cell_type": "markdown",
   "metadata": {},
   "source": [
    "# 7. Legends\n",
    "\n",
    "When dealing with multiple data it is helpful to include legends to tell your audience what each line in the plot is refering to. To do so you would need to add a label in the plt.plot function with the label of the plot and then once you have made your plt.plot functions call the legend using the plt.legend(). An example of using legends in plotting can be seen below."
   ]
  },
  {
   "cell_type": "code",
   "execution_count": null,
   "metadata": {},
   "outputs": [],
   "source": [
    "x = np.linspace(-2, 2, 100)\n",
    "y = -x**2+3\n",
    "y2 = x\n",
    "\n",
    "plt.title('My First Plot')\n",
    "plt.xlabel('X-axis')\n",
    "plt.ylabel('Y-axis')\n",
    "\n",
    "#makes downward facing plot\n",
    "plt.plot(x, y, marker = '.', linewidth = 1.5, color = 'blue', label = 'Quadratic')\n",
    "\n",
    "#makes linear plot\n",
    "plt.plot(x, y2, linestyle = '--', linewidth = 1, color = 'red', label = 'Linear')\n",
    "\n",
    "plt.legend()\n",
    "plt.show()"
   ]
  },
  {
   "cell_type": "markdown",
   "metadata": {},
   "source": [
    "# Scatter Plots\n",
    "\n",
    "The next kind of plot is scatter plots which is as the name suggest scatters the point on the plot and does not have any line connecting them. This is really good if you want to see trends with the data without interconnecting lines messing with the plots. You can specify markers as we did in plt.plot, you can also specify the size of the marker but just note that the size here is not the same as the size in plt.plot. You can color code data via a third axis if you want to see trends in a third dimension using the \"c\" argument in plt.scatter. Let us see an example of one below.\n",
    "\n",
    "A list of colormaps can be found here: \n",
    "\n",
    "https://matplotlib.org/stable/users/explain/colors/colormaps.html"
   ]
  },
  {
   "cell_type": "code",
   "execution_count": null,
   "metadata": {},
   "outputs": [],
   "source": [
    "x = np.random.normal(size = 30)\n",
    "y = np.random.normal(size = 30)\n",
    "color_coded = np.random.random(size = 30)\n",
    "\n",
    "plt.figure(figsize = (10, 6))\n",
    "plt.scatter(x, y, \n",
    "            s = 100, #the size of the marker\n",
    "            c = color_coded, #this is telling how the points should be color coded\n",
    "            label = 'Scattered Data', \n",
    "            cmap = 'RdBu', #the color map, this sets the coloring scheme from c\n",
    "            )\n",
    "\n",
    "plt.xlabel('X-Data', fontsize = 15)\n",
    "plt.ylabel('Y-Data', fontsize = 15)\n",
    "\n",
    "plt.colorbar()\n",
    "plt.legend()\n",
    "plt.show()"
   ]
  },
  {
   "cell_type": "markdown",
   "metadata": {},
   "source": [
    "# Histograms\n",
    "\n",
    "Histograms are really good at taking your data and seeing how much of your data falls in discrete bins. This is usefull if you ran a model and are checking the posterior distributions or if want to see where your sample falls in redshift space. Histograms are a really useful way to learn more about your data. "
   ]
  },
  {
   "cell_type": "code",
   "execution_count": null,
   "metadata": {},
   "outputs": [],
   "source": [
    "gauss = np.random.normal(loc = 4, scale = 2, size = 10000)\n",
    "\n",
    "plt.figure(figsize = (10, 6))\n",
    "plt.hist(gauss, color = 'cadetblue', bins = 50)\n",
    "plt.axvline(4, linestyle = '-', color = 'red')\n",
    "plt.axvline(2, linestyle = '--', color = 'black')\n",
    "plt.axvline(6, linestyle = '--', color = 'black')\n",
    "plt.xlabel('X-Data', fontsize = 15)\n",
    "plt.ylabel('Counts', fontsize = 15)\n",
    "\n",
    "plt.show()"
   ]
  },
  {
   "cell_type": "code",
   "execution_count": null,
   "metadata": {},
   "outputs": [],
   "source": [
    "exponential = np.random.exponential(size = 10000)\n",
    "\n",
    "plt.figure(figsize = (10, 6))\n",
    "plt.hist(exponential, color = 'cadetblue', bins = 50)\n",
    "plt.xlabel('X-Data', fontsize = 15)\n",
    "plt.ylabel('Counts', fontsize = 15)\n",
    "\n",
    "plt.show()"
   ]
  },
  {
   "cell_type": "markdown",
   "metadata": {},
   "source": [
    "## 3. Scipy"
   ]
  },
  {
   "cell_type": "code",
   "execution_count": null,
   "metadata": {},
   "outputs": [],
   "source": [
    "import scipy.stats as stats\n",
    "import scipy.integrate as integ"
   ]
  },
  {
   "cell_type": "code",
   "execution_count": null,
   "metadata": {},
   "outputs": [],
   "source": [
    "#Useful stats functions in scipy \n",
    "stats.describe()"
   ]
  },
  {
   "cell_type": "code",
   "execution_count": null,
   "metadata": {},
   "outputs": [],
   "source": [
    "#finds the most repeated values\n",
    "stats.mode()"
   ]
  },
  {
   "cell_type": "code",
   "execution_count": null,
   "metadata": {},
   "outputs": [],
   "source": [
    "#A generalization of mode where it finds ALL the repeated values\n",
    "#and how often they occur\n",
    "states.find_repeats()"
   ]
  },
  {
   "cell_type": "code",
   "execution_count": null,
   "metadata": {},
   "outputs": [],
   "source": [
    "stats.chisqr()"
   ]
  },
  {
   "cell_type": "markdown",
   "metadata": {},
   "source": [
    "## Statistical Probability Distributions"
   ]
  },
  {
   "cell_type": "code",
   "execution_count": null,
   "metadata": {},
   "outputs": [],
   "source": [
    "#making an x array\n",
    "x = np.linspace(0, 100, 100)"
   ]
  },
  {
   "cell_type": "code",
   "execution_count": null,
   "metadata": {},
   "outputs": [],
   "source": [
    "plt.figure(figsize = (10,7))\n",
    "plt.title('Exponential Distribution')\n",
    "plt.plot(x, stats.expon.pdf(x))\n",
    "plt.show()"
   ]
  },
  {
   "cell_type": "code",
   "execution_count": null,
   "metadata": {},
   "outputs": [],
   "source": [
    "#a Normal or BellCurve distribution\n",
    "x1 = np.linspace(-2,2, 100)\n",
    "\n",
    "plt.figure(figsize = (10,7))\n",
    "plt.title('Normal Distribution')\n",
    "plt.plot(x1, stats.norm.pdf(x1, loc = 0, scale = 1))\n",
    "plt.show()"
   ]
  },
  {
   "cell_type": "code",
   "execution_count": null,
   "metadata": {},
   "outputs": [],
   "source": [
    "#A Uniform distributions\n",
    "x2 = np.linspace(-2,2, 100)"
   ]
  },
  {
   "cell_type": "code",
   "execution_count": null,
   "metadata": {},
   "outputs": [],
   "source": [
    "plt.figure(figsize = (10,7))\n",
    "plt.title('Uniform Distribution')\n",
    "plt.plot(x2, stats.uniform.pdf(x2, loc = -1, scale = 2))\n",
    "plt.show()"
   ]
  },
  {
   "cell_type": "code",
   "execution_count": null,
   "metadata": {},
   "outputs": [],
   "source": [
    "#A Maxwell Distributions useful for gas velocity\n",
    "stats.maxwell\n",
    "x3 = np.linspace(-2, 7, 100)"
   ]
  },
  {
   "cell_type": "code",
   "execution_count": null,
   "metadata": {},
   "outputs": [],
   "source": [
    "plt.figure(figsize = (10,7))\n",
    "plt.title('Maxwell Distribution')\n",
    "plt.plot(x3, stats.maxwell.pdf(x3))\n",
    "plt.show()"
   ]
  },
  {
   "cell_type": "code",
   "execution_count": null,
   "metadata": {},
   "outputs": [],
   "source": [
    "plt.figure(figsize = (10,7))\n",
    "plt.title('Poisson Distribution')\n",
    "plt.plot(x, stats.poisson.pmf(x, loc = 100, mu = .001))\n",
    "plt.show()"
   ]
  },
  {
   "cell_type": "markdown",
   "metadata": {},
   "source": [
    "## Integration"
   ]
  },
  {
   "cell_type": "code",
   "execution_count": null,
   "metadata": {},
   "outputs": [],
   "source": [
    "#calculating the integral using the trapezoid method\n",
    "integ.trapz()"
   ]
  },
  {
   "cell_type": "code",
   "execution_count": null,
   "metadata": {},
   "outputs": [],
   "source": [
    "#integrating y = x^2 using trapz\n",
    "x = np.arange(0, 4, .1)\n",
    "y = x**2\n",
    "\n",
    "integ.trapz(y, dx = 0.1)"
   ]
  },
  {
   "cell_type": "code",
   "execution_count": null,
   "metadata": {},
   "outputs": [],
   "source": [
    "#calculating the integral using the simpson method\n",
    "integ.simps()"
   ]
  },
  {
   "cell_type": "code",
   "execution_count": null,
   "metadata": {},
   "outputs": [],
   "source": [
    "#integrating y = x^2 using trapz\n",
    "x = np.arange(0, 4, .1)\n",
    "y = x**2\n",
    "\n",
    "integ.simps(y, dx = 0.1)"
   ]
  },
  {
   "cell_type": "code",
   "execution_count": null,
   "metadata": {},
   "outputs": [],
   "source": [
    "#calculating the integral using the romberg method\n",
    "integ.romb()\n",
    "\n",
    "x = np.arange(0, 4, .1)\n",
    "y = x**2\n",
    "\n",
    "integ.simps(y, dx = 0.1)"
   ]
  },
  {
   "cell_type": "code",
   "execution_count": null,
   "metadata": {},
   "outputs": [],
   "source": [
    "#Calculates the defininte integral \n",
    "integ.quad()"
   ]
  },
  {
   "cell_type": "markdown",
   "metadata": {},
   "source": [
    "## NOTE:\n",
    "\n",
    "For the first three integration functions all you need to input is an array that you want to integrate and specify the dx values and the functions will calculate the integral. \n",
    "\n",
    "Quad on the other hand is a little different and more involved as it takes in the actual function you want to calculate. So say you want to find the integral of f(x) = $x^2$ then we would need to write a function such as:\n",
    "\n",
    "\n",
    "def x_sqr(x):\n",
    "\n",
    "    return x**2\n",
    "   \n",
    "And then pass this function into the quad integral function using the following:\n",
    "\n",
    "\n",
    "quad(x_sqr, lower_limit, upper_limit)\n",
    "\n",
    "quad also returns two things back to you, it returns the value of the integral and the error on that value. Let us see it in action in the next section."
   ]
  },
  {
   "cell_type": "code",
   "execution_count": null,
   "metadata": {},
   "outputs": [],
   "source": [
    "def x_sqr(x):\n",
    "    \n",
    "    return x**2\n",
    "\n",
    "integral, error = integ.quad(x_sqr, a = 0, b = 4)\n",
    "\n",
    "print(integral)"
   ]
  }
 ],
 "metadata": {
  "kernelspec": {
   "display_name": "Python 3",
   "language": "python",
   "name": "python3"
  },
  "language_info": {
   "codemirror_mode": {
    "name": "ipython",
    "version": 3
   },
   "file_extension": ".py",
   "mimetype": "text/x-python",
   "name": "python",
   "nbconvert_exporter": "python",
   "pygments_lexer": "ipython3",
   "version": "3.6.13"
  }
 },
 "nbformat": 4,
 "nbformat_minor": 2
}
