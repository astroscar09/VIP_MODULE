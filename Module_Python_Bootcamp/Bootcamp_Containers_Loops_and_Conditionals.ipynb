{
 "cells": [
  {
   "cell_type": "markdown",
   "metadata": {},
   "source": [
    "# 2. Containers, Loops and Conditionals\n",
    "\n",
    "This notebook will cover three very related concepts that you will use as you code and do research. These are containers which have the capabilities of holding multiple values, Loops which allow you to access the contents of the containers and do some analysis on them and conditionals which are used to apply selection criteria on what section of code to run and execute given a certain criteria."
   ]
  },
  {
   "cell_type": "markdown",
   "metadata": {},
   "source": [
    "# The 3 Containers in Python\n",
    "\n",
    "1. List\n",
    "2. Tuples\n",
    "3. Dictionaries\n",
    "\n",
    "For this bootcamp we will be going over Lists, only but feel free to check out the container notebook where it covers Tuples and Dictionaries in more detail."
   ]
  },
  {
   "cell_type": "code",
   "execution_count": 1,
   "metadata": {},
   "outputs": [],
   "source": [
    "#how to define a list in python Square Brackets []\n",
    "list_definition = []\n",
    "\n",
    "#NOTE: this creates an empty list"
   ]
  },
  {
   "cell_type": "code",
   "execution_count": 2,
   "metadata": {},
   "outputs": [
    {
     "data": {
      "text/plain": [
       "[]"
      ]
     },
     "execution_count": 2,
     "metadata": {},
     "output_type": "execute_result"
    }
   ],
   "source": [
    "list_definition"
   ]
  },
  {
   "cell_type": "code",
   "execution_count": 3,
   "metadata": {},
   "outputs": [],
   "source": [
    "#making a non-empty list with grocery items: strings only\n",
    "list1 = ['Milk', 'Cheese', 'Cereal', 'Pasta', 'Vegetables']"
   ]
  },
  {
   "cell_type": "code",
   "execution_count": 4,
   "metadata": {},
   "outputs": [],
   "source": [
    "#making a non-empty list with a mixture of data types\n",
    "\n",
    "                    # Float  int   string  bool   bool    string\n",
    "mix_and_match_list = [12.34, 213, 'Hello', True, False, 'Bye-Bye']"
   ]
  },
  {
   "cell_type": "code",
   "execution_count": 5,
   "metadata": {},
   "outputs": [],
   "source": [
    "#making a list that contains numbers and list\n",
    "\n",
    "              # float  float  int          List         float            List\n",
    "list_in_list = [12.3, 242.34, 230, ['Hi', True, False], 43.22, [345.3454, 'Oscar', True, 452.34]]"
   ]
  },
  {
   "cell_type": "markdown",
   "metadata": {},
   "source": [
    "## Accessing Values in a List"
   ]
  },
  {
   "cell_type": "code",
   "execution_count": 6,
   "metadata": {},
   "outputs": [
    {
     "data": {
      "text/plain": [
       "'Pasta'"
      ]
     },
     "execution_count": 6,
     "metadata": {},
     "output_type": "execute_result"
    }
   ],
   "source": [
    "#getting pasta from my list\n",
    "list1[3]"
   ]
  },
  {
   "cell_type": "code",
   "execution_count": 8,
   "metadata": {},
   "outputs": [
    {
     "data": {
      "text/plain": [
       "12.34"
      ]
     },
     "execution_count": 8,
     "metadata": {},
     "output_type": "execute_result"
    }
   ],
   "source": [
    "#getting the first item in Number_list\n",
    "mix_and_match_list[0]"
   ]
  },
  {
   "cell_type": "code",
   "execution_count": 9,
   "metadata": {},
   "outputs": [],
   "source": [
    "#changing the third entry of list1 to coffee\n",
    "list1[2] = 'Coffee'"
   ]
  },
  {
   "cell_type": "code",
   "execution_count": 10,
   "metadata": {},
   "outputs": [
    {
     "data": {
      "text/plain": [
       "['Milk', 'Cheese', 'Coffee', 'Pasta', 'Vegetables']"
      ]
     },
     "execution_count": 10,
     "metadata": {},
     "output_type": "execute_result"
    }
   ],
   "source": [
    "list1"
   ]
  },
  {
   "cell_type": "code",
   "execution_count": 11,
   "metadata": {},
   "outputs": [
    {
     "data": {
      "text/plain": [
       "230"
      ]
     },
     "execution_count": 11,
     "metadata": {},
     "output_type": "execute_result"
    }
   ],
   "source": [
    "#getting 3rd value in list_in_list\n",
    "list_in_list[2]"
   ]
  },
  {
   "cell_type": "code",
   "execution_count": null,
   "metadata": {},
   "outputs": [],
   "source": []
  },
  {
   "cell_type": "markdown",
   "metadata": {},
   "source": [
    "# Loops\n",
    "\n",
    "Loops are cool ways to access the content of list or to do a piece of code over and over again a certian number of times. \n",
    "\n",
    "For this bootcamp we will cover For-Loops but feel free to check out the notebook on Loops for While-Loops. "
   ]
  },
  {
   "cell_type": "code",
   "execution_count": null,
   "metadata": {},
   "outputs": [],
   "source": [
    "# definition of a for loop, do NOT run cell will break\n",
    "for 'item' in 'something_iterable':\n",
    "    \n",
    "    'Execute some code here!'"
   ]
  },
  {
   "cell_type": "code",
   "execution_count": 12,
   "metadata": {},
   "outputs": [
    {
     "name": "stdout",
     "output_type": "stream",
     "text": [
      "Hello\n",
      "I\n",
      "am\n",
      "Testing\n",
      "a\n",
      "For\n",
      "Loop\n",
      ":D\n"
     ]
    }
   ],
   "source": [
    "#For-Loop in action \n",
    "\n",
    "#defining a list here\n",
    "x = ['Hello', 'I', 'am', 'Testing', 'a', 'For', 'Loop', ':D']\n",
    "\n",
    "\n",
    "#starting a for-loop\n",
    "for item in x:\n",
    "    #as the for loop commences item the corresponding element of the iterable\n",
    "    #first time around it will be \"Hello\"\n",
    "    #second time is \"I\"\n",
    "    #third time is \"am\"\n",
    "    print(item)"
   ]
  },
  {
   "cell_type": "markdown",
   "metadata": {},
   "source": [
    "## Quick Pregunta"
   ]
  },
  {
   "cell_type": "code",
   "execution_count": 13,
   "metadata": {},
   "outputs": [
    {
     "name": "stdout",
     "output_type": "stream",
     "text": [
      "Hello\n",
      "\n",
      "['Hello', 'I', 'am', 'Testing', 'a', 'For', 'Loop', ':D']\n",
      "---------------\n",
      "\n",
      "I\n",
      "\n",
      "['Hello', 'I', 'am', 'Testing', 'a', 'For', 'Loop', ':D']\n",
      "---------------\n",
      "\n",
      "am\n",
      "\n",
      "['Hello', 'I', 'am', 'Testing', 'a', 'For', 'Loop', ':D']\n",
      "---------------\n",
      "\n",
      "Testing\n",
      "\n",
      "['Hello', 'I', 'am', 'Testing', 'a', 'For', 'Loop', ':D']\n",
      "---------------\n",
      "\n",
      "a\n",
      "\n",
      "['Hello', 'I', 'am', 'Testing', 'a', 'For', 'Loop', ':D']\n",
      "---------------\n",
      "\n",
      "For\n",
      "\n",
      "['Hello', 'I', 'am', 'Testing', 'a', 'For', 'Loop', ':D']\n",
      "---------------\n",
      "\n",
      "Loop\n",
      "\n",
      "['Hello', 'I', 'am', 'Testing', 'a', 'For', 'Loop', ':D']\n",
      "---------------\n",
      "\n",
      ":D\n",
      "\n",
      "['Hello', 'I', 'am', 'Testing', 'a', 'For', 'Loop', ':D']\n",
      "---------------\n",
      "\n"
     ]
    }
   ],
   "source": [
    "#What would the output be for this one?\n",
    "\n",
    "for item in x:\n",
    "    print(item)\n",
    "    print()\n",
    "    print(x)\n",
    "    print('---------------')\n",
    "    print()"
   ]
  },
  {
   "cell_type": "markdown",
   "metadata": {},
   "source": [
    "# Conditional Statements"
   ]
  },
  {
   "cell_type": "code",
   "execution_count": null,
   "metadata": {},
   "outputs": [],
   "source": [
    "#python syntax for if-else Statement, do NOT run cell\n",
    "if 'Some Condition to Check':\n",
    "    \n",
    "    #Note the indentation to denote the code is inside If-Statement\n",
    "    \n",
    "    'Code to run if the condition is True'\n",
    "else:\n",
    "    \n",
    "    #Note the indentation to denote code is inside Else-Statement\n",
    "    'Code to run if the condition is False'"
   ]
  },
  {
   "cell_type": "code",
   "execution_count": 15,
   "metadata": {},
   "outputs": [
    {
     "name": "stdout",
     "output_type": "stream",
     "text": [
      "I may buy it\n"
     ]
    }
   ],
   "source": [
    "MoneyAvailable = 200\n",
    "\n",
    "price = 190\n",
    "\n",
    "if MoneyAvailable > price:\n",
    "    print('I may buy it')\n",
    "else:\n",
    "    print('I cannot buy it')\n",
    "    "
   ]
  },
  {
   "cell_type": "code",
   "execution_count": null,
   "metadata": {},
   "outputs": [],
   "source": [
    "#syntax for Elif-Statement, do NOT run cell\n",
    "if condition1:\n",
    "    #do this code\n",
    "elif condition2:\n",
    "    #do this other code\n",
    "elif condition3:\n",
    "    #do this next code\n",
    "else:\n",
    "    #if everything failed then do this code"
   ]
  },
  {
   "cell_type": "code",
   "execution_count": 16,
   "metadata": {},
   "outputs": [
    {
     "name": "stdout",
     "output_type": "stream",
     "text": [
      "Number greater than 75\n"
     ]
    }
   ],
   "source": [
    "number = 100\n",
    "\n",
    "if number < 50:\n",
    "    print('Number below 50')\n",
    "\n",
    "elif number < 75:\n",
    "    print('Number below 75')\n",
    "\n",
    "else:\n",
    "    print('Number greater than 75')"
   ]
  },
  {
   "cell_type": "markdown",
   "metadata": {},
   "source": [
    "# Using them all together"
   ]
  },
  {
   "cell_type": "code",
   "execution_count": 17,
   "metadata": {},
   "outputs": [],
   "source": [
    "#making a list of numbers\n",
    "my_list = [12, 34, 55, 56, 87, 11, 123, 345, 3434, 22334, 1232, 3243423, 90498474]\n",
    "\n",
    "#making empty list to store even and odd numbers\n",
    "even_numbers = []\n",
    "odd_numbers = []\n",
    "\n",
    "#defining the for loop\n",
    "for element in my_list:\n",
    "    \n",
    "    #condition to check if it is even or odd\n",
    "    if element % 2 == 0:\n",
    "        \n",
    "        even_numbers.append(element)\n",
    "        \n",
    "    else: \n",
    "        \n",
    "        odd_numbers.append(element)"
   ]
  },
  {
   "cell_type": "code",
   "execution_count": 18,
   "metadata": {},
   "outputs": [
    {
     "data": {
      "text/plain": [
       "[55, 87, 11, 123, 345, 3243423]"
      ]
     },
     "execution_count": 18,
     "metadata": {},
     "output_type": "execute_result"
    }
   ],
   "source": [
    "odd_numbers"
   ]
  },
  {
   "cell_type": "code",
   "execution_count": 19,
   "metadata": {},
   "outputs": [
    {
     "data": {
      "text/plain": [
       "[12, 34, 56, 3434, 22334, 1232, 90498474]"
      ]
     },
     "execution_count": 19,
     "metadata": {},
     "output_type": "execute_result"
    }
   ],
   "source": [
    "even_numbers"
   ]
  },
  {
   "cell_type": "code",
   "execution_count": null,
   "metadata": {},
   "outputs": [],
   "source": []
  }
 ],
 "metadata": {
  "kernelspec": {
   "display_name": "Python 3",
   "language": "python",
   "name": "python3"
  },
  "language_info": {
   "codemirror_mode": {
    "name": "ipython",
    "version": 3
   },
   "file_extension": ".py",
   "mimetype": "text/x-python",
   "name": "python",
   "nbconvert_exporter": "python",
   "pygments_lexer": "ipython3",
   "version": "3.8.3"
  }
 },
 "nbformat": 4,
 "nbformat_minor": 4
}
