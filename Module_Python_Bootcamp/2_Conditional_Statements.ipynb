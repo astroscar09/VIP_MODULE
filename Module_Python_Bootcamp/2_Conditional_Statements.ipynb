{
 "cells": [
  {
   "cell_type": "markdown",
   "metadata": {},
   "source": [
    "# Intro to Conditional Statements"
   ]
  },
  {
   "cell_type": "markdown",
   "metadata": {},
   "source": [
    "In the last section we covered the most common data types in python:\n",
    "\n",
    "1. Numerical\n",
    "\n",
    "    a. Integers\n",
    "    \n",
    "    b. Float\n",
    "    \n",
    "\n",
    "2. Boolean\n",
    "\n",
    "3. String\n",
    "\n",
    "Each has their own unique features associated in terms of handeling and getting values and in this section we will cover the uses of Boolean values when applied to $\\textbf{conditional statements}$ as this is the first python structure that will affect the flow of your program, as this allows the execution of certain codes and not others for a given criteria. "
   ]
  },
  {
   "cell_type": "markdown",
   "metadata": {},
   "source": [
    "## Brief Review\n",
    "\n",
    "Booleans are the evaluation of expressions and only evaluate to two values $\\textbf{True}$ or $\\textbf{False}$. \n",
    "You can make more complex expressions by using the $\\textbf{and (&)}$ command or the $\\textbf{or (|)}$ command to compare two expressions at once. Recall that $\\textbf{and (&)}$ only returns $\\textbf{True}$ if all the expressions are True, whereas $\\textbf{or (|)}$ returns $\\textbf{True}$ if any expression returns $\\textbf{True}$, it will only return $\\textbf{False}$ if all the expressions are $\\textbf{False}$."
   ]
  },
  {
   "cell_type": "code",
   "execution_count": null,
   "metadata": {},
   "outputs": [],
   "source": [
    "#checking if 4 is greater than 2\n",
    "print(4 > 2)\n",
    "print()\n",
    "\n",
    "#checking if 4 is less than 2\n",
    "print(4 < 2)\n",
    "print()\n",
    "\n",
    "#checking if 4 is equal 2\n",
    "print(4 == 2)\n",
    "print()\n",
    "\n",
    "#checking if 4 does not equal 2\n",
    "print(4 != 2)\n",
    "print()\n"
   ]
  },
  {
   "cell_type": "code",
   "execution_count": null,
   "metadata": {},
   "outputs": [],
   "source": [
    "#Example of combined expressions using and (&)\n",
    "print(4 > 2 and 4 < 6)\n",
    "print()\n",
    "print(4 > 2 & 4 < 6)\n",
    "print()\n",
    "\n",
    "#Example of combined expressions using or (|)\n",
    "print(4 > 2 or 4 < 0)\n",
    "print()\n",
    "print((4 > 2) | (4 < 0))\n",
    "print()"
   ]
  },
  {
   "cell_type": "markdown",
   "metadata": {},
   "source": [
    "# Introduction to Conditionals: The if-statement"
   ]
  },
  {
   "cell_type": "markdown",
   "metadata": {},
   "source": [
    "The if-statement is a really cool feature in Python and most other programming language as it allows certain codes to be executed given if a condition is met. Each programming language has their own syntax for making their if statements and below we go over the important features of making an if-statement in Python\n",
    "\n",
    "The Syntax for a general if statement is:\n",
    "\n",
    "\n",
    "    if Some Condition is True:\n",
    "\n",
    "        \"Execute the code here\"\n",
    "\n",
    "Some things to be on the look out here. Note the colon at the end of the condition evaluations, this is important as it tells python you are done with the conditional part of the if statement. Also note the indentation of the code within the if statement. Indentation is how Python knows when a set of code is for a specific section, in this case this indentation is how python knows any code written with an indentation is part of the if-block.\n",
    "\n",
    "\n",
    "We are more familiar with if-statements than we realize. Let me give you an example, suppose you are out shopping and you have 100 dollars, you walk up to a store and see something that catches your eye and naturally you check to see the price tag. You are now subjected to two conditions; $\\textbf{if}$ it is below 100 dollars you would consider buying it or $\\textbf{if}$ it is over 100 dollars you will definitely not buy it. \n",
    "\n",
    "If-statements work the exact same way given a condition or sets of conditions, in the example of the store we can use the 100 dollar limit to execute different code for each scenario\n",
    "\n",
    "Lets code this up in the next cell"
   ]
  },
  {
   "cell_type": "markdown",
   "metadata": {},
   "source": [
    "# Example where price is $90"
   ]
  },
  {
   "cell_type": "code",
   "execution_count": null,
   "metadata": {},
   "outputs": [],
   "source": [
    "#making a variable that stores how much money we have to spend\n",
    "MoneyAvailable = 100\n",
    "\n",
    "#the price of the thing we could buy\n",
    "price = 90\n",
    "\n",
    "#If statement\n",
    "if MoneyAvailable > price: #Note the colon (:) at the end of the if statement \n",
    "    \n",
    "    #Since this is indented this tells python that this code belongs to the if-block\n",
    "    print('I may buy it')"
   ]
  },
  {
   "cell_type": "markdown",
   "metadata": {},
   "source": [
    "### Example where price is $190"
   ]
  },
  {
   "cell_type": "code",
   "execution_count": null,
   "metadata": {},
   "outputs": [],
   "source": [
    "#making a variable that stores how much money we have to spend\n",
    "\n",
    "MoneyAvailable = 100\n",
    "\n",
    "#the price of the thing we could buy\n",
    "price = 190\n",
    "\n",
    "#If statement\n",
    "if MoneyAvailable < price: #Note the colon (:) at the end of the if statement \n",
    "    \n",
    "    #Since this is indented this tells python that this code belongs to the if-block\n",
    "    print('I cannot buy it')"
   ]
  },
  {
   "cell_type": "markdown",
   "metadata": {},
   "source": [
    "# Chaining if-statements\n",
    "\n",
    "In the example below we will two if statements and see what happens when we execute the cell. \n",
    "One if statement will be if we have more money than the price of the item and the other if statement is if we do not have more money than the price of the item."
   ]
  },
  {
   "cell_type": "code",
   "execution_count": null,
   "metadata": {},
   "outputs": [],
   "source": [
    "if MoneyAvailable > price:\n",
    "    print('I may buy it')\n",
    "if MoneyAvailable < price:\n",
    "    print('I cannot buy it')"
   ]
  },
  {
   "cell_type": "markdown",
   "metadata": {},
   "source": [
    "# So what happened here?\n",
    "\n",
    "What happened here was that $\\textbf{both}$ if statements ended up getting evaluated to determine if the expression is True or False. Python and other codes are linear code that go from the top down in order of execution so they encountered the first if statement if MoneyAvailable > price and this evaluated to True since MoneyAvailable = 100 and price = 190 so the code within this if statement does not get executed. Python then goes to the next if statement if MoneyAvailable < price and this evaluates to True so we then go inside the if-block to execute that piece of code. This is why we see the \"I cannot buy it\" output. \n",
    "\n",
    "So if statements will only execute the code in their if-block only when the conditional evaluates to $\\textbf{True}$ if it evaluates to $\\textbf{False}$ it simply skips that if statement and Python goes to the next line of code.\n"
   ]
  },
  {
   "cell_type": "markdown",
   "metadata": {},
   "source": [
    "# The if-else-statement\n",
    "\n",
    "The if-else statement is an expansion of the if-statement where we have a catch term else whenever the evaluation of the if is False. This breaks the if-statements into two blocks one block of code whenever the if statement evaluates to True and another when it evaluates to False. \n",
    "\n",
    "The Python syntax for the if-else statement is seen below and has many similarities with the if-statement with the inclusion of an else block:\n",
    "\n",
    "\n",
    "    if 'Some Condition to Check':\n",
    "\n",
    "        #Note the indentation to denote this code is inside the if-Statement\n",
    "\n",
    "        'Code to run if the condition is True'\n",
    "    else:\n",
    "\n",
    "        #Note the indentation to denote this code is inside the else-Statement\n",
    "        'Code to run if the condition is False'\n",
    "        \n",
    "This is a really good piece of code if you need to check one conditional and evaluate some code if it is True and another set of code if it turns out to be False. Let's see this in action being used in the shopping example from the previous section."
   ]
  },
  {
   "cell_type": "code",
   "execution_count": null,
   "metadata": {},
   "outputs": [],
   "source": [
    "#making a variable that stores how much money we have to spend\n",
    "MoneyAvailable = 100\n",
    "\n",
    "#the price of the thing we could buy\n",
    "price = 190\n",
    "\n",
    "if MoneyAvailable > price:\n",
    "    #this code block is the code to execute if we have enough money to buy the item\n",
    "    print('I may buy it')\n",
    "else:\n",
    "    print('I cannot buy it')\n",
    "    "
   ]
  },
  {
   "cell_type": "code",
   "execution_count": null,
   "metadata": {},
   "outputs": [],
   "source": []
  },
  {
   "cell_type": "markdown",
   "metadata": {},
   "source": [
    "## Exercise Numero 1:\n",
    "\n",
    "For this exercise write up a code that for any two numbers provided by a user it will determine the largest number. \n",
    "\n",
    "So for example if the user gave you the numbers: 12, 124 your code should return the number 124"
   ]
  },
  {
   "cell_type": "code",
   "execution_count": null,
   "metadata": {},
   "outputs": [],
   "source": [
    "#code to get user input is provided here\n",
    "number1 = int(input('Please give me your First number: '))\n",
    "number2 = int(input('Please give me your Second number: '))"
   ]
  },
  {
   "cell_type": "code",
   "execution_count": null,
   "metadata": {},
   "outputs": [],
   "source": [
    "#Use this cell and use if-else statements to check the numbers and to print out\n",
    "#the highest number\n",
    "\n"
   ]
  },
  {
   "cell_type": "markdown",
   "metadata": {},
   "source": [
    "# Nested If-Statements\n",
    "\n",
    "In Python you can up the complexity of If-statements by having nested If-statements. With nested If-statements you have to be very careful about indentation of the code. Indentation is how python knows which section of code belogs to which code block. A misplaced indentation, or lack thereof, can completely change the result of your program so keep this in mind. \n",
    "\n",
    "The syntax for nested if-statements is:\n",
    "\n",
    "    #python syntax for nested if-statements\n",
    "    if 'First Condition is True':\n",
    "\n",
    "        'Execute Some Code if Condition 1 is True'\n",
    "\n",
    "        if 'Condition 2 is True':\n",
    "            'Execute some code if Condition 2 is True'\n",
    "\n",
    "        #note the indentation is same as 'Execute Some Code if Condition 1 is True'\n",
    "        so code here will be in the Condition 1 if-statement'\n",
    "        \n",
    "Let's apply this to an astronomical example. Let us assume that we have a star at a coordinate RA = 270.342 degrees and DEC = 34.3212 degrees and we are tasked to check if it is in a specific region of the sky. Your advisor tells you the region of the sky is a box whose RA is bounded between 269.11 and 271.43 and DEC bounded by 33.211 and 34.33. Let us code this up using nested if-statements to check if this is in the bounds. "
   ]
  },
  {
   "cell_type": "code",
   "execution_count": null,
   "metadata": {},
   "outputs": [],
   "source": [
    "RA_star = 270.342\n",
    "DEC_star = 34.3212\n",
    "\n",
    "#going to check the RA first\n",
    "if (269.11 < RA_star) & (RA_star < 271.43):\n",
    "    \n",
    "    if (33.211 < DEC_star) & (DEC_star < 34.33):\n",
    "        print('Star is in bounds')"
   ]
  },
  {
   "cell_type": "markdown",
   "metadata": {},
   "source": [
    "# Adding in Else-Statements\n",
    "\n",
    "As with if statements you can also do nested if-else statements. Indentation matters here so make sure you double check that for nested if-else statements.\n",
    "\n",
    "An example syntax for that is: \n",
    "\n",
    "    #python syntax for nested if-statements\n",
    "    if 'First Condition is True':\n",
    "\n",
    "        'Execute Some Code if Condition 1 is True'\n",
    "\n",
    "        if 'Condition 2 is True':\n",
    "            'Execute some code if Condition 2 is True'\n",
    "\n",
    "        else:\n",
    "            'Execute some code if Condition 2 is False'\n",
    "\n",
    "        #note the indentation so code here is with the first condition\n",
    "        #If-Statement\n",
    "        'Code written here will be in Condition 1 if-statement'\n",
    "\n",
    "    else:\n",
    "\n",
    "        'Execute Some Code if Condition 1 is False'"
   ]
  },
  {
   "cell_type": "code",
   "execution_count": null,
   "metadata": {},
   "outputs": [],
   "source": []
  },
  {
   "cell_type": "code",
   "execution_count": null,
   "metadata": {},
   "outputs": [],
   "source": [
    "number = 30\n",
    "\n",
    "if number > 75:\n",
    "\n",
    "    if number < 110:\n",
    "        \n",
    "        print('Number is between 75-110')\n",
    "    \n",
    "    else:\n",
    "        \n",
    "        print('Number is greater than 110')\n",
    "else:\n",
    "    \n",
    "    print('Number is less than 75')"
   ]
  },
  {
   "cell_type": "code",
   "execution_count": null,
   "metadata": {},
   "outputs": [],
   "source": [
    "number = 80\n",
    "\n",
    "if number > 75:\n",
    "\n",
    "    if number < 110:\n",
    "        \n",
    "        print('Number is between 75-110')\n",
    "    \n",
    "    else:\n",
    "        \n",
    "        print('Number is greater than 110')\n",
    "else:\n",
    "    \n",
    "    print('Number is less than 75')"
   ]
  },
  {
   "cell_type": "code",
   "execution_count": null,
   "metadata": {},
   "outputs": [],
   "source": [
    "#pick a number to go into the second if-statement but not the third if-statement\n",
    "number = \n",
    "\n",
    "if number > 50:\n",
    "    if number > 75:\n",
    "        \n",
    "        if number < 110:\n",
    "            print('Number Between 75-110')\n",
    "        else:\n",
    "            print('Number greater than 110')\n",
    "    else:\n",
    "        print('Number is between 50-75')\n",
    "else:\n",
    "    print('Number less than 50')"
   ]
  },
  {
   "cell_type": "markdown",
   "metadata": {},
   "source": [
    "# Exercise Numero 2:\n",
    "\n",
    "For this exercise, we will build up from exercise numero 1 but now we will change it by checking for any three numbers provided by a user, determine the largest number. \n",
    "\n",
    "So for example if the user gave you the numbers: 12, 124, 98 your code should return the number 124 and if user provides 12098, 14, 8432 your code should return 12098.\n",
    "\n",
    "We will ask that you use nested If-Else statement for this."
   ]
  },
  {
   "cell_type": "code",
   "execution_count": null,
   "metadata": {},
   "outputs": [],
   "source": [
    "#code to get user input is provided here\n",
    "numero1 = int(input('Please give me your First number: '))\n",
    "numero2 = int(input('Please give me your Second number: '))\n",
    "numero3 = int(input('Please give me your Third number: '))"
   ]
  },
  {
   "cell_type": "code",
   "execution_count": null,
   "metadata": {},
   "outputs": [],
   "source": [
    "# Write your code here\n",
    "\n",
    "\n",
    "\n",
    "\n",
    "\n",
    "\n",
    "\n"
   ]
  },
  {
   "cell_type": "markdown",
   "metadata": {},
   "source": [
    "# The Elif-Statement\n",
    "\n",
    "The Elif-statement is short for Else-If and this is another feature in python that allows easy implementation of nesting If-statements, this statement is the same as writing the following code:\n",
    "\n",
    "    if condition 1:\n",
    "        'run code'\n",
    "    else:\n",
    "        \n",
    "        if condition 2:\n",
    "            'run code'\n",
    "        else:\n",
    "            if ...\n",
    "                ...\n",
    "                \n",
    "But it does so in a nice compact way to avoid the nested look. The best way to explain this is through the examples in the cells below."
   ]
  },
  {
   "cell_type": "code",
   "execution_count": null,
   "metadata": {},
   "outputs": [],
   "source": [
    "#syntax for Elif-Statement\n",
    "if condition1:\n",
    "    #do this code\n",
    "elif condition2:\n",
    "    #do this other code\n",
    "elif condition3:\n",
    "    #do this next code\n",
    "else:\n",
    "    #if everything failed then do this code"
   ]
  },
  {
   "cell_type": "code",
   "execution_count": null,
   "metadata": {},
   "outputs": [],
   "source": [
    "number = 100\n",
    "\n",
    "if number < 50:\n",
    "    print('Number below 50')\n",
    "\n",
    "elif number < 75:\n",
    "    print('Number below 75')\n",
    "\n",
    "else:\n",
    "    print('Number greater than 75')"
   ]
  },
  {
   "cell_type": "code",
   "execution_count": null,
   "metadata": {},
   "outputs": [],
   "source": [
    "number = 100\n",
    "\n",
    "if number > 50:\n",
    "    print('Number above 50')\n",
    "\n",
    "elif number > 75:\n",
    "    print('Number above 75')\n",
    "\n",
    "else:\n",
    "    print('Number greater than 75')"
   ]
  },
  {
   "cell_type": "markdown",
   "metadata": {},
   "source": [
    "## Note: \n",
    "\n",
    "A little caveat to the elif statement is what is shown in the above cell. We have a number that is clearly bigger than 50 and so the first statement executed but the number is also greater than 75, what happened here? Well when dealing with Else-If statements once the code goes inside a code block it will only run that code block and basically exit out of the Else-If structure, Even when the subsequent condition is True. So keep this little feature in mind when making conditonal structures in your program. "
   ]
  },
  {
   "cell_type": "markdown",
   "metadata": {},
   "source": [
    "# Exercise numero 3:\n",
    "\n",
    "This is exactly as execise numero 2 but now use elif statements to find the biggest number from 3 numbers provided by the user."
   ]
  },
  {
   "cell_type": "code",
   "execution_count": null,
   "metadata": {},
   "outputs": [],
   "source": [
    "#code to get user input is provided here\n",
    "numero1 = int(input('Please give me your First number: '))\n",
    "numero2 = int(input('Please give me your Second number: '))\n",
    "numero3 = int(input('Please give me your Third number: '))"
   ]
  },
  {
   "cell_type": "code",
   "execution_count": null,
   "metadata": {},
   "outputs": [],
   "source": [
    "# Write your Code Here\n",
    "\n",
    "\n"
   ]
  },
  {
   "cell_type": "markdown",
   "metadata": {},
   "source": [
    "# Some Useful commands to use in If-Statements\n",
    "\n",
    "1. pass\n",
    "2. continue"
   ]
  },
  {
   "cell_type": "markdown",
   "metadata": {},
   "source": [
    "# Pass\n",
    "\n",
    "Pass acts as a place holder and really does not do anything so if you just want the code to not run any code but still need to check conditions maybe putting in the pass statement is the way to go. Also as you can see in the example below the pass statement does not affect the code outside it. For this example it is easiest to demonstrate this using a for-loop but do not worry about knowing what a for-loop is for this as we will cover that in the subsequent sections."
   ]
  },
  {
   "cell_type": "code",
   "execution_count": null,
   "metadata": {},
   "outputs": [],
   "source": [
    "for i in range(10):\n",
    "    \n",
    "    if i > 5:\n",
    "        pass\n",
    "    print(i)"
   ]
  },
  {
   "cell_type": "markdown",
   "metadata": {},
   "source": [
    "# Continue\n",
    "\n",
    "Continue is a little different than pass in the sense that it actually breaks out of a loop and does affect the outer structure of the program. In the example below we have the continue in the if statement for when i > 5 and so when this condition is true we no longer see any print statements where i > 5. So using a continue statement is good if you do not want some code to execute given some condition is met. "
   ]
  },
  {
   "cell_type": "code",
   "execution_count": null,
   "metadata": {},
   "outputs": [],
   "source": [
    "for i in range(10):\n",
    "    \n",
    "    if i > 5:\n",
    "        continue\n",
    "    print(i)"
   ]
  },
  {
   "cell_type": "code",
   "execution_count": null,
   "metadata": {},
   "outputs": [],
   "source": []
  }
 ],
 "metadata": {
  "kernelspec": {
   "display_name": "Python 3",
   "language": "python",
   "name": "python3"
  },
  "language_info": {
   "codemirror_mode": {
    "name": "ipython",
    "version": 3
   },
   "file_extension": ".py",
   "mimetype": "text/x-python",
   "name": "python",
   "nbconvert_exporter": "python",
   "pygments_lexer": "ipython3",
   "version": "3.8.3"
  }
 },
 "nbformat": 4,
 "nbformat_minor": 2
}
