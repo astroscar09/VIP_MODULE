{
 "cells": [
  {
   "cell_type": "code",
   "execution_count": null,
   "id": "2888b90f",
   "metadata": {},
   "outputs": [],
   "source": [
    "from astropy.io import fits\n",
    "import matplotlib.pyplot as plt\n",
    "import numpy as np\n",
    "import pandas as pd\n",
    "from astropy.coordinates import SkyCoord\n",
    "import astropy.units as u"
   ]
  },
  {
   "cell_type": "code",
   "execution_count": null,
   "id": "af25026a",
   "metadata": {},
   "outputs": [],
   "source": [
    "#reading in all catalogs\n",
    "\n",
    "photomcat = fits.getdata('Photometry_module_data/primercosmos_photom_v0.3.fits')\n",
    "photzcat = fits.getdata('Photometry_module_data/primercosmos_photz_quantities_v0.3.fits')\n",
    "sampcat = pd.read_csv('Photometry_module_data/Sample.EROs.PRIMER-COS.cat', delim_whitespace=True)"
   ]
  },
  {
   "cell_type": "code",
   "execution_count": null,
   "id": "fe239eec-03fb-49df-ba61-4a16b29b20f2",
   "metadata": {},
   "outputs": [],
   "source": [
    "sampcat.shape"
   ]
  },
  {
   "cell_type": "code",
   "execution_count": null,
   "id": "ca557dd5",
   "metadata": {},
   "outputs": [],
   "source": [
    "#column names\n",
    "print(photomcat.columns)\n",
    "print(photzcat.columns)\n",
    "print(sampcat.columns)"
   ]
  },
  {
   "cell_type": "code",
   "execution_count": null,
   "id": "bc4b364c",
   "metadata": {},
   "outputs": [],
   "source": [
    "#gray dots\n",
    "#general use\n",
    "zpt = 31.4\n",
    "\n",
    "#fluxes\n",
    "flux115 = photomcat['FLUX_F115W']\n",
    "flux150 = photomcat['FLUX_F150W']\n",
    "flux200 = photomcat['FLUX_F200W']\n",
    "flux277 = photomcat['FLUX_F277W']\n",
    "flux356 = photomcat['FLUX_F356W']\n",
    "flux444 = photomcat['FLUX_F444W']\n",
    "\n",
    "#flux errors\n",
    "flux115err = photomcat['FLUXERR_F115W']\n",
    "flux150err = photomcat['FLUXERR_F150W']\n",
    "flux200err = photomcat['FLUXERR_F200W'] \n",
    "flux277err = photomcat['FLUXERR_F277W'] \n",
    "flux356err = photomcat['FLUXERR_F356W'] \n",
    "flux444err = photomcat['FLUXERR_F444W']\n",
    "\n",
    "#f444 ratio\n",
    "photomcat['D_APER'][0,:]\n",
    "f444_04 = photomcat['FLUX_APER_F444W'][:,8]\n",
    "f444_02 = photomcat['FLUX_APER_F444W'][:,5]\n",
    "f444ratio = f444_04 / f444_02\n",
    "\n",
    "#magnitudes\n",
    "mag115 = -2.5 * np.log10(photomcat['FLUX_F115W']) + zpt\n",
    "mag200 = -2.5 * np.log10(photomcat['FLUX_F200W']) + zpt\n",
    "mag277 = -2.5 * np.log10(photomcat['FLUX_F277W']) + zpt\n",
    "mag356 = -2.5 * np.log10(photomcat['FLUX_F356W']) + zpt\n",
    "mag444 = -2.5 * np.log10(photomcat['FLUX_F444W']) + zpt\n",
    "\n",
    "#signal to nosie\n",
    "sn115 = photomcat['FLUX_F115W']/ photomcat['FLUXERR_F115W'] \n",
    "sn150 = photomcat['FLUX_F150W']/ photomcat['FLUXERR_F150W'] \n",
    "sn200 = photomcat['FLUX_F200W']/ photomcat['FLUXERR_F200W'] \n",
    "sn277 = photomcat['FLUX_F277W']/ photomcat['FLUXERR_F277W'] \n",
    "sn356 = photomcat['FLUX_F356W']/ photomcat['FLUXERR_F356W'] \n",
    "sn444 = photomcat['FLUX_F444W']/ photomcat['FLUXERR_F444W'] \n",
    "\n",
    "sn_thresh = 5\n",
    "sig = (sn115 > sn_thresh) & (sn150 > sn_thresh) & (sn200 > sn_thresh) & \\\n",
    "        (sn277 > sn_thresh) & (sn356 > sn_thresh) & (sn444 > sn_thresh)"
   ]
  },
  {
   "cell_type": "code",
   "execution_count": null,
   "id": "74768db9",
   "metadata": {},
   "outputs": [],
   "source": [
    "#matching id catalogs\n",
    "\n",
    "photomra = photomcat['RA']\n",
    "photomdec = photomcat['DEC']\n",
    "sampra = sampcat['RA']\n",
    "sampdec = sampcat['DEC']\n",
    "\n",
    "photomcoords = SkyCoord(ra=photomra, dec=photomdec, unit=u.deg)\n",
    "sampcoords = SkyCoord(ra=sampra, dec=sampdec, unit=u.deg)\n",
    "\n",
    "idx, d2d, d3d = sampcoords.match_to_catalog_sky(photomcoords)\n",
    "\n",
    "#plt.hist(d2d.to(u.arcsec).value)\n",
    "#offset = 0.125\n",
    "\n",
    "match = d2d < 0.125 * u.arcsec\n",
    "idx_m = idx[match]"
   ]
  },
  {
   "cell_type": "code",
   "execution_count": null,
   "id": "21bc6837-fb3e-4ff6-a2c0-f1f0d0bd1758",
   "metadata": {},
   "outputs": [],
   "source": [
    "len(idx_m)"
   ]
  },
  {
   "cell_type": "code",
   "execution_count": null,
   "id": "47385380",
   "metadata": {},
   "outputs": [],
   "source": [
    "#matches with filters\n",
    "matflux115 = flux115[idx_m]\n",
    "matflux150 = flux150[idx_m]\n",
    "matflux200 = flux200[idx_m]\n",
    "matflux277 = flux277[idx_m]\n",
    "matflux356 = flux356[idx_m]\n",
    "matflux444 = flux444[idx_m]\n",
    "\n",
    "matmag115 = -2.5 * np.log10(matflux115) + zpt\n",
    "matmag200 = -2.5 * np.log10(matflux200) + zpt\n",
    "matmag277 = -2.5 * np.log10(matflux277) + zpt\n",
    "matmag356 = -2.5 * np.log10(matflux356) + zpt\n",
    "matmag444 = -2.5 * np.log10(matflux444) + zpt\n",
    "\n",
    "#matched f44 ratio\n",
    "matf444_04 = f444_04[idx_m]\n",
    "matf444_02 = f444_02[idx_m]\n",
    "matf444ratio = matf444_04 / matf444_02"
   ]
  },
  {
   "cell_type": "code",
   "execution_count": null,
   "id": "43c4c904",
   "metadata": {},
   "outputs": [],
   "source": [
    "#matching the s/n\n",
    "matflux115err = flux115err[idx_m]\n",
    "matflux150err = flux150err[idx_m]\n",
    "matflux200err = flux200err[idx_m]\n",
    "matflux277err = flux277err[idx_m]\n",
    "matflux356err = flux356err[idx_m]\n",
    "matflux444err = flux444err[idx_m]\n",
    "\n",
    "msn115 = matflux115/matflux115err\n",
    "msn150 = matflux150/matflux150err\n",
    "msn200 = matflux200/matflux200err\n",
    "msn277 = matflux277/matflux277err \n",
    "msn356 = matflux356/matflux356err \n",
    "msn444 = matflux444/matflux444err\n",
    "\n",
    "msig = (msn115 > sn_thresh) & (msn150 > sn_thresh) & (msn200 > sn_thresh) & \\\n",
    "        (msn277 > sn_thresh) & (msn356 > sn_thresh) & (msn444 > sn_thresh)"
   ]
  },
  {
   "cell_type": "code",
   "execution_count": null,
   "id": "3eb6cff4-2d06-40df-82ac-b920a26080b1",
   "metadata": {},
   "outputs": [],
   "source": []
  },
  {
   "cell_type": "code",
   "execution_count": null,
   "id": "2766918f",
   "metadata": {},
   "outputs": [],
   "source": [
    "#graph 1\n",
    "\n",
    "plt.scatter(mag115[sig]-mag200[sig], mag277[sig]-mag444[sig], color='gray', s=0.25, label='PRIMER')\n",
    "plt.scatter(matmag115[msig]-matmag200[msig], matmag277[msig]-matmag444[msig], color='red', s=0.25, label='Little Red Dots')\n",
    "\n",
    "plt.axhline(y = 1, color = 'red', linestyle = '-') \n",
    "plt.vlines(-1, 1, 5, linestyle='-', color='black')\n",
    "plt.vlines(1, 1, 5, linestyle='-', color='black')\n",
    "plt.xlabel('F115W-F200W')\n",
    "plt.ylabel('F277W-F444W')\n",
    "plt.xlim(-3, 4)\n",
    "plt.ylim(-1, 4)\n",
    "plt.legend()"
   ]
  },
  {
   "cell_type": "code",
   "execution_count": null,
   "id": "64361d44",
   "metadata": {},
   "outputs": [],
   "source": [
    "#graph 2\n",
    "plt.scatter(mag277[sig]-mag356[sig], mag277[sig]-mag444[sig], color='gray', s=0.25, label='PRIMER')\n",
    "plt.scatter(matmag277[msig]-matmag356[msig], matmag277[msig]-matmag444[msig], color='red', s=0.25, label='Little Red Dots')\n",
    "\n",
    "plt.axhline(y = 1, color = 'r', linestyle = '-') \n",
    "plt.vlines(.75, 1, 5, linestyle='-', color='black')\n",
    "plt.xlim(-1 ,4)\n",
    "plt.ylim(-1, 4)\n",
    "plt.xlabel('F277W-F356W')\n",
    "plt.ylabel('F277W-F444W')\n",
    "plt.legend()"
   ]
  },
  {
   "cell_type": "code",
   "execution_count": null,
   "id": "10b4f38f",
   "metadata": {},
   "outputs": [],
   "source": [
    "#graph 3\n",
    "\n",
    "plt.scatter(f444ratio[sig], mag277[sig]-mag444[sig], color='gray', s=0.25, label='PRIMER') \n",
    "plt.scatter(matf444ratio[msig], matmag277[msig]-matmag444[msig], color='red', s=0.25, label='Little Red Dots')\n",
    "\n",
    "plt.axhline(y = 1, color = 'r', linestyle = '-') \n",
    "plt.vlines(1.5, 1, 6, linestyle='-', color='black')\n",
    "plt.xlim(0, 4)\n",
    "plt.ylim(-1,4)\n",
    "plt.xlabel('FW444(R=0.4\") / (FWWR=0.2\")')\n",
    "plt.ylabel('F277W-F444W')\n",
    "plt.legend()"
   ]
  },
  {
   "cell_type": "code",
   "execution_count": null,
   "id": "b8bd5a3e",
   "metadata": {},
   "outputs": [],
   "source": [
    "#graph 4\n",
    "\n",
    "zphotz = photzcat['za']\n",
    "zsamp = sampcat['za']\n",
    "\n",
    "plt.scatter(zphotz[sig], mag277[sig]-mag444[sig], color='gray', s=0.25, label='PRIMER')\n",
    "plt.scatter(zsamp[match][msig], matmag277[msig]-matmag444[msig], color='red', s=0.25, label='Little Red Dots')\n",
    "\n",
    "plt.xlabel('Redshift')\n",
    "plt.ylabel('F277W-F444W')\n",
    "plt.xlim(0, 13)\n",
    "plt.ylim(-1,4)\n",
    "plt.legend()"
   ]
  },
  {
   "cell_type": "code",
   "execution_count": null,
   "id": "e2c19926",
   "metadata": {},
   "outputs": [],
   "source": [
    "print(len(zsamp))\n",
    "print(len(matmag277-matmag444))\n",
    "\n",
    "print(len(matmag277[msig]-matmag444[msig]))\n",
    "print(len(zsamp[match][msig]))"
   ]
  },
  {
   "cell_type": "code",
   "execution_count": null,
   "id": "2430bda0",
   "metadata": {},
   "outputs": [],
   "source": []
  }
 ],
 "metadata": {
  "kernelspec": {
   "display_name": "Python 3 (ipykernel)",
   "language": "python",
   "name": "python3"
  },
  "language_info": {
   "codemirror_mode": {
    "name": "ipython",
    "version": 3
   },
   "file_extension": ".py",
   "mimetype": "text/x-python",
   "name": "python",
   "nbconvert_exporter": "python",
   "pygments_lexer": "ipython3",
   "version": "3.11.9"
  }
 },
 "nbformat": 4,
 "nbformat_minor": 5
}
