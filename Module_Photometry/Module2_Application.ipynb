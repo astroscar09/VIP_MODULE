{
 "cells": [
  {
   "cell_type": "code",
   "execution_count": null,
   "id": "1d32c6d6-2771-4cab-90e0-a1f1a1bac348",
   "metadata": {},
   "outputs": [],
   "source": [
    "from astropy.io import fits\n",
    "from astropy.table import Table\n",
    "from astropy.coordinates import SkyCoord\n",
    "import numpy as np\n",
    "import matplotlib.pyplot as plt\n",
    "import pandas as pd\n",
    "from astropy import units as u\n",
    "\n",
    "plt.rcParams['axes.linewidth'] = 1.5\n",
    "plt.rcParams['font.family'] = 'serif'\n",
    "plt.rcParams['xtick.labelsize'] = 13\n",
    "plt.rcParams['ytick.labelsize'] = 13"
   ]
  },
  {
   "cell_type": "code",
   "execution_count": null,
   "id": "7446dc44-f760-48e2-9f18-eaf63380b6cd",
   "metadata": {},
   "outputs": [],
   "source": [
    "#reading in the table\n",
    "primer_phot_tab = Table.read('Photometry_module_data/primercosmos_photom_v0.3.fits')"
   ]
  },
  {
   "cell_type": "code",
   "execution_count": null,
   "id": "ac36f4d2-1c42-42c7-98b7-956847fc83ac",
   "metadata": {},
   "outputs": [],
   "source": [
    "primer_phot_tab.columns"
   ]
  },
  {
   "cell_type": "code",
   "execution_count": null,
   "id": "94f940d3-5b94-4aad-b5a6-9f4dae42477f",
   "metadata": {},
   "outputs": [],
   "source": [
    "#let's check the aperture diameter\n",
    "primer_phot_tab['D_APER'][0, :]"
   ]
  },
  {
   "cell_type": "code",
   "execution_count": null,
   "id": "3b748acc-fec9-4fa7-af68-b12cb62196ed",
   "metadata": {},
   "outputs": [],
   "source": [
    "#Getting the F444W aperture fluxes from the catalog\n",
    "primer_F444W_aperture_fluxes = primer_phot_tab['FLUX_APER_F444W']"
   ]
  },
  {
   "cell_type": "code",
   "execution_count": null,
   "id": "f9cff90c-689d-42a8-89c3-21a57aca8cdd",
   "metadata": {},
   "outputs": [],
   "source": [
    "#making a list of only the filter columns that we need to recreate Figure 4\n",
    "#These are the F115W, F200W, F277W, F356W, F444W\n",
    "flux_cols_for_plots = ['FLUX_F115W','FLUX_F200W', 'FLUX_F277W', 'FLUX_F356W', 'FLUX_F444W']\n",
    "flux_err_for_plots = ['FLUXERR_F115W','FLUXERR_F200W', 'FLUXERR_F277W', 'FLUXERR_F356W', 'FLUXERR_F444W']"
   ]
  },
  {
   "cell_type": "code",
   "execution_count": null,
   "id": "3e57a1c0-f111-4875-b81d-426e8ba30a07",
   "metadata": {},
   "outputs": [],
   "source": [
    "#getting the ra and dec of these sources to cross match to the Little Red Dot (LRD) sample below\n",
    "phot_coords_ra, phot_coords_dec = primer_phot_tab['RA'], primer_phot_tab['DEC']"
   ]
  },
  {
   "cell_type": "code",
   "execution_count": null,
   "id": "134a51e0-ddce-48cd-9e7e-e43a09866b9f",
   "metadata": {},
   "outputs": [],
   "source": [
    "#reading in the LRD Catalog\n",
    "LRD_Catalog = pd.read_csv('Photometry_module_data/Sample.EROs.PRIMER-COS.cat', \n",
    "                          delim_whitespace=True)"
   ]
  },
  {
   "cell_type": "code",
   "execution_count": null,
   "id": "05001c7e-3e4a-4cf3-a3d8-1543defc79df",
   "metadata": {},
   "outputs": [],
   "source": [
    "#Getting the RA and DEC of the LRD sample\n",
    "LRD_RA = LRD_Catalog.RA.values\n",
    "LRD_DEC = LRD_Catalog.DEC.values"
   ]
  },
  {
   "cell_type": "markdown",
   "id": "9a738cfe-44cc-4e91-b6c7-6bb5e028404d",
   "metadata": {},
   "source": [
    "# Cross Matching"
   ]
  },
  {
   "cell_type": "code",
   "execution_count": null,
   "id": "6020b2cb-dbce-4be0-b2bf-448e24c670c4",
   "metadata": {},
   "outputs": [],
   "source": [
    "#generating SkyCoord objects between the two catalogs\n",
    "phot_cat_skycoord = SkyCoord(ra = phot_coords_ra, dec = phot_coords_dec, unit = 'degree')\n",
    "LRD_skycoord = SkyCoord(ra = LRD_RA, dec = LRD_DEC, unit = 'degree')"
   ]
  },
  {
   "cell_type": "code",
   "execution_count": null,
   "id": "cb937651-8e81-4e49-81ce-e7b8e7347329",
   "metadata": {},
   "outputs": [],
   "source": [
    "#matching the primer catalog to the LRD sample since the LRD sample is smaller\n",
    "idx, sep2d, _ = LRD_skycoord.match_to_catalog_sky(phot_cat_skycoord)"
   ]
  },
  {
   "cell_type": "code",
   "execution_count": null,
   "id": "ab10bff5-deea-43be-8649-fb3afe085b99",
   "metadata": {},
   "outputs": [],
   "source": [
    "#getting the photometric information of those that matched using the index, idx\n",
    "matched_phot_cat = primer_phot_tab[idx]"
   ]
  },
  {
   "cell_type": "code",
   "execution_count": null,
   "id": "52be5ec8-9f06-46a5-8460-3fbae4d03098",
   "metadata": {},
   "outputs": [],
   "source": [
    "#appending the column Separation to the LDR_Catalog DF\n",
    "LRD_Catalog['Separation'] = sep2d.arcsec"
   ]
  },
  {
   "cell_type": "code",
   "execution_count": null,
   "id": "d36c06a2-dbde-4aa2-ae4b-95bb7f9202b4",
   "metadata": {},
   "outputs": [],
   "source": [
    "#making a full column list to get the relevant info for the plots from the primer matched catalog\n",
    "cols_to_use = np.concatenate((['ID', 'RA', 'DEC'], flux_cols_for_plots, flux_err_for_plots))\n",
    "\n",
    "#getting the relevant columns and then making it into a DataFrame\n",
    "matched_phot_cat_df = matched_phot_cat[list(cols_to_use)].to_pandas()"
   ]
  },
  {
   "cell_type": "code",
   "execution_count": null,
   "id": "3444a353-5d04-4a36-800c-e14df9034096",
   "metadata": {},
   "outputs": [],
   "source": [
    "#We need to change the column name of the primer catalog since the LRD sample has ID, RA and DEC \n",
    "#This will avoid any issues when we merge the two catalogs\n",
    "matched_phot_cat_df = matched_phot_cat_df.rename(columns={'ID':'Primer_ID', \n",
    "                                                          'RA': 'Primer_RA', \n",
    "                                                          'DEC': 'Primer_DEC'})"
   ]
  },
  {
   "cell_type": "code",
   "execution_count": null,
   "id": "be7bdfde-451a-46f1-b5f4-08b77a9a1f29",
   "metadata": {},
   "outputs": [],
   "source": [
    "#We use join to merge the two catalogs\n",
    "full_matched_LRD_sample = LRD_Catalog.join(matched_phot_cat_df)"
   ]
  },
  {
   "cell_type": "code",
   "execution_count": null,
   "id": "fe430060-d818-488d-8621-496abafa952e",
   "metadata": {},
   "outputs": [],
   "source": [
    "#We add the index back into the Combined DataFrame because we will need these index to get the correct\n",
    "#Aperture Fluxes in F444W\n",
    "full_matched_LRD_sample['Primer_Index'] = idx"
   ]
  },
  {
   "cell_type": "code",
   "execution_count": null,
   "id": "74242292-004d-4da4-ba18-c9a93c0a923b",
   "metadata": {},
   "outputs": [],
   "source": [
    "fig, ax = plt.subplots(figsize = (10, 5))\n",
    "full_matched_LRD_sample.Separation.hist(bins = 30, range = (0, 0.2), ax = ax, color = 'blue')\n",
    "ax.axvline(0.025, color = 'black', linestyle = '--', label = 'Separation Cutoff')\n",
    "ax.set_xlabel('Separation [arcseconds]', fontsize = 15)\n",
    "ax.set_ylabel('Counts', fontsize = 15)\n",
    "ax.legend()\n",
    "plt.show()"
   ]
  },
  {
   "cell_type": "code",
   "execution_count": null,
   "id": "9eacdd1a-e1e1-4dfe-b9af-09b7ff63a310",
   "metadata": {},
   "outputs": [],
   "source": [
    "#We now apply a separation criteria of 0.025 to get the closest matched sources\n",
    "close_matched_LRD_sample = full_matched_LRD_sample[full_matched_LRD_sample.Separation.values < 0.025]"
   ]
  },
  {
   "cell_type": "code",
   "execution_count": null,
   "id": "dd99ae8d-cd3e-4fc1-9ca6-fa48a5d0139a",
   "metadata": {},
   "outputs": [],
   "source": [
    "#We make the full primer catalog into a DataFrame using only the columns needed for Figure 4\n",
    "FULL_primer_DF = primer_phot_tab[list(cols_to_use)].to_pandas()"
   ]
  },
  {
   "cell_type": "code",
   "execution_count": null,
   "id": "62c1cf5e-7f34-4699-adf0-61c07b95035e",
   "metadata": {},
   "outputs": [],
   "source": [
    "#We append a column of the Primer Index since we will need that for the aperture flux portion of figure 4\n",
    "FULL_primer_DF['Primer_Index'] = np.arange(0, FULL_primer_DF.shape[0])"
   ]
  },
  {
   "cell_type": "code",
   "execution_count": null,
   "id": "54f304ea-a4ad-4cb9-93fd-36a2303345e1",
   "metadata": {},
   "outputs": [],
   "source": [
    "#we need to remove the LRD sample from this so we reset the index of the DataFrame to the ID and then we will use the\n",
    "#Primer IDs to drop those rows giving us a sample of galaxies that are not LRDs\n",
    "Full_non_LRD_Sample = FULL_primer_DF.set_index('ID').drop(labels = close_matched_LRD_sample.Primer_ID.values)"
   ]
  },
  {
   "cell_type": "code",
   "execution_count": null,
   "id": "543ca6f7-c2a8-44a3-b2ac-a40a55eca032",
   "metadata": {},
   "outputs": [],
   "source": [
    "#Double Checking Matching and Dropping code\n",
    "print(f'The total number of sources in phot_sample is: {len(primer_phot_tab)}')\n",
    "print(f'The total number of sources in LRD sample is: {close_matched_LRD_sample.shape[0]}')\n",
    "print(f'The total number of sources in Non-LRD sample is: {Full_non_LRD_Sample.shape[0]}')\n",
    "print(f'Final Check summing LRD and Non-LRD sample: {close_matched_LRD_sample.shape[0] + Full_non_LRD_Sample.shape[0]}')"
   ]
  },
  {
   "cell_type": "markdown",
   "id": "ca06fa6a-457d-457c-80ce-c63a255e16a0",
   "metadata": {},
   "source": [
    "# Converting Flux to Magnitudes"
   ]
  },
  {
   "cell_type": "code",
   "execution_count": null,
   "id": "12ad72f9-ab38-43c4-8d6b-f426bcaf314a",
   "metadata": {},
   "outputs": [],
   "source": [
    "def convert_flux_to_magnitude(flux):\n",
    "    '''\n",
    "    This function will convert flux to magnitude. We assume the flux is in nanoJansky\n",
    "\n",
    "    Mag = -2.5log10(flux) + 31.4\n",
    "    '''\n",
    "\n",
    "    return -2.5*np.log10(flux) + 31.4"
   ]
  },
  {
   "cell_type": "code",
   "execution_count": null,
   "id": "76e1ce1d-8390-4675-94ce-569ce8503b5b",
   "metadata": {},
   "outputs": [],
   "source": [
    "#looping over all the fluxes and converting them to magnitudes then appending them as new columns in the DataFrame\n",
    "for f in flux_cols_for_plots:\n",
    "    filt = f.split('_')[-1]\n",
    "    close_matched_LRD_sample[f'MAG_{filt}'] = close_matched_LRD_sample[f].apply(convert_flux_to_magnitude)"
   ]
  },
  {
   "cell_type": "code",
   "execution_count": null,
   "id": "12f477fe-23a2-4783-895e-b714715aa408",
   "metadata": {},
   "outputs": [],
   "source": [
    "#looping over all the fluxes in the non LRD sample\n",
    "#and converting them to magnitudes then appending them as new columns in the DataFrame\n",
    "for f in flux_cols_for_plots:\n",
    "    filt = f.split('_')[-1]\n",
    "    Full_non_LRD_Sample[f'MAG_{filt}'] = Full_non_LRD_Sample[f].apply(convert_flux_to_magnitude)"
   ]
  },
  {
   "cell_type": "code",
   "execution_count": null,
   "id": "58026fa8-befa-41db-8829-1e0697787a36",
   "metadata": {},
   "outputs": [],
   "source": [
    "def snr_mask(DF, sn_threshold = 5):\n",
    "\n",
    "    '''\n",
    "    Function to compute the SNR of all the filters needed in Figure 4 and returning a SNR mask\n",
    "    '''\n",
    "    #computing SNR ratio of all the filters to select good quality sources\n",
    "    sn115 = DF['FLUX_F115W']/ DF['FLUXERR_F115W'] \n",
    "    sn200 = DF['FLUX_F200W']/ DF['FLUXERR_F200W'] \n",
    "    sn277 = DF['FLUX_F277W']/ DF['FLUXERR_F277W'] \n",
    "    sn356 = DF['FLUX_F356W']/ DF['FLUXERR_F356W'] \n",
    "    sn444 = DF['FLUX_F444W']/ DF['FLUXERR_F444W'] \n",
    "\n",
    "    \n",
    "    #making a mask to mask out bad data and keep the good data\n",
    "    sig = (sn115 > sn_threshold )  & (sn200 > sn_threshold ) & \\\n",
    "                (sn277 > sn_threshold ) & (sn356 > sn_threshold ) & (sn444 > sn_threshold )\n",
    "\n",
    "    return sig"
   ]
  },
  {
   "cell_type": "code",
   "execution_count": null,
   "id": "f5951c88-c7c8-4d22-9f49-4b42d83f5852",
   "metadata": {},
   "outputs": [],
   "source": [
    "#Getting SNR masks for each of the catalogs\n",
    "sig_LRD = snr_mask(close_matched_LRD_sample, sn_threshold = 5)\n",
    "sig_non_LRD = snr_mask(Full_non_LRD_Sample, sn_threshold = 5)"
   ]
  },
  {
   "cell_type": "markdown",
   "id": "40c767f3-aa74-4a03-9dd5-4c43e8c3be66",
   "metadata": {},
   "source": [
    "# Computing Colors"
   ]
  },
  {
   "cell_type": "code",
   "execution_count": null,
   "id": "30533240-86e4-49c4-8b62-1a000c10d317",
   "metadata": {},
   "outputs": [],
   "source": [
    "#Computing the magnitude differences needed for the plots for each sample\n",
    "LRD_mag_diff_277_444w = close_matched_LRD_sample.MAG_F277W.values - close_matched_LRD_sample.MAG_F444W.values\n",
    "LRD_mag_diff_115_200w = close_matched_LRD_sample.MAG_F115W.values - close_matched_LRD_sample.MAG_F200W.values\n",
    "LRD_mag_diff_277_356w = close_matched_LRD_sample.MAG_F277W.values - close_matched_LRD_sample.MAG_F356W.values\n",
    "\n",
    "non_LRD_mag_diff_277_444w = Full_non_LRD_Sample.MAG_F277W.values - Full_non_LRD_Sample.MAG_F444W.values\n",
    "non_LRD_mag_diff_115_200w = Full_non_LRD_Sample.MAG_F115W.values - Full_non_LRD_Sample.MAG_F200W.values\n",
    "non_LRD_mag_diff_277_356w = Full_non_LRD_Sample.MAG_F277W.values - Full_non_LRD_Sample.MAG_F356W.values"
   ]
  },
  {
   "cell_type": "code",
   "execution_count": null,
   "id": "9381d99d-399f-4908-905c-be39aade270a",
   "metadata": {},
   "outputs": [],
   "source": [
    "#Getting the aperture flux info, got this information from the Notebook 2 Example in Section 2 Aperture Fluxes\n",
    "LRD_f444_02 = primer_F444W_aperture_fluxes[close_matched_LRD_sample.Primer_Index.values,5]\n",
    "LRD_f444_04 = primer_F444W_aperture_fluxes[close_matched_LRD_sample.Primer_Index.values,8]\n",
    "\n",
    "non_LRD_f444_02 = primer_F444W_aperture_fluxes[Full_non_LRD_Sample.Primer_Index.values,5]\n",
    "non_LRD_f444_04 = primer_F444W_aperture_fluxes[Full_non_LRD_Sample.Primer_Index.values,8]"
   ]
  },
  {
   "cell_type": "code",
   "execution_count": null,
   "id": "f87137f5-eefc-4a90-8a87-c034ecee4e94",
   "metadata": {},
   "outputs": [],
   "source": [
    "#computing ratio for each of the samples\n",
    "f444_ratio_LRD = LRD_f444_04 / LRD_f444_02\n",
    "f444_ratio_non_LRD = non_LRD_f444_04 / non_LRD_f444_02"
   ]
  },
  {
   "cell_type": "code",
   "execution_count": null,
   "id": "50f8d242-198c-41c9-9460-072e5c46fd22",
   "metadata": {},
   "outputs": [],
   "source": [
    "photz_info_primer = Table.read('Photometry_module_data/primercosmos_photz_quantities_v0.3.fits')"
   ]
  },
  {
   "cell_type": "code",
   "execution_count": null,
   "id": "39b8379d-326a-4d53-abbf-71e02768d25d",
   "metadata": {},
   "outputs": [],
   "source": [
    "primer_ZA = photz_info_primer['ZA']\n",
    "primer_ZPEAK = photz_info_primer['ZPEAK']"
   ]
  },
  {
   "cell_type": "code",
   "execution_count": null,
   "id": "61c2c811-16a1-4c6d-a80c-bc710fab7ccd",
   "metadata": {},
   "outputs": [],
   "source": [
    "non_LRD_redshift_ZA = primer_ZA[Full_non_LRD_Sample.Primer_Index.values]\n",
    "non_LRD_redshift_ZPEAK = primer_ZPEAK[Full_non_LRD_Sample.Primer_Index.values]"
   ]
  },
  {
   "cell_type": "markdown",
   "id": "721b4337-0fbc-46ab-92ee-b1ad4b993362",
   "metadata": {},
   "source": [
    "# The Key Figure"
   ]
  },
  {
   "cell_type": "code",
   "execution_count": null,
   "id": "fa6123eb-ffb9-4e0e-be06-0de7e766ce41",
   "metadata": {},
   "outputs": [],
   "source": [
    "fig, ((ax1, ax2), (ax3, ax4)) = plt.subplots(2, 2, figsize = (12, 12), constrained_layout = True)\n",
    "\n",
    "ax1.scatter(LRD_mag_diff_115_200w[sig_LRD], LRD_mag_diff_277_444w[sig_LRD], \n",
    "            color = 'red', s = 50, zorder = 5)\n",
    "ax1.scatter(non_LRD_mag_diff_115_200w[sig_non_LRD] , non_LRD_mag_diff_277_444w[sig_non_LRD], \n",
    "            color = 'gray', s = 1, alpha = 0.5, rasterized = 1)\n",
    "\n",
    "ax1.plot(np.linspace(-2.5,4, 100), np.ones(100), color = 'black', linewidth = 2)\n",
    "ax1.plot(-0.5*np.ones(100), np.linspace(1, 4, 100), color = 'red', linewidth = 2)\n",
    "ax1.plot(np.ones(100), np.linspace(1, 4, 100), color = 'salmon', linewidth = 2)\n",
    "\n",
    "ax1.set_ylim(-1, 4)\n",
    "ax1.set_xlim(-2.5, 4)\n",
    "ax1.set_xlabel('F115W - F200W', fontsize = 15)\n",
    "ax1.set_ylabel('F277W - F444W', fontsize = 15)\n",
    "\n",
    "ax2.scatter(LRD_mag_diff_277_356w[sig_LRD] , LRD_mag_diff_277_444w[sig_LRD], \n",
    "            color = 'red', s = 50, zorder = 5)\n",
    "ax2.scatter(non_LRD_mag_diff_277_356w[sig_non_LRD] , non_LRD_mag_diff_277_444w[sig_non_LRD], color = 'gray', s = 1, rasterized = 1)\n",
    "\n",
    "ax2.plot(np.linspace(-1.5, 2.4, 100), np.ones(100), color = 'black', linewidth = 2)\n",
    "ax2.plot(0.75*np.ones(100), np.linspace(1, 4, 100), color = 'red', linewidth = 2)\n",
    "\n",
    "\n",
    "\n",
    "ax2.set_ylim(-1, 4)\n",
    "ax2.set_xlim(-1.5, 2.5)\n",
    "ax2.set_xlabel('F277W - F356W', fontsize = 15)\n",
    "ax2.set_ylabel('F277W - F444W', fontsize = 15)\n",
    "\n",
    "ax3.scatter(f444_ratio_LRD[sig_LRD], LRD_mag_diff_277_444w[sig_LRD], \n",
    "            color = 'red', s = 50, zorder = 5)\n",
    "ax3.scatter(f444_ratio_non_LRD[sig_non_LRD], non_LRD_mag_diff_277_444w[sig_non_LRD], color = 'gray', s = 1, rasterized = 1)\n",
    "\n",
    "ax3.plot(np.linspace(0, 4, 100), np.ones(100), color = 'black', linewidth = 2)\n",
    "ax3.plot(1.5*np.ones(100), np.linspace(1, 4, 100), color = 'red', linewidth = 2)\n",
    "\n",
    "ax3.set_ylim(-1, 4)\n",
    "ax3.set_xlim(0, 4)\n",
    "ax3.set_xlabel('F444W(R=0.4\") / F444W(R=0.2\")', fontsize = 15)\n",
    "ax3.set_ylabel('F277W - F444W', fontsize = 15)\n",
    "\n",
    "ax4.scatter(close_matched_LRD_sample.za.values[sig_LRD], LRD_mag_diff_277_444w[sig_LRD], color = 'red') \n",
    "ax4.scatter(non_LRD_redshift_ZA[sig_non_LRD], non_LRD_mag_diff_277_444w[sig_non_LRD], color = 'gray', s = 1, rasterized = 1)\n",
    "ax4.set_ylim(-1, 4)\n",
    "ax4.set_xlabel('Redshift', fontsize = 15)\n",
    "ax4.set_ylabel('F277W - F444W', fontsize = 15)\n",
    "plt.savefig('Oscars_Green_Plot.pdf', dpi = 300)\n",
    "plt.show()"
   ]
  },
  {
   "cell_type": "code",
   "execution_count": null,
   "id": "7e3dda4a-c579-4947-823e-cd2d86b71f9a",
   "metadata": {},
   "outputs": [],
   "source": []
  }
 ],
 "metadata": {
  "kernelspec": {
   "display_name": "Python 3 (ipykernel)",
   "language": "python",
   "name": "python3"
  },
  "language_info": {
   "codemirror_mode": {
    "name": "ipython",
    "version": 3
   },
   "file_extension": ".py",
   "mimetype": "text/x-python",
   "name": "python",
   "nbconvert_exporter": "python",
   "pygments_lexer": "ipython3",
   "version": "3.11.9"
  }
 },
 "nbformat": 4,
 "nbformat_minor": 5
}
