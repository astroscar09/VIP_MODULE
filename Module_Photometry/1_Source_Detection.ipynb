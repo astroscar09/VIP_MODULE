{
 "cells": [
  {
   "cell_type": "markdown",
   "id": "502f5906",
   "metadata": {},
   "source": [
    "# Notebook 1: Detecting Sources from Images"
   ]
  },
  {
   "cell_type": "markdown",
   "id": "bb399fb1",
   "metadata": {},
   "source": [
    "## Astronomical images"
   ]
  },
  {
   "cell_type": "markdown",
   "id": "eb03a8b2",
   "metadata": {},
   "source": [
    "To measure light from objects, we need to first have an image that contains those objects. Here, we will first read in an image from the JWST NGDEEP survey and plot it out. Astronomical images are usually stored in the fits format. Fits files can contain both the image itself, as well as information about the image in the file \"header\"."
   ]
  },
  {
   "cell_type": "code",
   "execution_count": null,
   "id": "e7a206a2",
   "metadata": {},
   "outputs": [],
   "source": [
    "from astropy.io import fits\n",
    "import numpy as np\n",
    "\n",
    "import matplotlib.pyplot as plt\n",
    "from astropy.visualization import ImageNormalize, ZScaleInterval\n",
    "from matplotlib.patches import Ellipse\n",
    "from astropy.wcs import WCS\n",
    "from astropy.table import Table\n",
    "from matplotlib.colors import LogNorm\n",
    "from astropy.table import join\n",
    "\n",
    "# %matplotlib notebook \n",
    "# The line above makes matplotlib plot interactive\n",
    "# If you are having a problem with javascript, just comment out this line"
   ]
  },
  {
   "cell_type": "markdown",
   "id": "0a974edf",
   "metadata": {},
   "source": [
    "### 1. Science image"
   ]
  },
  {
   "cell_type": "code",
   "execution_count": null,
   "id": "f6fb5ebd",
   "metadata": {
    "scrolled": true
   },
   "outputs": [],
   "source": [
    "# Reading in the image and header from the fits file\n",
    "sci, hdr = fits.getdata('Photometry_module_data/ngdeep_nircam_f277w_bkgsub_sci_cutout.fits.gz', header=True)"
   ]
  },
  {
   "cell_type": "code",
   "execution_count": null,
   "id": "0f3af1d7",
   "metadata": {},
   "outputs": [],
   "source": [
    "# Making the plot\n",
    "plt.figure(figsize=(6, 6))\n",
    "plt.title('Science Image')\n",
    "plt.imshow(sci, cmap='Greys', origin='lower', interpolation='none')\n",
    "plt.colorbar()\n",
    "\n",
    "plt.tight_layout()\n",
    "plt.show()"
   ]
  },
  {
   "cell_type": "markdown",
   "id": "eec1a5af",
   "metadata": {},
   "source": [
    "Oops! We can't see anything.\n",
    "\n",
    "The reason is that we haven't set the normalization scaling of the image. The normalization maps the values in the image to different colors. \n",
    "\n",
    "Here, we will create a normalization using the \"z scale\". This scaling is useful in displaying image values near its median. Note the difference in the color bar."
   ]
  },
  {
   "cell_type": "code",
   "execution_count": null,
   "id": "afe2869b",
   "metadata": {},
   "outputs": [],
   "source": [
    "# First, we create a normalization using the z scale to help visualize the image better\n",
    "# Note that the area outside our pointing has values=0, so we exclude these pixels when\n",
    "# calculating the normalization\n",
    "norm = ImageNormalize(sci[sci!=0], interval=ZScaleInterval())\n",
    "\n",
    "# Making the plot\n",
    "plt.figure(figsize=(6, 6))\n",
    "plt.title('Science Image')\n",
    "plt.imshow(sci, cmap='Greys', norm=norm, origin='lower', interpolation='none')\n",
    "plt.colorbar()\n",
    "\n",
    "plt.tight_layout()\n",
    "plt.show()"
   ]
  },
  {
   "cell_type": "markdown",
   "id": "856d0826",
   "metadata": {},
   "source": [
    "Congratulations! This is the most basic way to visualize an image. Feel free to zoom in and pan around to inspect different features in there.\n"
   ]
  },
  {
   "cell_type": "markdown",
   "id": "e4a42308",
   "metadata": {},
   "source": [
    "### 2. World Coordinate System\n",
    "You may wonder what the values on the axis labels mean. They are simply the number of pixels along the axes of the image, also known as \"pixel coordinates\". For example, (101, 201) means the pixel on the 100th row and 200th column.\n",
    "\n",
    "Each pixel on the image corresponds to a different position on the sky. The transformation for how to convert pixels to coordinates on the sky is described in the World Coordinate System (WCS). Next, we read in the WCS from the header."
   ]
  },
  {
   "cell_type": "code",
   "execution_count": null,
   "id": "d04e8bf1",
   "metadata": {},
   "outputs": [],
   "source": [
    "wcs = WCS(hdr)\n",
    "wcs"
   ]
  },
  {
   "cell_type": "markdown",
   "id": "663d992b",
   "metadata": {},
   "source": [
    "CRVAL is the \"sky coordinates\" of the reference pixel in the image.\n",
    "\n",
    "CRPIX in the \"pixel coordinates\" of the reference pixel in the image.\n",
    "\n",
    "CDELT is the angular size of each pixel in the image in degrees.\n",
    "\n",
    "NAXIS is the number of pixels in the horizontal and vertical axes of the image.\n",
    "\n",
    "Next, we can plot the image in its sky coordinates using WCS projection."
   ]
  },
  {
   "cell_type": "code",
   "execution_count": null,
   "id": "a863bf52",
   "metadata": {},
   "outputs": [],
   "source": [
    "plt.figure(figsize=(6, 6))\n",
    "plt.subplot(projection=wcs) # Turn on WCS projection\n",
    "plt.title('Science Image')\n",
    "plt.imshow(sci, cmap='Greys', norm=norm, origin='lower', interpolation='none')\n",
    "plt.show()\n"
   ]
  },
  {
   "cell_type": "markdown",
   "id": "c6c1e817",
   "metadata": {},
   "source": [
    "### 3. Error and weight maps\n",
    "\n",
    "The science image we just plotted contained the measured fluxes. There are other data products that contain other important information about the science image. These include the error image and weight image, a.k.a. the error map and weight map.\n",
    "\n",
    "The error map contains the uncertainty of the science image at each pixel. The sources of error include fluctuations of the light from the \"background\", as well as fluctuation of the light from the sources. This is important in the following steps.\n",
    "\n",
    "The weight map tells you the \"weight\" of each pixel. The weight is mostly proportional to the exposure time spent on that pixel. A longer exposure time will give a longer weight."
   ]
  },
  {
   "cell_type": "code",
   "execution_count": null,
   "id": "9dc3b5cb",
   "metadata": {},
   "outputs": [],
   "source": [
    "wht = fits.getdata('Photometry_module_data/ngdeep_nircam_f277w_bkgsub_wht_cutout.fits.gz')\n",
    "err = fits.getdata('Photometry_module_data/ngdeep_nircam_f277w_bkgsub_err_cutout.fits.gz')"
   ]
  },
  {
   "cell_type": "markdown",
   "id": "2b0cd0d4",
   "metadata": {},
   "source": [
    "We can create a \"mask\" to denote areas we do NOT want to use in our photometry. This includes regions where we have no exposure time, or zero weights in the weight map."
   ]
  },
  {
   "cell_type": "code",
   "execution_count": null,
   "id": "b40486c1",
   "metadata": {},
   "outputs": [],
   "source": [
    "mask = wht==0"
   ]
  },
  {
   "cell_type": "markdown",
   "id": "e5d97c5d",
   "metadata": {},
   "source": [
    "Generally speaking, the weight map is proportional to the inverse variance of the background noise of the image, i.e. $w \\propto 1/\\sigma^2$.\n",
    "\n",
    "The reason is as follows.\n",
    "\n",
    "Assume the exposure time is $t$. Over that time, the number of background photons collected, or counts, is $N \\propto t$.\n",
    "\n",
    "Photon noise follows Poisson error, which means the error in the counts is $\\Delta N = \\sqrt N$, which is $\\propto \\sqrt t$.\n",
    "\n",
    "The \"count rate\" or \"flux\" is defined as $f = N/t$.\n",
    "\n",
    "The error in the flux is then $\\Delta f = \\Delta N / t = \\sqrt N / t$. As $N \\propto t$, we can rewrite this as $\\Delta f \\propto \\sqrt t / t \\propto 1/\\sqrt t$.\n",
    "\n",
    "Now, recall the weight is proportional to exposure time, i.e. $w \\propto t$.\n",
    "\n",
    "Voila! The flux error is proportional to $1/ \\sqrt w$, or $w \\propto 1/ \\Delta f ^2$\n",
    "\n",
    "Next, we create a background error map using the weight map. Note that this background error map is different from the general error map we just read in. The background error map only contains the error from the fluctuation of the background light. The general error map contains both the former and the error from the fluctuation of the source light."
   ]
  },
  {
   "cell_type": "code",
   "execution_count": null,
   "id": "40adcce0",
   "metadata": {},
   "outputs": [],
   "source": [
    "# Create a background error map from the weight\n",
    "wht2rms = 1/np.sqrt(wht)"
   ]
  },
  {
   "cell_type": "markdown",
   "id": "220ce7c9",
   "metadata": {},
   "source": [
    "We have created a background error map using $\\Delta f \\propto 1/\\sqrt w$. We then need to find the proportionality constant for the background error map, i.e. the value of $C$ in $\\Delta f = C / \\sqrt w$. We do this by finding the average ratio of the general error map to $1 / \\sqrt w$ map, then we can scale $1 / \\sqrt w$ by this number to reach the correct error level.\n",
    "\n",
    "Recall that the general error map contains both fluctuations from sources and the background, and we only want the latter. In pixels where there are no sources, it will only contain the background error. Since the majority of the sky is empty space, taking a median will remove the contribution from source pixels.\n",
    "\n",
    "We can take the median of ratio of the general error map to the $1 / \\sqrt w$ map to estimate correct proportionality constant to calculate the error of the sky background."
   ]
  },
  {
   "cell_type": "code",
   "execution_count": null,
   "id": "deb5d89e",
   "metadata": {},
   "outputs": [],
   "source": [
    "# Find proportionality constant by taking the median of the ratio bewteen \n",
    "# the general error map and the background error map\n",
    "err_fac = np.median(err[~mask] / wht2rms[~mask])\n",
    "print(err_fac)"
   ]
  },
  {
   "cell_type": "code",
   "execution_count": null,
   "id": "68203cac",
   "metadata": {},
   "outputs": [],
   "source": [
    "# Apply the proportionality constant\n",
    "wht2rms *= err_fac"
   ]
  },
  {
   "cell_type": "markdown",
   "id": "431195c3",
   "metadata": {},
   "source": [
    "Let's plot out the images to see what they look like. You can see that the general error map conatins higher values at the positions of sources, but the background error map doesn't."
   ]
  },
  {
   "cell_type": "code",
   "execution_count": null,
   "id": "8a9ff837",
   "metadata": {},
   "outputs": [],
   "source": [
    "norm = ImageNormalize(sci[mask==0], interval=ZScaleInterval())\n",
    "\n",
    "plt.figure(figsize=(9, 9))\n",
    "plt.subplot(221)\n",
    "plt.title('Science Image')\n",
    "plt.imshow(sci, cmap='Greys', norm=norm, origin='lower', interpolation='none')\n",
    "\n",
    "plt.subplot(222)\n",
    "plt.title('General Error Image')\n",
    "plt.imshow(err, cmap='Greys', norm=norm, origin='lower', interpolation='none')\n",
    "\n",
    "plt.subplot(223)\n",
    "plt.title('Weight Image')\n",
    "plt.imshow(wht, cmap='Greys', origin='lower', interpolation='none')\n",
    "\n",
    "plt.subplot(224)\n",
    "plt.title('Background Error Image')\n",
    "plt.imshow(wht2rms, cmap='Greys', norm=norm, origin='lower', interpolation='none')\n",
    "\n",
    "plt.tight_layout()\n",
    "plt.show()"
   ]
  },
  {
   "cell_type": "markdown",
   "id": "f0adde52",
   "metadata": {},
   "source": [
    "The background error map is what we need when we move on to detecting sources in the next step.\n",
    "\n",
    "To detect sources, we look for pixels where the flux is substantially higher than the background error. If we use the general error map instead, positions with sources will have a higher error, making it more difficult to detect the sources."
   ]
  },
  {
   "cell_type": "markdown",
   "id": "42834b2d",
   "metadata": {},
   "source": [
    "## Source detection and photometry"
   ]
  },
  {
   "cell_type": "markdown",
   "id": "c83bc290",
   "metadata": {},
   "source": [
    "Once we have all the science, error and weight images, we can work on detecting sources and measuring fluxes from them."
   ]
  },
  {
   "cell_type": "code",
   "execution_count": null,
   "id": "7ef96693",
   "metadata": {},
   "outputs": [],
   "source": [
    "from astropy.convolution import convolve\n",
    "from photutils.segmentation import detect_sources\n",
    "from photutils.segmentation import deblend_sources\n",
    "from photutils.segmentation import SourceFinder\n",
    "from photutils.segmentation import SourceCatalog\n",
    "from photutils.aperture import CircularAperture\n",
    "from photutils.aperture import aperture_photometry\n"
   ]
  },
  {
   "cell_type": "markdown",
   "id": "1e23f7fe",
   "metadata": {},
   "source": [
    "### 1. Preprocessing the image"
   ]
  },
  {
   "cell_type": "markdown",
   "id": "16ab9899",
   "metadata": {},
   "source": [
    "Usually, we will slightly smooth the science image to improve source detection. This will smooth out noise fluctuations and make real sources stand out.\n",
    "\n",
    "To do this, we apply a convolution kernel to the image. This means that the flux in each pixle is \"spread out\" to the neighboring pixels following the kernel, making the image smoother."
   ]
  },
  {
   "cell_type": "code",
   "execution_count": null,
   "id": "b0afb096",
   "metadata": {},
   "outputs": [],
   "source": [
    "# Create a convolution kernel\n",
    "conv = np.array([[0.000000,0.220000,0.480000,0.220000,0.000000],\n",
    "                 [0.220000,0.990000,1.000000,0.990000,0.220000],\n",
    "                 [0.480000,1.000000,1.000000,1.000000,0.480000],\n",
    "                 [0.220000,0.990000,1.000000,0.990000,0.220000],\n",
    "                 [0.000000,0.220000,0.480000,0.220000,0.000000]])\n",
    "conv"
   ]
  },
  {
   "cell_type": "code",
   "execution_count": null,
   "id": "bcfb9ef1",
   "metadata": {},
   "outputs": [],
   "source": [
    "# Convolve science image with convolution kernel\n",
    "sci_conv = convolve(sci, conv)"
   ]
  },
  {
   "cell_type": "markdown",
   "id": "8128a207",
   "metadata": {},
   "source": [
    "Let's plot out the raw and convolved science images to see the difference."
   ]
  },
  {
   "cell_type": "code",
   "execution_count": null,
   "id": "8043427f",
   "metadata": {},
   "outputs": [],
   "source": [
    "# Plot out raw and convolved science images\n",
    "plt.figure(figsize=(9, 4.5))\n",
    "plt.subplot(121)\n",
    "plt.title('Science Image')\n",
    "plt.imshow(sci, cmap='Greys', norm=norm, origin='lower', interpolation='none')\n",
    "\n",
    "plt.subplot(122)\n",
    "plt.title('Convolved science Image')\n",
    "plt.imshow(sci_conv, cmap='Greys', norm=norm, origin='lower', interpolation='none')\n",
    "\n",
    "plt.tight_layout()\n",
    "plt.show()"
   ]
  },
  {
   "cell_type": "markdown",
   "id": "99b8b7ea",
   "metadata": {},
   "source": [
    "### 2. Source detection"
   ]
  },
  {
   "cell_type": "markdown",
   "id": "8a97d123",
   "metadata": {},
   "source": [
    "Now we can detect sources in the convolved image! Source detection is the process of finding positions in the image where there is significant emission from objects. The basic principles of detecting sources are as follows.\n",
    "\n",
    "(1) Compare the science image with the background error map. <br>\n",
    "(2) Select pixels where the flux is higher than the background error by a factor of $\\texttt{thresh}$. We'll call them \"significant pixels\".  <br>\n",
    "(3) Find areas where more than $\\texttt{minarea}$ significant pixels are connected together.  <br>\n",
    "\n",
    "This gives us regions of significant fluxes where at least $\\texttt{minarea}$ connected pixels are higher than the background by a factor of $\\texttt{thresh}$. \n",
    "\n",
    "We can change $\\texttt{thresh}$ and $\\texttt{minarea}$ when working with different data sets, as different images will have different properties. Higher $\\texttt{thresh}$ and $\\texttt{minarea}$ will yield fewer but more significant sources, while lower values will yield a larger number of less significant sources.\n",
    "\n",
    "Another step in source detection is \"deblending\". If two sources are close to each other, their light will overlap in the image, creating a large group of connected significant pixels spanning both sources.\n",
    "\n",
    "Deblending is controlled by two parameters: **deblend_cont** and **deblend_nthresh**. **deblend_cont** is a number between 0 and 1. The smaller the number, the more aggresively the deblending will be, i.e., the source will be separating into more components. **deblend_cont** =1 will mean no deblending is performed. **deblend_nthresh** is somewhat less important. A value of 32 will usually work.\n",
    "\n",
    "Again, these parameters should be changed when working with different images. There are no optimal parameters that will work for all images. Some experimenting is needed to find the best values that work for your data set.\n",
    "\n",
    "We will use the **photutils** package to perform source detection here. Some other source detection and/or photometry packages or software include $\\texttt{SourceExtractor}$ and $\\texttt{SEP}$."
   ]
  },
  {
   "cell_type": "code",
   "execution_count": null,
   "id": "623fecb8",
   "metadata": {},
   "outputs": [],
   "source": [
    "# We perform source detection using photutils\n",
    "\n",
    "thresh = 1.6\n",
    "minarea = 5\n",
    "deblend_cont = 0.01\n",
    "deblend_nthresh = 32\n",
    "\n",
    "# Function that sets up the criteria for selecting sources in our image\n",
    "finder = SourceFinder(npixels=minarea, nlevels=deblend_nthresh, contrast=deblend_cont)\n",
    "\n",
    "# Function that actually finds the sources in the imaging and we are finding\n",
    "# sources that have fluxes greater than 1.6 times the background error fluxes\n",
    "segment_map = finder(sci_conv, thresh*wht2rms)\n"
   ]
  },
  {
   "cell_type": "markdown",
   "id": "c3cd852b",
   "metadata": {},
   "source": [
    "It creates a \"segmentation map\", which labels the regions of connected significant pixels attributed to the sources detected."
   ]
  },
  {
   "cell_type": "code",
   "execution_count": null,
   "id": "aa597e24",
   "metadata": {},
   "outputs": [],
   "source": [
    "fig, (ax1, ax2) = plt.subplots(1, 2, figsize=(9,4.5))\n",
    "\n",
    "ax1.imshow(sci_conv, origin='lower', cmap='Greys', norm=norm, interpolation='none')\n",
    "ax1.set_title('Data')\n",
    "\n",
    "ax2.imshow(segment_map, origin='lower', cmap=segment_map.cmap, interpolation='none')\n",
    "ax2.set_title('Segmentation Image')\n",
    "\n",
    "plt.tight_layout()\n",
    "plt.show()"
   ]
  },
  {
   "cell_type": "markdown",
   "id": "f71c40bf",
   "metadata": {},
   "source": [
    "### 3. Photometry"
   ]
  },
  {
   "cell_type": "markdown",
   "id": "dd286b60",
   "metadata": {},
   "source": [
    "Source detection gives us a list of positions where there are sources. We then perform photometry on these sources, which is the process of measuring the amount of light emitted by these sources.\n",
    "\n",
    "A common method to do so is aperture photometry. The basic concept of aperture photometry is to draw a circular or elliptical aperture around the souce position, and sum up the flux contained therein.\n",
    "\n",
    "The most basic form of aperture photometry is using circular apertures of fixed radii. While this is simple, a drawback is that different sources have different sizes and shapes. So circular apertures of fixed radii will capture different fraction of light from different sources.\n",
    "\n",
    "A more advance form of aperture photometry uses the Kron aperture. Kron et al. (1980) outlines a method to compute elliptical apertures depending on the actual size and shape of the source, aiming to capture a more uniform fraction of light in the aperture for a wide range of sources.\n",
    "\n",
    "This is be easily done using $\\texttt{photutils}$."
   ]
  },
  {
   "cell_type": "code",
   "execution_count": null,
   "id": "4013c0ea",
   "metadata": {},
   "outputs": [],
   "source": [
    "cat = SourceCatalog(data=sci, segment_img=segment_map, convolved_data=sci_conv, error=err, wcs=wcs)\n",
    "print(cat)"
   ]
  },
  {
   "cell_type": "code",
   "execution_count": null,
   "id": "fabce39d",
   "metadata": {
    "scrolled": true
   },
   "outputs": [],
   "source": [
    "# Make an astropy table from the results and list the columns\n",
    "### This may take a few seconds to run ###\n",
    "\n",
    "tbl = cat.to_table()\n",
    "print(tbl.columns)\n"
   ]
  },
  {
   "cell_type": "markdown",
   "id": "62031bab",
   "metadata": {},
   "source": [
    "Next, lets plot out the sources and see where they are in the image. It will look a bit crowded. When you zoom in, it will make a lot more sense.\n",
    "\n",
    "At this step, we want to check two things. (1) Are there sources in the image that are visible by your eyes, but not detected? (2) Are there places where a sources is detected but you don't see anything in the image?\n",
    "\n",
    "If the former is true, go back and try decreasing $\\texttt{thresh}$ and/or $\\texttt{minarea}$. If the latter is true, try increasing the values.\n",
    "\n",
    "Also, check for the quality of deblending. If a source is divided into too many components, try increasing $\\texttt{deblend_cont}$. If sources are not deblended enough, trying lower the value instead."
   ]
  },
  {
   "cell_type": "code",
   "execution_count": null,
   "id": "4e0faf47",
   "metadata": {},
   "outputs": [],
   "source": [
    "### This may take a few seconds to run ###\n",
    "\n",
    "fig, (ax1, ax2) = plt.subplots(1, 2, figsize=(9, 4.5))\n",
    "\n",
    "ax1.imshow(sci, origin='lower', cmap='Greys', norm=norm, interpolation='none')\n",
    "ax1.set_title('Data')\n",
    "\n",
    "ax2.imshow(segment_map, origin='lower', cmap=segment_map.cmap, interpolation='none')\n",
    "ax2.set_title('Segmentation Image')\n",
    "\n",
    "cat.plot_kron_apertures(ax=ax1, color='C3', lw=1.5)\n",
    "cat.plot_kron_apertures(ax=ax2, color='C3', lw=1.5)\n",
    "\n",
    "plt.tight_layout()\n",
    "plt.show()"
   ]
  },
  {
   "cell_type": "markdown",
   "id": "f2abe1dc",
   "metadata": {},
   "source": [
    "Let's print out the fluxes extracted using Kron aperture."
   ]
  },
  {
   "cell_type": "code",
   "execution_count": null,
   "id": "b00d8a29",
   "metadata": {},
   "outputs": [],
   "source": [
    "tbl['kron_flux']"
   ]
  },
  {
   "cell_type": "markdown",
   "id": "1681411d",
   "metadata": {},
   "source": [
    "We can also use $\\texttt{photutils}$ to perform circular aperture photometry."
   ]
  },
  {
   "cell_type": "code",
   "execution_count": null,
   "id": "20d50cf8",
   "metadata": {},
   "outputs": [],
   "source": [
    "# The CiruclarAperture class in photutils take input of positions as \n",
    "# numpy arrays of (x, y) pairs, so we create an array of pairs here.\n",
    "\n",
    "positions = np.array([tbl['xcentroid'], tbl['ycentroid']]).T\n",
    "\n",
    "# Note the .T at the end to transpose [[x1, x2, ..., xn], [y1, y2, ..., yn]]\n",
    "# into [[x1, y1], [x2, y2], ..., [xn, yn]]\n"
   ]
  },
  {
   "cell_type": "code",
   "execution_count": null,
   "id": "10a1ce4d",
   "metadata": {},
   "outputs": [],
   "source": [
    "# This creates a single aperture for each source with radius of 5 pixels\n",
    "aperture = CircularAperture(positions, r=5)\n"
   ]
  },
  {
   "cell_type": "code",
   "execution_count": null,
   "id": "68a82c65",
   "metadata": {},
   "outputs": [],
   "source": [
    "# This creates a list of apertures for each source with radii of 2, 4, 6, 8, 10 pixels\n",
    "apertures = [CircularAperture(positions, r=r) for r in [2, 4, 6, 8, 10]]\n"
   ]
  },
  {
   "cell_type": "code",
   "execution_count": null,
   "id": "6b861ae0",
   "metadata": {},
   "outputs": [],
   "source": [
    "# Perform aperture photometry. It will return the output in an astropy table\n",
    "### This may take a few seconds to run ###\n",
    "\n",
    "phot_table = aperture_photometry(sci, apertures)\n",
    "phot_table\n"
   ]
  },
  {
   "cell_type": "markdown",
   "id": "6c2f177b",
   "metadata": {},
   "source": [
    "### 4. Half-light radius"
   ]
  },
  {
   "cell_type": "markdown",
   "id": "fa9d73fa",
   "metadata": {},
   "source": [
    "An important quantity in photometry is the \"half-light radius\". It is the radius that conatins half of the light of a source. This quantifies how extended a source is.\n",
    "\n",
    "$\\texttt{photutils}$ has a function **fluxfrac_radius** to do this. It calculates the radius that contains a given fraction of light of the source. When set to 0.5, it gives the half-light radius."
   ]
  },
  {
   "cell_type": "code",
   "execution_count": null,
   "id": "92566f0a",
   "metadata": {},
   "outputs": [],
   "source": [
    "# Add the half-light radius to the catalog table\n",
    "tbl['rh'] = cat.fluxfrac_radius(0.5)"
   ]
  },
  {
   "cell_type": "markdown",
   "id": "eea6fe1b",
   "metadata": {},
   "source": [
    "### 5. Photometric catalog"
   ]
  },
  {
   "cell_type": "markdown",
   "id": "a998a752",
   "metadata": {},
   "source": [
    "After we have our photometry, we will write the results in a catalog.\n",
    "\n",
    "Before doing so, we make some minor formatting changes to the catalog. By default, $\\texttt{photutils}$ gives sky coordaintes in the format of $\\texttt{astropy}$ $\\texttt{SkyCoord}$ objects. "
   ]
  },
  {
   "cell_type": "code",
   "execution_count": null,
   "id": "84241e0a",
   "metadata": {},
   "outputs": [],
   "source": [
    "tbl['sky_centroid']"
   ]
  },
  {
   "cell_type": "markdown",
   "id": "4dd9a457",
   "metadata": {},
   "source": [
    "However, if this is written to a file in text or fits format, it will simply be converted to a string, losing its $\\texttt{SkyCoord}$ properties. So we will just extract the RA and Dec and write them as floats in two columns."
   ]
  },
  {
   "cell_type": "code",
   "execution_count": null,
   "id": "ff9c2383",
   "metadata": {},
   "outputs": [],
   "source": [
    "tbl['ra'] = tbl['sky_centroid'].ra\n",
    "tbl['dec'] = tbl['sky_centroid'].dec\n",
    "tbl.remove_column('sky_centroid')"
   ]
  },
  {
   "cell_type": "markdown",
   "id": "971117f2",
   "metadata": {},
   "source": [
    "We will also add the circular aperture results in the catalog using the $\\texttt{astropy.table.join}$ function."
   ]
  },
  {
   "cell_type": "code",
   "execution_count": null,
   "id": "314957a1",
   "metadata": {},
   "outputs": [],
   "source": [
    "tbl = join(tbl, phot_table, keys_left='label', keys_right='id')\n",
    "\n",
    "# Remove some redundant columns\n",
    "tbl.remove_columns(['xcenter', 'ycenter', 'label'])"
   ]
  },
  {
   "cell_type": "markdown",
   "id": "4c35c9b4",
   "metadata": {},
   "source": [
    "This is our final photometric catalog!"
   ]
  },
  {
   "cell_type": "code",
   "execution_count": null,
   "id": "6913f626",
   "metadata": {},
   "outputs": [],
   "source": [
    "tbl"
   ]
  },
  {
   "cell_type": "markdown",
   "id": "143dd82e",
   "metadata": {},
   "source": [
    "If everything looks right, we will write it out!"
   ]
  },
  {
   "cell_type": "code",
   "execution_count": null,
   "id": "bd42e2fc",
   "metadata": {
    "scrolled": true
   },
   "outputs": [],
   "source": [
    "# Write catalog in fits format\n",
    "tbl.write('source_catalog.fits', overwrite=True)"
   ]
  },
  {
   "cell_type": "code",
   "execution_count": null,
   "id": "55b9df72",
   "metadata": {},
   "outputs": [],
   "source": [
    "# We can also write it in ascii format\n",
    "tbl.write('source_catalog.txt', format='ascii', overwrite=True)"
   ]
  },
  {
   "cell_type": "code",
   "execution_count": null,
   "id": "24167c25",
   "metadata": {},
   "outputs": [],
   "source": []
  }
 ],
 "metadata": {
  "kernelspec": {
   "display_name": "Python 3 (ipykernel)",
   "language": "python",
   "name": "python3"
  },
  "language_info": {
   "codemirror_mode": {
    "name": "ipython",
    "version": 3
   },
   "file_extension": ".py",
   "mimetype": "text/x-python",
   "name": "python",
   "nbconvert_exporter": "python",
   "pygments_lexer": "ipython3",
   "version": "3.11.9"
  }
 },
 "nbformat": 4,
 "nbformat_minor": 5
}
