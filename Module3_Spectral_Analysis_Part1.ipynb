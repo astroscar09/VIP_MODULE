{
 "cells": [
  {
   "cell_type": "markdown",
   "id": "7ecb5dac",
   "metadata": {},
   "source": [
    "# Module 3: Introduction to Analyzing Spectra\n",
    "\n",
    "This module will showcase some of the techniques that we use to analyze spectra. Things that we will go over in this notebook are:\n",
    "\n",
    "1. How to compute the redshift of a source\n",
    "2. How to fit a continuum to the spectrum\n",
    "3. How to measure Emission Lines\n",
    "4. How to fit multi-component models\n",
    "\n"
   ]
  },
  {
   "cell_type": "code",
   "execution_count": 1,
   "id": "519588c8",
   "metadata": {},
   "outputs": [],
   "source": [
    "import numpy as np\n",
    "import pandas as pd\n",
    "import matplotlib.pyplot as plt\n",
    "import seaborn as sb\n",
    "from scipy.signal import medfilt\n",
    "from astropy.io import fits\n",
    "from astropy.table import Table\n",
    "from astropy import units as u\n",
    "\n",
    "plt.rcParams['axes.linewidth'] = 1.5\n",
    "plt.rcParams[\"font.family\"] = \"serif\"\n",
    "plt.rcParams[\"font.size\"] = 15"
   ]
  },
  {
   "cell_type": "markdown",
   "id": "69356144",
   "metadata": {},
   "source": [
    "# Introduction to Spectral Analysis\n",
    "\n",
    "When we are looking at any astronomical object what we are relaly doing is studying the light from that object. The light we recieve provides us with invaluable information about the chemical composition, the strength of the ionization field that leads to emission lines, as well as information about the dust properties within a galaxy and so much more. When we are studying galaxies, in escense, what we are studying is the summation of all the stars that make up the galaxy as well as all the post processing of that light through dust and gas. \n",
    "\n",
    "## How do we take a Spectrum\n",
    "\n",
    "Typically when we take a spectra, we apply what is called a mask. You can think of this mask as being a small little rectangular box that acquires the light from a source. The image below shows an example of this using the NIRSpec instrument on JWST. With the rectangle shown where the spectrograph is getting the light from the galaxy.\n",
    "\n",
    "![alt text](shutter.png \"Shutter\")\n",
    "\n",
    "The light from the galaxy enters the box or $\\textbf{slit}$ and then it encounters a disperser that spreads out the light at different wavelength. At each wavelength we measure the amount of photons that hit the detector and there are certain wavelength that have more strength than the surrounding area and these areas are typically called $\\textbf{Emission Line}$. These Emission Lines come from the recombination of atoms in the galaxy providing a boost in signal at specific wavelengths. You can also see a reduction in flux from the surrounding areas and this is what is called $\\textbf{Absorption Lines}$. The Absorption Lines typically come about when light from stars encounters relatively cool gas, that gas then absorbs the light and moves the atom to an excited state, and when it decays back to the ground state the light is emitted in a random direction which, most of the time, removes the light from our line of sight. \n",
    "\n",
    "When the light encounters our detector this is done on a 2D Charge-Coupled Device or CCD, so when we get the spectra it is not a 1D spectra that we are all familiar with but a 2D spectra as seen below:\n",
    "\n",
    "\n",
    "![alt text](spectrum.png \"Spectrum\")\n"
   ]
  },
  {
   "cell_type": "markdown",
   "id": "18bfb3a6",
   "metadata": {},
   "source": [
    "\n",
    "The top panel of this plot is that 2D spectra that is encoded into the CCD and then we go in and apply some code to extract the 1D-spectra that we see below. This is due to summing up the flux along the columns and collapsing this 2D-array into a 1D-Array.\n",
    "\n",
    "## Spectral Resolution\n",
    "\n",
    "One of the most important aspect of a spectroscopic instrument is the resolution. You can think of the resolution of an instrument as how finely separated are two neighboring wavelengths. The higher the resolution the smaller the spacing between neighboring wavelengths. This is super important if you need to be able to resolve doublets, which are two emission lines in very close proximity. If the resolution is really low you can imaging that doublets would actually look like one line instead of two. There are ways to fit emission lines with multi-Gaussian when the resolution is low and back out information, with some assumption, which we will cover in the end of the notebook.\n",
    "You can see an example of the difference that resolution makes in the following image where with a higher resolution spectra you can really make out the individual emission features where if you have a lower resolution spectra the lines can blur together and gaining information from that spectra is more difficult, but not impossible.\n",
    "\n",
    "![alt text](effect_of_resolution.jpg \"resolution\")"
   ]
  },
  {
   "cell_type": "markdown",
   "id": "b1c3b15b",
   "metadata": {},
   "source": [
    "# What does a Spectra Tell Us?\n",
    "\n",
    "1. Redshift\n",
    "\n",
    "Spectra tell us so much information. For one, we can use the spectra to find the redshift of the source. Do you see those vertical dashed lines in the 1D-spectra above? Those lines occur at a fixed wavelength and we can measure how far off those emission lines are from where they are from the rest frame and we can use the equation below to get the redshift. \n",
    "\n",
    "$z = \\lambda_{obs}/\\lambda_{rest} - 1$\n",
    "\n",
    "2. Galaxy Properties\n",
    "\n",
    "The strength of those emission lines can give us insight into the internal galaxy properties. By measuring the flux of lines across the spectra and by using certain equations we can get relevant galaxy properties like; metallicity, ionization parameter, dust content, Star Formation Rate, and more. The way that we measure the flux of an emission line is by fitting the line to a Gaussian Model as emission lines are really well modeled by a Gaussian. The integral of this Gaussian will tell you the integrated flux of this line. Depending on this line you can measure properties from this single line or you would need to measure other lines and pair this line with that to get galaxy properties. We cover in this notebook how to fit a line to a Gaussian Model and in part 2, how we can use a Bayesian model for the fitting. "
   ]
  },
  {
   "cell_type": "markdown",
   "id": "fdc396d6",
   "metadata": {},
   "source": [
    "# A Note on Units\n",
    "\n",
    "When dealing with spectra they will most likely come in two flux units $F_{\\nu}$ or $F_{\\lambda}$. The units for each of these differ slightly where in $F_{\\nu}$ the base cgs unit is $erg/s/cm^2/Hz$, other units are scaled versions of this base unit such as a Jansky (Jy for short) which is 1 $\\times$ $10^{-23}$ $erg/s/cm^2/Hz$. The typical order of magnitude for these sources is of order $10^{-30}$ - $10^{-26}$ for $erg/s/cm^2/Hz$. \n",
    "\n",
    "In $F_{\\lambda}$, the base cgs unit is $erg/s/cm^2/\\AA$. The typical order of magnitude of fluxes for spectra in these units is of order $10^{-21}$ - $10^{-16}$ in $erg/s/cm^2/\\AA$. \n",
    "\n",
    "## Converting Between the Two\n",
    "\n",
    "One of the things we will be working on in this notebook and whenever you are dealing with spectra is measuring the flux of a source for that we need the units to be in units of $erg/s/cm^2$. This means that if you are measuring fluxes, you will need to be careful about the units of the spectrum you are fitting. If you have a spectrum that is in $F_{\\nu}$ and you need to get to $F_{\\lambda}$ the way to do that is to apply the following equation:\n",
    "\n",
    "   $ F_{\\lambda} = \\frac{c}{\\lambda^2} F_{\\nu}$\n",
    "\n",
    "   Where $F_{\\nu}$ is in $erg/s/cm^2/Hz$, c is the speed of light in Angstroms/second, and $\\lambda$ is in Angstroms. \n",
    "\n",
    "To go the other way from $F_{\\lambda}$ to $F_{\\nu}$ we do the following equation:\n",
    "\n",
    "\n",
    "   $ F_{\\nu} = \\frac{\\lambda^2}{c} F_{\\lambda}$\n",
    "\n",
    "Where $F_{\\lambda}$ is in units of $erg/s/cm^2/\\AA$, c is the speed of light in Angstroms/second. If your spectrum does not have wavelengths but frequency you can always use the relation of the speed of light $c = \\lambda \\nu$ to change one of the variables to the other."
   ]
  },
  {
   "cell_type": "code",
   "execution_count": 2,
   "id": "1b1fda19",
   "metadata": {},
   "outputs": [],
   "source": [
    "def convert_Flambda_to_Fnu(wavelength, flambda):\n",
    "    \n",
    "    '''\n",
    "    Function to convert flux density from flambda to fnu.\n",
    "\n",
    "    Inputs:\n",
    "\n",
    "    wavelength: float, wavelength in Angstroms\n",
    "    flambda: float, flux density in erg/s/cm^2/Angstrom\n",
    "\n",
    "    Returns:\n",
    "\n",
    "    fnu: float, flux density in erg/s/cm^2/Hz\n",
    "\n",
    "    '''\n",
    "\n",
    "    #speed of light in m/s\n",
    "    c_m_s = 3e8\n",
    "\n",
    "    #speed of light in Angstrom/s\n",
    "    c_AA_s = c_m_s * 1e10\n",
    "\n",
    "    #getting Fnu from Flambda\n",
    "    fnu = flambda * ((wavelength**2)/c_AA_s)\n",
    "\n",
    "    return fnu\n",
    "\n",
    "\n",
    "def convert_Fnu_to_Flambda(wavelength, fnu):\n",
    "    \n",
    "    '''\n",
    "    Function to convert flux density from flambda to fnu.\n",
    "\n",
    "    Inputs:\n",
    "\n",
    "    wavelength: float, wavelength in Angstroms\n",
    "    fnu: float, flux density in erg/s/cm^2/HZ\n",
    "\n",
    "    Returns:\n",
    "\n",
    "    fnu: float, flux density in erg/s/cm^2/Angstrom\n",
    "\n",
    "    '''\n",
    "\n",
    "    #speed of light in m/s\n",
    "    c_m_s = 3e8\n",
    "\n",
    "    #speed of light in Angstrom/s\n",
    "    c_AA_s = c_m_s * 1e10\n",
    "\n",
    "    #getting Fnu from Flambda\n",
    "    flambda = fnu * (c_AA_s / (wavelength**2))\n",
    "\n",
    "    return flambda"
   ]
  },
  {
   "cell_type": "markdown",
   "id": "9d8618d7",
   "metadata": {},
   "source": [
    "# Spectral Analysis in Python"
   ]
  },
  {
   "cell_type": "code",
   "execution_count": 105,
   "id": "73efd4a1",
   "metadata": {},
   "outputs": [
    {
     "name": "stderr",
     "output_type": "stream",
     "text": [
      "WARNING: hdu= was not specified but multiple tables are present, reading in first available table (hdu=1) [astropy.io.fits.connect]\n"
     ]
    }
   ],
   "source": [
    "#reading in the data for one of the spectra\n",
    "table = Table.read('spectra_data3.fits')\n",
    "table = table.to_pandas()"
   ]
  },
  {
   "cell_type": "code",
   "execution_count": null,
   "id": "3fae79a7",
   "metadata": {},
   "outputs": [],
   "source": [
    "print(table)"
   ]
  },
  {
   "cell_type": "code",
   "execution_count": 106,
   "id": "190ba364",
   "metadata": {},
   "outputs": [],
   "source": [
    "#We want just the flux and wavelength so we will use columns \"flux\" and \"loglam\" = log10(lambda)\n",
    "wavelength = 10**table['loglam'] #to get rid of the log we raise it to the 10th power\n",
    "flux = table['flux']"
   ]
  },
  {
   "cell_type": "code",
   "execution_count": null,
   "id": "90276349",
   "metadata": {},
   "outputs": [],
   "source": [
    "#plotting Spectrum\n",
    "plt.figure(figsize = (12, 7))\n",
    "plt.plot(wavelength, flux)\n",
    "plt.xlabel(r'Wavelength [$\\AA$]', fontsize = 15)\n",
    "plt.ylabel(r'F$_{\\lambda}$ [10$^{-17}$ erg/s/cm$^2$/$\\AA$]', fontsize = 15)\n",
    "plt.tick_params(labelsize = 14, length = 5)\n",
    "plt.show()"
   ]
  },
  {
   "cell_type": "code",
   "execution_count": 107,
   "id": "bc8a40c1",
   "metadata": {},
   "outputs": [
    {
     "data": {
      "image/png": "[encoded data removed]",
      "text/plain": [
       "<Figure size 1200x700 with 1 Axes>"
      ]
     },
     "metadata": {},
     "output_type": "display_data"
    }
   ],
   "source": [
    "#remove the rightmost noisy feature\n",
    "clip = 15\n",
    "\n",
    "wavelength, flux = wavelength[:-clip], flux[:-clip]\n",
    "\n",
    "plt.figure(figsize = (12, 7))\n",
    "plt.plot(wavelength, flux)\n",
    "plt.xlabel(r'Wavelength [$\\AA$]', fontsize = 15)\n",
    "plt.ylabel(r'F$_{\\lambda}$ [10$^{-17}$ erg/s/cm$^2$/$\\AA$]', fontsize = 15)\n",
    "plt.show()\n"
   ]
  },
  {
   "cell_type": "markdown",
   "id": "fb5471b9",
   "metadata": {},
   "source": [
    "# Step 1: Find Redshift\n",
    "\n",
    "The way we find out the redshift of the galaxy is by matching known emission or absorption features in the spectrum and seeing how far they have been shifted out of their expected rest-frame position. \n",
    "\n",
    "In this spectrum it is very noisy and so using emission features could work but it is not a typical star forming galaxy instead we will use absorption features to help us out here. Close to the 5000 Angstrom mark there is a typical feature found in cool stars called the H and K lines. We will use those lines to fit the redshift."
   ]
  },
  {
   "cell_type": "code",
   "execution_count": 108,
   "id": "d6bce045",
   "metadata": {},
   "outputs": [],
   "source": [
    "line_names = ['H', 'K']\n",
    "line_wavelengths = np.array([3968, 3934]) #rest frame wavelengths for H and K lines"
   ]
  },
  {
   "cell_type": "code",
   "execution_count": 111,
   "id": "3d27a294",
   "metadata": {},
   "outputs": [
    {
     "data": {
      "image/png": "[encoded data removed]",
      "text/plain": [
       "<Figure size 1200x700 with 1 Axes>"
      ]
     },
     "metadata": {},
     "output_type": "display_data"
    }
   ],
   "source": [
    "#input your guess for a redshift here (Hint: redshift is between 0 - 0.5)\n",
    "z = \n",
    "\n",
    "#line that redshifts the lines\n",
    "redshifted_lines = (1+z) * line_wavelengths\n",
    "\n",
    "#plotting Spectrum\n",
    "plt.figure(figsize = (12, 7))\n",
    "plt.plot(wavelength, medfilt(flux, 5))\n",
    "plt.annotate('H+K', (4650, 0))\n",
    "\n",
    "#plotting vertical lines for the spectra\n",
    "plt.axvline(redshifted_lines[0], color = 'black')\n",
    "plt.annotate(line_names[0], (redshifted_lines[0]+50, 20))\n",
    "plt.axvline(redshifted_lines[1], color = 'black')\n",
    "plt.annotate(line_names[1], (redshifted_lines[1]-200, 20))\n",
    "\n",
    "plt.xlabel(r'Wavelength [$\\AA$]', fontsize = 15)\n",
    "plt.ylabel(r'F$_{\\lambda}$ [10$^{-17}$ erg/s/cm$^2$/$\\AA$]', fontsize = 15)\n",
    "plt.show()"
   ]
  },
  {
   "cell_type": "markdown",
   "id": "2289992e",
   "metadata": {},
   "source": [
    "# 2. Fitting/Removing the Continuum\n",
    "\n",
    "The continuum holds the shape of the underlying stellar population of a galaxy but it does mess up our ability to measure the flux of a line properly so what we need to do is to somehow fit the broad shape of the continuum so that we can perform accurate line fitting. One technique is applying a broad window filter that will smooth out all the local bumps and wiggles to get the shape of the continuum. You will need to mess around with the optimal window as a window that is too small will reproduce emission and absorption features and we do not want that or a window that is too large will overly smooth so some trial and error is needed to get it just right. Also If you see prominant emission lines in your spectra it would be wise to mask them out (remove them) from the spectra when doing this continuum fitting. This spectra does not have any large emission features so we will just use the broad window filter"
   ]
  },
  {
   "cell_type": "code",
   "execution_count": 26,
   "id": "9e667c0d",
   "metadata": {},
   "outputs": [],
   "source": [
    "from scipy.signal import medfilt\n",
    "from scipy.signal import savgol_filter"
   ]
  },
  {
   "cell_type": "code",
   "execution_count": 27,
   "id": "fe64bd56",
   "metadata": {},
   "outputs": [],
   "source": [
    "#We need to specify window length try it out and see which window length works best \n",
    "#Note: Window length must be odd, and in this case will be quite big\n",
    "window = 101\n",
    "continuum_medfilt = medfilt(flux, kernel_size =int(window))\n",
    "continuum_savgol = savgol_filter(flux, window_length = int(window), polyorder = 3)"
   ]
  },
  {
   "cell_type": "code",
   "execution_count": null,
   "id": "cf50d494",
   "metadata": {},
   "outputs": [],
   "source": [
    "#plotting Spectrum\n",
    "plt.figure(figsize = (12, 7))\n",
    "plt.plot(wavelength, flux, alpha = 0.4)\n",
    "\n",
    "l1, = plt.plot(wavelength, continuum_medfilt, color = 'red')\n",
    "l2, = plt.plot(wavelength, continuum_savgol, color = 'black')\n",
    "\n",
    "\n",
    "\n",
    "plt.xlabel(r'Wavelength [$\\AA$]', fontsize = 15)\n",
    "plt.ylabel(r'F$_{\\lambda}$ [10$^{-17}$ erg/s/cm$^2$/$\\AA$]', fontsize = 15)\n",
    "\n",
    "plt.legend(handles = [l1, l2], \n",
    "           labels = ['Continuum: Medfilt', \n",
    "                     'Continuum: Savgol'], \n",
    "          fontsize = 15)\n",
    "plt.ylim(-10, 20)\n",
    "plt.show()"
   ]
  },
  {
   "cell_type": "code",
   "execution_count": 30,
   "id": "0f2fd9f8",
   "metadata": {},
   "outputs": [],
   "source": [
    "#normalizing the spectrum\n",
    "#This sets the spectra to be around a value of 1\n",
    "norm_spec_medfilt = flux/continuum_medfilt\n",
    "norm_spec_savgol = flux/continuum_savgol"
   ]
  },
  {
   "cell_type": "code",
   "execution_count": null,
   "id": "02f2c239",
   "metadata": {},
   "outputs": [],
   "source": [
    "#plotting Spectrum\n",
    "plt.figure(figsize = (12, 7))\n",
    "\n",
    "plt.plot(wavelength, norm_spec_medfilt, color = 'blue', alpha = 0.5)\n",
    "plt.plot(wavelength, norm_spec_savgol, color = 'black', alpha = 0.4)\n",
    "\n",
    "plt.xlabel(r'Wavelength [$\\AA$]', fontsize = 15)\n",
    "plt.ylabel(r'F$_{\\lambda}$ [10$^{-17}$ erg/s/cm$^2$/$\\AA$]', fontsize = 15)\n",
    "plt.ylim(0, 5)\n",
    "plt.show()"
   ]
  },
  {
   "cell_type": "markdown",
   "id": "b95d7045",
   "metadata": {},
   "source": [
    "# Another Example\n",
    "\n",
    "Let us try using our spectral analysis techniques on another galaxy. This time on a CEERS NIRSpec spectra."
   ]
  },
  {
   "cell_type": "code",
   "execution_count": null,
   "id": "fb987a31",
   "metadata": {},
   "outputs": [],
   "source": [
    "#reading in the file\n",
    "nirspec_2552 = Table.read('spectra_data1.fits')"
   ]
  },
  {
   "cell_type": "code",
   "execution_count": null,
   "id": "10801141",
   "metadata": {},
   "outputs": [],
   "source": [
    "#printing out the columns\n",
    "nirspec_2552.columns"
   ]
  },
  {
   "cell_type": "code",
   "execution_count": 34,
   "id": "f505e97a",
   "metadata": {},
   "outputs": [],
   "source": [
    "#getting the relevant data\n",
    "wavelength_nirspec, flux_nirspec = nirspec_2552['WAVELENGTH'], nirspec_2552['FLUX']\n",
    "wavelength_nirspec, flux_nirspec = np.array(wavelength_nirspec).astype(float), np.array(flux_nirspec).astype(float)"
   ]
  },
  {
   "cell_type": "code",
   "execution_count": null,
   "id": "ebd37200",
   "metadata": {},
   "outputs": [],
   "source": [
    "#plotting Spectrum\n",
    "plt.figure(figsize = (10, 5))\n",
    "\n",
    "plt.step(wavelength_nirspec, flux_nirspec, color = 'black', alpha = 0.5, where = 'mid')\n",
    "\n",
    "plt.annotate(r'H$\\alpha$', (2.6, 1.39e-6))\n",
    "\n",
    "plt.xlabel(r'Wavelength [$\\mu$m]', fontsize = 15)\n",
    "plt.ylabel('Flux [Jy]', fontsize = 15)\n",
    "plt.show()"
   ]
  },
  {
   "cell_type": "code",
   "execution_count": 36,
   "id": "802ff350",
   "metadata": {},
   "outputs": [],
   "source": [
    "#removing right-most data as that is all zeroes\n",
    "wavelength_nirspec, flux_nirspec = wavelength_nirspec[:-10], flux_nirspec[:-10]"
   ]
  },
  {
   "cell_type": "code",
   "execution_count": 37,
   "id": "70b1b192",
   "metadata": {},
   "outputs": [],
   "source": [
    "#emission lines to check the redshift of this source\n",
    "line_names = [r'H$\\beta$', '[OIII]5007', r'H$\\alpha$']\n",
    "line_wavelengths = np.array([4864, 5007, 6564])"
   ]
  },
  {
   "cell_type": "code",
   "execution_count": null,
   "id": "3fcf5e4d",
   "metadata": {},
   "outputs": [],
   "source": [
    "#input your guess for a redshift here\n",
    "#NOTE: The big peak is Halpha so try to match H-alpha to that (Hint: redshift is between 0 - 5)\n",
    "z = \n",
    "\n",
    "#line that redshifts the lines\n",
    "redshifted_lines = ((1+z) * line_wavelengths) * u.AA.to(u.micrometer)\n",
    "\n",
    "#plotting Spectrum\n",
    "plt.figure(figsize = (12, 7))\n",
    "plt.plot(wavelength_nirspec, flux_nirspec)\n",
    "\n",
    "plt.axvline(redshifted_lines[0], color = 'black')\n",
    "plt.annotate(line_names[0], (redshifted_lines[0]-0.2, 1.3e-6))\n",
    "plt.axvline(redshifted_lines[1], color = 'black')\n",
    "plt.annotate(line_names[1], (redshifted_lines[1]+0.01, 1.1e-6))\n",
    "plt.axvline(redshifted_lines[2], color = 'black')\n",
    "plt.annotate(line_names[2], (redshifted_lines[2]+0.1, 1.2e-6))\n",
    "\n",
    "plt.xlabel(r'Wavelength [$\\mu$m]', fontsize = 15)\n",
    "plt.ylabel('Flux [Jy]', fontsize = 15)\n",
    "plt.show()"
   ]
  },
  {
   "cell_type": "code",
   "execution_count": 46,
   "id": "4a2918a6",
   "metadata": {},
   "outputs": [],
   "source": [
    "#Fitting Continuum\n",
    "nirspec_medfilt = medfilt(flux_nirspec, 101)\n",
    "nirspec_savgol = savgol_filter(flux_nirspec, 101, 3)"
   ]
  },
  {
   "cell_type": "code",
   "execution_count": null,
   "id": "1cd76ae8",
   "metadata": {},
   "outputs": [],
   "source": [
    "#plotting Spectrum\n",
    "plt.figure(figsize = (12, 7))\n",
    "plt.plot(wavelength_nirspec, flux_nirspec, alpha = 0.5)\n",
    "\n",
    "plt.plot(wavelength_nirspec, nirspec_medfilt, color = 'red', label = 'Medfilt')\n",
    "plt.plot(wavelength_nirspec, nirspec_savgol, color = 'black', label = 'Savgol')\n",
    "\n",
    "plt.xlabel(r'Wavelength [$\\mu$m]', fontsize = 15)\n",
    "plt.ylabel('Flux [Jy]', fontsize = 15)\n",
    "plt.legend()\n",
    "plt.show()"
   ]
  },
  {
   "cell_type": "markdown",
   "id": "533ad328",
   "metadata": {},
   "source": [
    "# Discussion\n",
    "\n",
    "One of the things that we can see here is that medfilt seems to capture the break a bit better than the savgol filter and as a result could be a better option to use for normalization to only get emission features. Savgol also seems ot have lots of bumps in the resulting output which is not something we would want in our analysis. We want to be able to model the continuum without adding any weird features the spectrum. "
   ]
  },
  {
   "cell_type": "markdown",
   "id": "7b3044ff",
   "metadata": {},
   "source": [
    "# Fitting Emission Lines\n",
    "\n",
    "The key to working with spectra is being able to measure the line flux of an emission line. This is done by fitting a Gaussian model to the emission line. This process can be a bit more complicated if the lines are blended, meaning that what looks to be one line in the spectra is actually made up of a variety of other emission lines. In the next section we go over how to fit an emission line and slowly increase the complexity of the model and fitting routines."
   ]
  },
  {
   "cell_type": "code",
   "execution_count": 49,
   "id": "6f238245",
   "metadata": {},
   "outputs": [],
   "source": [
    "#subtract continuum for this first fitting method\n",
    "cont_sub_nirspec_flux = flux_nirspec - nirspec_medfilt"
   ]
  },
  {
   "cell_type": "code",
   "execution_count": null,
   "id": "9c2aac0c",
   "metadata": {},
   "outputs": [],
   "source": [
    "plt.figure(figsize = (10, 5))\n",
    "plt.title('Continuum Subtracted Spectrum')\n",
    "plt.plot(wavelength_nirspec, cont_sub_nirspec_flux)\n",
    "plt.xlabel(r'Wavelength [$\\mu$m]', fontsize = 15)\n",
    "plt.ylabel('Flux [Jy]', fontsize = 15)"
   ]
  },
  {
   "cell_type": "markdown",
   "id": "9763fbde",
   "metadata": {},
   "source": [
    "# Using Curve Fit\n",
    "\n",
    "Curve fit is a very powerful tool to fit any model to any kind of data. The power of curve comes from the ability to have a custom model that the user can create. The one condition for this function that the user defines is just that it has to be in the format that curve_fit expects it in. The format for this function is f(x, param1, param2, ...) where x is the first argument in the function and then the rest are the parameters you are trying to fit in any order you like. \n",
    "\n",
    "For the purpose of fitting an emission line we will be fitting a Gaussian to this and so our model will have the form:\n",
    "\n",
    "$G(x) = Ae^{\\frac{(x - \\mu)^2}{2\\sigma^2}}$\n",
    "\n",
    "Here A represents the amplitude of the Gaussian and controls the height of the Gaussian. $\\mu$ controls where the Gaussian is centered and this should correspond to the wavelength of the emission line. $\\sigma$ controls how wide the emission line is, a larger value of $\\sigma$ means a broader line. x in this example corresponds to your wavelength array. Note that the units of A, $\\mu$ and $\\sigma$ are solely determined by the data you provide curve_fit. So if the spectra is in units of Jy then the Amplitude will have units of Jy, if the wavelength inputted is in microns then $\\mu$ and $\\sigma$ will be in microns. \n",
    "\n",
    "The function curve_fit takes in some parameters and then you can customize it further with other key-word arguments. The basic input to get curve_fit to start fitting is it needs the model that you are trying to fit in the format specified above, the x and y data, and an intitial guess to start the process to finding the best fit parameters.\n",
    "\n",
    "    Inputs:\n",
    "    Model Function\n",
    "    x-data\n",
    "    y-data\n",
    "    Initial Guesses\n",
    "\n",
    "The output of curve fit will be two things, the first thing you will get back is the best fit parameter values and the second is a covariance matrix that holds the uncertainties and correlations of each of the parameters. The thing we are really after is the best fit parameters so we will not cover the covariance matrix in too much detail as we will be using more sophisticated ways of getting the error on our parameters in the upcoming notebooks.\n",
    "\n",
    "    Outputs:\n",
    "    Best Fit Parameters\n",
    "    Covariance Matrix\n",
    "\n",
    "The best fit parameters will be stored in one variable as a list and they will be in the same order as your user-defined model, so to access a certain parameter you will need to use python indexing for that. \n",
    "\n",
    "Let us code this model up in Python and use it to fit an emission line."
   ]
  },
  {
   "cell_type": "code",
   "execution_count": 66,
   "id": "70e6f211",
   "metadata": {},
   "outputs": [],
   "source": [
    "from scipy.optimize import curve_fit"
   ]
  },
  {
   "cell_type": "code",
   "execution_count": 67,
   "id": "cefe959d",
   "metadata": {},
   "outputs": [],
   "source": [
    "#defining the model for the emission line as a Gaussian\n",
    "def line_model(x, A, mu, sigma):\n",
    "    \n",
    "    '''\n",
    "    This is the model for the emission line. Only to be used on a continuum subtracted spectrum.\n",
    "    \n",
    "    Gauss = Ae^(-(x-mu)^2/2 sigma^2)\n",
    "    \n",
    "    '''\n",
    "    \n",
    "    return A*np.exp(-(x - mu)**2/(2*sigma**2))"
   ]
  },
  {
   "cell_type": "markdown",
   "id": "f11ce9fe",
   "metadata": {},
   "source": [
    "# Zooming in on the emission line\n",
    "\n",
    "If you provide curve fit with the entire x and y data of the spectrum it will use all that info in the estimation of the parameters. This is a bit much for our purposes as we are only focused on one line so we will only provide curve fit with the data around the emission line. \n",
    "\n",
    "Let us do this by looking around a window near the emission line and using only this data into curve_fit."
   ]
  },
  {
   "cell_type": "code",
   "execution_count": null,
   "id": "5927cd1c",
   "metadata": {},
   "outputs": [],
   "source": [
    "#selecting the region of the spectrum just around the emission line\n",
    "select_window = .05\n",
    "idx_line_region = np.where((redshifted_lines[-1] - select_window < wavelength_nirspec) & \\\n",
    "                            (wavelength_nirspec < redshifted_lines[-1] +select_window))\n",
    "\n",
    "plt.step(wavelength_nirspec[idx_line_region], cont_sub_nirspec_flux[idx_line_region], where = 'mid')\n",
    "plt.show()"
   ]
  },
  {
   "cell_type": "code",
   "execution_count": 69,
   "id": "dd4c896c",
   "metadata": {},
   "outputs": [],
   "source": [
    "#curve_fit requires initial guesses for it to start the fitting\n",
    "#p0 will hold the initial guess on the parameters A, mu, and sigma for the line model\n",
    "\n",
    "#      A              mu          sigma\n",
    "p0 = [8e-7, redshifted_lines[-1], .02]\n",
    "\n",
    "#code that performs the least square fitting\n",
    "popt, cov = curve_fit(line_model, #function to fit\n",
    "                      wavelength_nirspec[idx_line_region], #xdata\n",
    "                      cont_sub_nirspec_flux[idx_line_region], #ydata\n",
    "                      p0 = p0) #initial guesses"
   ]
  },
  {
   "cell_type": "code",
   "execution_count": null,
   "id": "742802b1",
   "metadata": {},
   "outputs": [],
   "source": [
    "#xarray to use for plotting the model against the data\n",
    "#Usually we do this to make the model resolution higher than the original data\n",
    "xarr = np.linspace(wavelength_nirspec[idx_line_region][0], \n",
    "                  wavelength_nirspec[idx_line_region][-1], \n",
    "                   1000)\n",
    "\n",
    "plt.figure(figsize = (10, 5))\n",
    "\n",
    "l1, = plt.step(wavelength_nirspec[idx_line_region], \n",
    "         cont_sub_nirspec_flux[idx_line_region], \n",
    "         where = 'mid')\n",
    "\n",
    "l2, = plt.plot(xarr, line_model(xarr, *popt), color = 'black')\n",
    "\n",
    "plt.legend(handles = [l1, l2], \n",
    "          labels = ['Data', \n",
    "                    'Model'], \n",
    "          fontsize = 15)\n",
    "\n",
    "plt.xlabel(r'Wavelength [$\\mu$m]', fontsize = 15)\n",
    "plt.ylabel('Flux [Jy]', fontsize = 15)\n",
    "\n",
    "plt.show()\n"
   ]
  },
  {
   "cell_type": "markdown",
   "id": "658156a9",
   "metadata": {},
   "source": [
    "# A bit more complicated model\n",
    "\n",
    "The last example showed us how we can use curve_fit to fit a Gaussian to the emission lines with the continuum subtracted, in this next example we are going to add in a bit more complexity by not removing the continuum but fitting it as well. We will do this by making the model near the emission line to be a combination of a Gaussian and a line. We use a Gaussian because that is what the line will be and the line will represent the continuum. "
   ]
  },
  {
   "cell_type": "code",
   "execution_count": null,
   "id": "66c8c152",
   "metadata": {},
   "outputs": [],
   "source": [
    "#plotting the spectrum\n",
    "plt.figure(figsize = (12, 7))\n",
    "plt.plot(wavelength_nirspec, flux_nirspec, alpha = 0.5)\n",
    "plt.xlabel(r'Wavelength [$\\mu$m]', fontsize = 15)\n",
    "plt.ylabel('Flux [Jy]', fontsize = 15)\n",
    "plt.show()"
   ]
  },
  {
   "cell_type": "code",
   "execution_count": 74,
   "id": "45d1df0b",
   "metadata": {},
   "outputs": [],
   "source": [
    "line_center = 2.69"
   ]
  },
  {
   "cell_type": "code",
   "execution_count": 75,
   "id": "1e06f7c1",
   "metadata": {},
   "outputs": [],
   "source": [
    "def continuum_model(x, m, b):\n",
    "\n",
    "    continuum = m*(x - line_center) + b  #similar to y = mx+b\n",
    "\n",
    "    return continuum\n",
    "\n",
    "def gaussian_model(x, A, mu, sigma):\n",
    "\n",
    "    gauss = A*np.exp(-(x - mu)**2/(2*sigma**2))\n",
    "\n",
    "    return gauss"
   ]
  },
  {
   "cell_type": "code",
   "execution_count": 76,
   "id": "79fbb4c8",
   "metadata": {},
   "outputs": [],
   "source": [
    "def line_plus_continuum(x, A, mu, sigma, m, b):\n",
    "    \n",
    "    '''\n",
    "    Making the line plus gaussian model to use into curve_fit. \n",
    "    \n",
    "    Model = Gaussian + line\n",
    "    Model = Ae^(-(x-mu)^2/sigma^2) + m(x - line_center) + b\n",
    "    '''\n",
    "    \n",
    "    line = gaussian_model(x, A, mu, sigma)\n",
    "    continuum = continuum_model(x, m, b)\n",
    "    \n",
    "    return line + continuum"
   ]
  },
  {
   "cell_type": "code",
   "execution_count": 77,
   "id": "4a8d62ce",
   "metadata": {},
   "outputs": [],
   "source": [
    "#As with the previous example we need an initial guess for curve_fit but now we added in two more parameters\n",
    "#so the initial guesses will be for A, mu, sigma, m, and b\n",
    "\n",
    "#.       A              mu         sigma   m  b\n",
    "p0 = [1.4e-6, redshifted_lines[-1], .02, .01, 0]\n",
    "\n",
    "popt, cov = curve_fit(line_plus_continuum, #model\n",
    "                      wavelength_nirspec[idx_line_region], #xdata\n",
    "                      flux_nirspec[idx_line_region], #ydata\n",
    "                      p0 = p0) #initial guesses"
   ]
  },
  {
   "cell_type": "code",
   "execution_count": 78,
   "id": "0007788b",
   "metadata": {},
   "outputs": [],
   "source": [
    "xarr = np.linspace(wavelength_nirspec[idx_line_region][0], \n",
    "                   wavelength_nirspec[idx_line_region][-1], \n",
    "                   1000)"
   ]
  },
  {
   "cell_type": "code",
   "execution_count": null,
   "id": "accae0a6",
   "metadata": {},
   "outputs": [],
   "source": [
    "\n",
    "continuum_line = continuum_model(xarr, popt[-2], popt[-1])\n",
    "gauss_line = gaussian_model(xarr, popt[0], popt[1], popt[2]) + continuum_line\n",
    "\n",
    "\n",
    "plt.figure(figsize = (12, 7))\n",
    "l1, = plt.step(wavelength_nirspec, flux_nirspec, alpha = 0.5, where = 'mid')\n",
    "l2, = plt.plot(xarr, line_plus_continuum(xarr, *popt), color = 'black', linestyle = '--')\n",
    "l3, = plt.plot(xarr, continuum_line, color = 'red')\n",
    "l4, = plt.plot(xarr, gauss_line, color = 'blue')\n",
    "\n",
    "plt.xlabel(r'Wavelength [$\\mu$m]', fontsize = 15)\n",
    "plt.ylabel('Flux [Jy]', fontsize = 15)\n",
    "\n",
    "plt.legend(handles = [l1, l2, l3, l4], \n",
    "          labels = ['Data', \n",
    "                    'Model', \n",
    "                    'Continuum',\n",
    "                    'Gaussian'], \n",
    "          fontsize = 15)\n",
    "\n",
    "plt.show()"
   ]
  },
  {
   "cell_type": "markdown",
   "id": "52c6285c",
   "metadata": {},
   "source": [
    "# Zooming in around the line"
   ]
  },
  {
   "cell_type": "code",
   "execution_count": null,
   "id": "0ecbdd28",
   "metadata": {},
   "outputs": [],
   "source": [
    "\n",
    "continuum_line = continuum_model(xarr, popt[-2], popt[-1])\n",
    "gauss_line = gaussian_model(xarr, popt[0], popt[1], popt[2]) + continuum_line\n",
    "\n",
    "\n",
    "plt.figure(figsize = (12, 7))\n",
    "l1, = plt.step(wavelength_nirspec, flux_nirspec, alpha = 0.5, where = 'mid')\n",
    "l2, = plt.plot(xarr, line_plus_continuum(xarr, *popt), color = 'black', linestyle = '--', zorder = 99)\n",
    "l3, = plt.plot(xarr, continuum_line, color = 'red')\n",
    "l4, = plt.plot(xarr, gauss_line, color = 'blue', zorder = 1)\n",
    "\n",
    "plt.xlabel(r'Wavelength [$\\mu$m]', fontsize = 15)\n",
    "plt.ylabel('Flux [Jy]', fontsize = 15)\n",
    "\n",
    "plt.legend(handles = [l1, l2, l3, l4], \n",
    "          labels = ['Data', \n",
    "                    'Model', \n",
    "                    'Continuum',\n",
    "                    'Gaussian'], \n",
    "          fontsize = 15)\n",
    "plt.xlim(2.6, 2.8)\n",
    "plt.show()"
   ]
  },
  {
   "cell_type": "markdown",
   "id": "7b5cb14f",
   "metadata": {},
   "source": [
    "# A bit more complicated example\n",
    "\n",
    "The last example showed how to fit both the emission line and the continuum, in this example we are going to now add in a bit more complexity by fitting multiple lines. When you did the redshift match you may have noticed that the bump leftward of Halpha is actually a combination of [OIII]5007 and Hbeta but it is actually made up of three lines as [OIII]4969 is also in there. We are going to try to fit this line with the three models to get the flux for each line individually and we will do so by making a more complicated model and take some advantages of the [OIII] lines to simplify the fitting."
   ]
  },
  {
   "cell_type": "code",
   "execution_count": 84,
   "id": "d32ae6ba",
   "metadata": {},
   "outputs": [],
   "source": [
    "def gauss_model(x, A, mu, sigma):\n",
    "    \n",
    "    '''\n",
    "    Basic Gaussian model \n",
    "    '''\n",
    "    \n",
    "    return A*np.exp(-(x-mu)**2/sigma**2)\n",
    "\n",
    "def line(x, m, b):\n",
    "    \n",
    "    '''\n",
    "    Basic Line model\n",
    "    '''\n",
    "    return m*(x - line_center)+b\n",
    "\n",
    "def model(x, A1, A2, mu1, mu2, sigma1, sigma2, m, b):\n",
    "    \n",
    "    '''\n",
    "    This will hold the models for the three gaussian plus the line model for the continuum\n",
    "    '''\n",
    "    \n",
    "    #making the hbeta model A1, mu1 and sigma1 will be the values for Hbeta\n",
    "    hbeta = gauss_model(x, A1, mu1, sigma1)\n",
    "    \n",
    "    \n",
    "    #since OIII is the same species they would be affected the same so the sigma will be the same between \n",
    "    #these two lines\n",
    "    #there is also a theoretical amplitude that is fixed A_5007/A_4969 = 3\n",
    "    #We will use this to only fit for the amplitude for the 5007 and we will scale the 4969 based off of the \n",
    "    #5007 amplitude\n",
    "    \n",
    "    oiii4969 = gauss_model(x, A2/3, mu2, sigma2)\n",
    "    oiii5007 = gauss_model(x, A2, mu2, sigma2)\n",
    "    \n",
    "    continuum = line(x, m, b)\n",
    "    \n",
    "    return hbeta+oiii4969+oiii5007+continuum"
   ]
  },
  {
   "cell_type": "code",
   "execution_count": null,
   "id": "e832e4ac",
   "metadata": {},
   "outputs": [],
   "source": [
    "#selecting the region of the spectrum just around the emission line\n",
    "select_window = .1\n",
    "idx_line_region = np.where((2.03 - select_window < wavelength_nirspec) & \\\n",
    "                            (wavelength_nirspec < 2.03 +select_window))\n",
    "\n",
    "plt.step(wavelength_nirspec[idx_line_region], flux_nirspec[idx_line_region], where = 'mid')\n",
    "plt.show()"
   ]
  },
  {
   "cell_type": "code",
   "execution_count": 92,
   "id": "512c41b9",
   "metadata": {},
   "outputs": [],
   "source": [
    "#initial guesses for the model\n",
    "\n",
    "#.     A1.   A2.       mu1                   mu2                 sigma1 sigma2   m.   b\n",
    "p0 = [1e-7, 2e-7, redshifted_lines[0],  redshifted_lines[1], .03,     .02, .4e-6, 0]\n",
    "\n",
    "#imposing some upper and lower bounds on the parameters so that they do not go to any weird values\n",
    "#this is useful if you know any priors on parameters such as Amplitudes or sigma widths\n",
    "low_bounds =  (0   ,    0, 1.95, 1.95,   0,   0, 0, -1)\n",
    "high_bounds = (8e-7, 8e-7, 2.11, 2.11, .1, .1, 10e-7, 1)\n",
    "\n",
    "popt, cov = curve_fit(model, \n",
    "                      wavelength_nirspec[idx_line_region], \n",
    "                      flux_nirspec[idx_line_region], \n",
    "                      p0 = p0, \n",
    "                      bounds = (low_bounds, high_bounds))"
   ]
  },
  {
   "cell_type": "code",
   "execution_count": null,
   "id": "5ef1d60f",
   "metadata": {},
   "outputs": [],
   "source": [
    "popt"
   ]
  },
  {
   "cell_type": "code",
   "execution_count": null,
   "id": "990adfd5",
   "metadata": {},
   "outputs": [],
   "source": [
    "xarr = np.linspace(1.8, 2.2, 1000)\n",
    "continuum_line = line(xarr, popt[-2], popt[-1])\n",
    "\n",
    "plt.figure(figsize = (10, 5))\n",
    "l1, = plt.step(wavelength_nirspec, flux_nirspec, alpha = 0.5, where = 'mid')\n",
    "l2, = plt.plot(xarr, model(xarr, *popt), color = 'black', linestyle = '--', zorder = 99)\n",
    "l3, = plt.plot(xarr, continuum_line, color = 'red')\n",
    "\n",
    "plt.xlabel(r'Wavelength [$\\mu$m]', fontsize = 15)\n",
    "plt.ylabel('Flux [Jy]', fontsize = 15)\n",
    "\n",
    "plt.legend(handles = [l1, l2, l3], \n",
    "          labels = ['Data', \n",
    "                    'Model', \n",
    "                    'Continuum'], \n",
    "          fontsize = 15)\n",
    "plt.xlim(1.9, 2.2)\n",
    "plt.ylim(.2e-6, 1e-6)\n",
    "plt.show()"
   ]
  },
  {
   "cell_type": "markdown",
   "id": "e00968a4",
   "metadata": {},
   "source": [
    "# Calculating Flux\n",
    "\n",
    "When we are fitting a gaussian to an emission line our end goal is to compute the flux of that emission line. When we use a Gaussian as our fitting function we can exploit the fact that the integral of a Gaussian from $-\\inf$ to $+\\inf$ has a nice functionl form: $A\\sigma\\sqrt{2\\pi}$. Here A is the amplitude of the Gaussian, $\\sigma$ is the standard deviation of the Gaussian. \n",
    "\n",
    "# Note on Units:\n",
    "\n",
    "Flux has units of energy/s/Area, when we work with spectra they are either in $F_{\\nu}$ or $F_{\\lambda}$ or some units that relates to these two like the Jansky. When you are trying to compute fluxes you need to ensure that the units of your amplitude and the $\\sigma$ work in such a way that you get back the units of flux which in general terms are energy/s/Area. \n",
    "\n",
    "Let look at an example where Amplitude is in $F_{\\nu}$ in Jy and the sigma is in microns. Similar to some JWST spectra you may be working with. \n",
    "\n",
    "If we take the amplitude to be $F_{\\nu}$: erg/s/cm^2/Hz and if we have sigma in microns we have the following:\n",
    "\n",
    "$F[units] = \\frac{erg}{s cm^2 Hz} * \\mu m$\n",
    "\n",
    "\n",
    "The above units **DO NOT** give back the units of flux we need as the Hz and $\\mu$m do not cancel out. Thus, you need to make sure that you convert the flux to $F_{\\lambda}$ which has units of erg/s/cm^2/Angstroms and then convert your wavelength to Angstroms. If you do this then you get the following:\n",
    "\n",
    "$F[units] = \\frac{erg}{s cm^2 \\AA} * \\AA =  \\frac{erg}{s cm^2}$\n",
    "\n",
    "The $\\AA$ cancels out between the two and then you are left with something in units of energy/s/Area which is erg/s/$cm^2$. \n",
    "\n",
    "Let us see how we can get flux from this spectra after performing the fitting by analyzing the best fit parameters and their units. "
   ]
  },
  {
   "cell_type": "code",
   "execution_count": null,
   "id": "e93a1543",
   "metadata": {},
   "outputs": [],
   "source": [
    "#popt holds the best fit parameters for the model\n",
    "#it is in the order\n",
    "#A1, A2, mu1, mu2, sigma1, sigma2, m, b\n",
    "#where A1 and sigma1 are tied to the Hbeta line\n",
    "#A2 and sigma2 are tied to the OIII lines\n",
    "#Where A2 is the amplitude of the 5007 line and we can get the amplitude of the 4960 line\n",
    "#by dividing A2 by 3 and its is in the units of the input spectrum, so in this case Jy\n",
    "#sigma of the 4960 line is the same as the 5007 line\n",
    "#mu1 and mu2 are the central wavelengths of the lines in the units of the input data\n",
    "#so in this case microns\n",
    "popt"
   ]
  },
  {
   "cell_type": "code",
   "execution_count": null,
   "id": "ea5a1e56",
   "metadata": {},
   "outputs": [],
   "source": [
    "#you can see if we naively take the Ampltude and sigma from the best fit values\n",
    "#the units do not work out to get us flux in erg/s/cm^2 since A is in Jy\n",
    "#sigma is in microns\n",
    "#We need to perform some unit conversions to get the flux in erg/s/cm^2\n",
    "flux = popt[0]*popt[2]*np.sqrt(2*np.pi)"
   ]
  },
  {
   "cell_type": "code",
   "execution_count": 101,
   "id": "3eab4b3b",
   "metadata": {},
   "outputs": [],
   "source": [
    "c = 3e18 #speed of light in Angstrom/s\n",
    "A_cgs_Hb = popt[0]*1e-23 #erg/s/cm^2/Hz\n",
    "microns_to_angstroms = popt[2]*1e4 #1e4 converts microns to Angstroms\n",
    "A_flambda = A_cgs_Hb * c/microns_to_angstroms**2\n",
    "\n",
    "flux = A_flambda * microns_to_angstroms * np.sqrt(2*np.pi)\n"
   ]
  }
 ],
 "metadata": {
  "kernelspec": {
   "display_name": "research",
   "language": "python",
   "name": "python3"
  },
  "language_info": {
   "codemirror_mode": {
    "name": "ipython",
    "version": 3
   },
   "file_extension": ".py",
   "mimetype": "text/x-python",
   "name": "python",
   "nbconvert_exporter": "python",
   "pygments_lexer": "ipython3",
   "version": "3.12.2"
  }
 },
 "nbformat": 4,
 "nbformat_minor": 5
}
